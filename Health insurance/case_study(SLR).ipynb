{
  "cells": [
    {
      "cell_type": "code",
      "execution_count": null,
      "metadata": {
        "id": "Ol_WaDWlj5VO"
      },
      "outputs": [],
      "source": [
        " import pandas as pd\n",
        "import numpy as np"
      ]
    },
    {
      "cell_type": "code",
      "execution_count": null,
      "metadata": {
        "id": "SPnabaCdj5VQ"
      },
      "outputs": [],
      "source": [
        "df = pd.read_csv('healthinsurance.csv')"
      ]
    },
    {
      "cell_type": "code",
      "execution_count": null,
      "metadata": {
        "id": "w0aPmqvlj5VS",
        "outputId": "c06071ff-9b7c-4dc7-a4a9-f6e1201f89a6"
      },
      "outputs": [
        {
          "data": {
            "text/html": [
              "<div>\n",
              "<style scoped>\n",
              "    .dataframe tbody tr th:only-of-type {\n",
              "        vertical-align: middle;\n",
              "    }\n",
              "\n",
              "    .dataframe tbody tr th {\n",
              "        vertical-align: top;\n",
              "    }\n",
              "\n",
              "    .dataframe thead th {\n",
              "        text-align: right;\n",
              "    }\n",
              "</style>\n",
              "<table border=\"1\" class=\"dataframe\">\n",
              "  <thead>\n",
              "    <tr style=\"text-align: right;\">\n",
              "      <th></th>\n",
              "      <th>age</th>\n",
              "      <th>sex</th>\n",
              "      <th>weight</th>\n",
              "      <th>bmi</th>\n",
              "      <th>hereditary_diseases</th>\n",
              "      <th>no_of_dependents</th>\n",
              "      <th>smoker</th>\n",
              "      <th>city</th>\n",
              "      <th>bloodpressure</th>\n",
              "      <th>diabetes</th>\n",
              "      <th>regular_ex</th>\n",
              "      <th>job_title</th>\n",
              "      <th>claim</th>\n",
              "    </tr>\n",
              "  </thead>\n",
              "  <tbody>\n",
              "    <tr>\n",
              "      <th>0</th>\n",
              "      <td>60.0</td>\n",
              "      <td>male</td>\n",
              "      <td>64</td>\n",
              "      <td>24.3</td>\n",
              "      <td>NoDisease</td>\n",
              "      <td>1</td>\n",
              "      <td>0</td>\n",
              "      <td>NewYork</td>\n",
              "      <td>72</td>\n",
              "      <td>0</td>\n",
              "      <td>0</td>\n",
              "      <td>Actor</td>\n",
              "      <td>13112.6</td>\n",
              "    </tr>\n",
              "    <tr>\n",
              "      <th>1</th>\n",
              "      <td>49.0</td>\n",
              "      <td>female</td>\n",
              "      <td>75</td>\n",
              "      <td>22.6</td>\n",
              "      <td>NoDisease</td>\n",
              "      <td>1</td>\n",
              "      <td>0</td>\n",
              "      <td>Boston</td>\n",
              "      <td>78</td>\n",
              "      <td>1</td>\n",
              "      <td>1</td>\n",
              "      <td>Engineer</td>\n",
              "      <td>9567.0</td>\n",
              "    </tr>\n",
              "    <tr>\n",
              "      <th>2</th>\n",
              "      <td>32.0</td>\n",
              "      <td>female</td>\n",
              "      <td>64</td>\n",
              "      <td>17.8</td>\n",
              "      <td>Epilepsy</td>\n",
              "      <td>2</td>\n",
              "      <td>1</td>\n",
              "      <td>Phildelphia</td>\n",
              "      <td>88</td>\n",
              "      <td>1</td>\n",
              "      <td>1</td>\n",
              "      <td>Academician</td>\n",
              "      <td>32734.2</td>\n",
              "    </tr>\n",
              "    <tr>\n",
              "      <th>3</th>\n",
              "      <td>61.0</td>\n",
              "      <td>female</td>\n",
              "      <td>53</td>\n",
              "      <td>36.4</td>\n",
              "      <td>NoDisease</td>\n",
              "      <td>1</td>\n",
              "      <td>1</td>\n",
              "      <td>Pittsburg</td>\n",
              "      <td>72</td>\n",
              "      <td>1</td>\n",
              "      <td>0</td>\n",
              "      <td>Chef</td>\n",
              "      <td>48517.6</td>\n",
              "    </tr>\n",
              "    <tr>\n",
              "      <th>4</th>\n",
              "      <td>19.0</td>\n",
              "      <td>female</td>\n",
              "      <td>50</td>\n",
              "      <td>20.6</td>\n",
              "      <td>NoDisease</td>\n",
              "      <td>0</td>\n",
              "      <td>0</td>\n",
              "      <td>Buffalo</td>\n",
              "      <td>82</td>\n",
              "      <td>1</td>\n",
              "      <td>0</td>\n",
              "      <td>HomeMakers</td>\n",
              "      <td>1731.7</td>\n",
              "    </tr>\n",
              "  </tbody>\n",
              "</table>\n",
              "</div>"
            ],
            "text/plain": [
              "    age     sex  weight   bmi hereditary_diseases  no_of_dependents  smoker  \\\n",
              "0  60.0    male      64  24.3           NoDisease                 1       0   \n",
              "1  49.0  female      75  22.6           NoDisease                 1       0   \n",
              "2  32.0  female      64  17.8            Epilepsy                 2       1   \n",
              "3  61.0  female      53  36.4           NoDisease                 1       1   \n",
              "4  19.0  female      50  20.6           NoDisease                 0       0   \n",
              "\n",
              "          city  bloodpressure  diabetes  regular_ex    job_title    claim  \n",
              "0      NewYork             72         0           0        Actor  13112.6  \n",
              "1       Boston             78         1           1     Engineer   9567.0  \n",
              "2  Phildelphia             88         1           1  Academician  32734.2  \n",
              "3    Pittsburg             72         1           0         Chef  48517.6  \n",
              "4      Buffalo             82         1           0   HomeMakers   1731.7  "
            ]
          },
          "execution_count": 3,
          "metadata": {},
          "output_type": "execute_result"
        }
      ],
      "source": [
        "df.head()"
      ]
    },
    {
      "cell_type": "code",
      "execution_count": null,
      "metadata": {
        "id": "aFsuepFuj5VT",
        "outputId": "04b7707b-8eca-4164-b9ca-8663eb6e9bc6"
      },
      "outputs": [
        {
          "name": "stdout",
          "output_type": "stream",
          "text": [
            "<class 'pandas.core.frame.DataFrame'>\n",
            "RangeIndex: 15000 entries, 0 to 14999\n",
            "Data columns (total 13 columns):\n",
            " #   Column               Non-Null Count  Dtype  \n",
            "---  ------               --------------  -----  \n",
            " 0   age                  14604 non-null  float64\n",
            " 1   sex                  15000 non-null  object \n",
            " 2   weight               15000 non-null  int64  \n",
            " 3   bmi                  14044 non-null  float64\n",
            " 4   hereditary_diseases  15000 non-null  object \n",
            " 5   no_of_dependents     15000 non-null  int64  \n",
            " 6   smoker               15000 non-null  int64  \n",
            " 7   city                 15000 non-null  object \n",
            " 8   bloodpressure        15000 non-null  int64  \n",
            " 9   diabetes             15000 non-null  int64  \n",
            " 10  regular_ex           15000 non-null  int64  \n",
            " 11  job_title            15000 non-null  object \n",
            " 12  claim                15000 non-null  float64\n",
            "dtypes: float64(3), int64(6), object(4)\n",
            "memory usage: 1.5+ MB\n"
          ]
        }
      ],
      "source": [
        "df.info()"
      ]
    },
    {
      "cell_type": "code",
      "execution_count": null,
      "metadata": {
        "scrolled": true,
        "id": "iEIezynij5VT",
        "outputId": "544b0a75-88be-48cf-84f7-6c5898b15501"
      },
      "outputs": [
        {
          "data": {
            "text/plain": [
              "0    6290\n",
              "1    3625\n",
              "2    2721\n",
              "3    1820\n",
              "4     301\n",
              "5     243\n",
              "Name: no_of_dependents, dtype: int64"
            ]
          },
          "execution_count": 5,
          "metadata": {},
          "output_type": "execute_result"
        }
      ],
      "source": [
        "df['no_of_dependents'].value_counts()"
      ]
    },
    {
      "cell_type": "code",
      "execution_count": null,
      "metadata": {
        "id": "x_lorI-pj5VU"
      },
      "outputs": [],
      "source": [
        "# astype\n",
        "\n",
        "df['smoker'] = df['smoker'].astype('object')"
      ]
    },
    {
      "cell_type": "code",
      "execution_count": null,
      "metadata": {
        "id": "l2DUVE2-j5VU"
      },
      "outputs": [],
      "source": [
        "df['diabetes'] = df['diabetes'].astype('object')"
      ]
    },
    {
      "cell_type": "code",
      "execution_count": null,
      "metadata": {
        "id": "Q0Ajg_3Pj5VV"
      },
      "outputs": [],
      "source": [
        "df['regular_ex'] = df['regular_ex'].astype('object')"
      ]
    },
    {
      "cell_type": "code",
      "execution_count": null,
      "metadata": {
        "id": "CooMGhoWj5VV",
        "outputId": "7ac14121-52ec-4a1f-dc06-31ca83971fe6"
      },
      "outputs": [
        {
          "name": "stdout",
          "output_type": "stream",
          "text": [
            "<class 'pandas.core.frame.DataFrame'>\n",
            "RangeIndex: 15000 entries, 0 to 14999\n",
            "Data columns (total 13 columns):\n",
            " #   Column               Non-Null Count  Dtype  \n",
            "---  ------               --------------  -----  \n",
            " 0   age                  14604 non-null  float64\n",
            " 1   sex                  15000 non-null  object \n",
            " 2   weight               15000 non-null  int64  \n",
            " 3   bmi                  14044 non-null  float64\n",
            " 4   hereditary_diseases  15000 non-null  object \n",
            " 5   no_of_dependents     15000 non-null  int64  \n",
            " 6   smoker               15000 non-null  object \n",
            " 7   city                 15000 non-null  object \n",
            " 8   bloodpressure        15000 non-null  int64  \n",
            " 9   diabetes             15000 non-null  object \n",
            " 10  regular_ex           15000 non-null  object \n",
            " 11  job_title            15000 non-null  object \n",
            " 12  claim                15000 non-null  float64\n",
            "dtypes: float64(3), int64(3), object(7)\n",
            "memory usage: 1.5+ MB\n"
          ]
        }
      ],
      "source": [
        "df.info()"
      ]
    },
    {
      "cell_type": "code",
      "execution_count": null,
      "metadata": {
        "id": "DRi6uyXlj5VV",
        "outputId": "37550f9c-a7af-4cd4-e5e2-8e16aefb7ec6"
      },
      "outputs": [
        {
          "data": {
            "text/html": [
              "<div>\n",
              "<style scoped>\n",
              "    .dataframe tbody tr th:only-of-type {\n",
              "        vertical-align: middle;\n",
              "    }\n",
              "\n",
              "    .dataframe tbody tr th {\n",
              "        vertical-align: top;\n",
              "    }\n",
              "\n",
              "    .dataframe thead th {\n",
              "        text-align: right;\n",
              "    }\n",
              "</style>\n",
              "<table border=\"1\" class=\"dataframe\">\n",
              "  <thead>\n",
              "    <tr style=\"text-align: right;\">\n",
              "      <th></th>\n",
              "      <th>age</th>\n",
              "      <th>weight</th>\n",
              "      <th>bmi</th>\n",
              "      <th>no_of_dependents</th>\n",
              "      <th>bloodpressure</th>\n",
              "      <th>claim</th>\n",
              "    </tr>\n",
              "  </thead>\n",
              "  <tbody>\n",
              "    <tr>\n",
              "      <th>count</th>\n",
              "      <td>14604.000000</td>\n",
              "      <td>15000.000000</td>\n",
              "      <td>14044.000000</td>\n",
              "      <td>15000.000000</td>\n",
              "      <td>15000.000000</td>\n",
              "      <td>15000.000000</td>\n",
              "    </tr>\n",
              "    <tr>\n",
              "      <th>mean</th>\n",
              "      <td>39.547521</td>\n",
              "      <td>64.909600</td>\n",
              "      <td>30.266413</td>\n",
              "      <td>1.129733</td>\n",
              "      <td>68.650133</td>\n",
              "      <td>13401.437620</td>\n",
              "    </tr>\n",
              "    <tr>\n",
              "      <th>std</th>\n",
              "      <td>14.015966</td>\n",
              "      <td>13.701935</td>\n",
              "      <td>6.122950</td>\n",
              "      <td>1.228469</td>\n",
              "      <td>19.418515</td>\n",
              "      <td>12148.239619</td>\n",
              "    </tr>\n",
              "    <tr>\n",
              "      <th>min</th>\n",
              "      <td>18.000000</td>\n",
              "      <td>34.000000</td>\n",
              "      <td>16.000000</td>\n",
              "      <td>0.000000</td>\n",
              "      <td>0.000000</td>\n",
              "      <td>1121.900000</td>\n",
              "    </tr>\n",
              "    <tr>\n",
              "      <th>25%</th>\n",
              "      <td>27.000000</td>\n",
              "      <td>54.000000</td>\n",
              "      <td>25.700000</td>\n",
              "      <td>0.000000</td>\n",
              "      <td>64.000000</td>\n",
              "      <td>4846.900000</td>\n",
              "    </tr>\n",
              "    <tr>\n",
              "      <th>50%</th>\n",
              "      <td>40.000000</td>\n",
              "      <td>63.000000</td>\n",
              "      <td>29.400000</td>\n",
              "      <td>1.000000</td>\n",
              "      <td>71.000000</td>\n",
              "      <td>9545.650000</td>\n",
              "    </tr>\n",
              "    <tr>\n",
              "      <th>75%</th>\n",
              "      <td>52.000000</td>\n",
              "      <td>76.000000</td>\n",
              "      <td>34.400000</td>\n",
              "      <td>2.000000</td>\n",
              "      <td>80.000000</td>\n",
              "      <td>16519.125000</td>\n",
              "    </tr>\n",
              "    <tr>\n",
              "      <th>max</th>\n",
              "      <td>64.000000</td>\n",
              "      <td>95.000000</td>\n",
              "      <td>53.100000</td>\n",
              "      <td>5.000000</td>\n",
              "      <td>122.000000</td>\n",
              "      <td>63770.400000</td>\n",
              "    </tr>\n",
              "  </tbody>\n",
              "</table>\n",
              "</div>"
            ],
            "text/plain": [
              "                age        weight           bmi  no_of_dependents  \\\n",
              "count  14604.000000  15000.000000  14044.000000      15000.000000   \n",
              "mean      39.547521     64.909600     30.266413          1.129733   \n",
              "std       14.015966     13.701935      6.122950          1.228469   \n",
              "min       18.000000     34.000000     16.000000          0.000000   \n",
              "25%       27.000000     54.000000     25.700000          0.000000   \n",
              "50%       40.000000     63.000000     29.400000          1.000000   \n",
              "75%       52.000000     76.000000     34.400000          2.000000   \n",
              "max       64.000000     95.000000     53.100000          5.000000   \n",
              "\n",
              "       bloodpressure         claim  \n",
              "count   15000.000000  15000.000000  \n",
              "mean       68.650133  13401.437620  \n",
              "std        19.418515  12148.239619  \n",
              "min         0.000000   1121.900000  \n",
              "25%        64.000000   4846.900000  \n",
              "50%        71.000000   9545.650000  \n",
              "75%        80.000000  16519.125000  \n",
              "max       122.000000  63770.400000  "
            ]
          },
          "execution_count": 10,
          "metadata": {},
          "output_type": "execute_result"
        }
      ],
      "source": [
        "df.describe()"
      ]
    },
    {
      "cell_type": "markdown",
      "metadata": {
        "id": "laWvBm6ej5VW"
      },
      "source": [
        "blood pressure anamoly\n",
        "\n",
        "missing values"
      ]
    },
    {
      "cell_type": "code",
      "execution_count": null,
      "metadata": {
        "id": "mi-C5vEyj5VZ",
        "outputId": "5fd97dad-98a5-4f49-86a1-4e9c877f4902"
      },
      "outputs": [
        {
          "data": {
            "text/plain": [
              "age                    396\n",
              "sex                      0\n",
              "weight                   0\n",
              "bmi                    956\n",
              "hereditary_diseases      0\n",
              "no_of_dependents         0\n",
              "smoker                   0\n",
              "city                     0\n",
              "bloodpressure            0\n",
              "diabetes                 0\n",
              "regular_ex               0\n",
              "job_title                0\n",
              "claim                    0\n",
              "dtype: int64"
            ]
          },
          "execution_count": 11,
          "metadata": {},
          "output_type": "execute_result"
        }
      ],
      "source": [
        "df.isnull().sum()"
      ]
    },
    {
      "cell_type": "code",
      "execution_count": null,
      "metadata": {
        "id": "KpWoOYifj5Va",
        "outputId": "8dd0fff0-d14f-473b-de4e-b2792d673b89"
      },
      "outputs": [
        {
          "data": {
            "text/plain": [
              "age                    2.640000\n",
              "sex                    0.000000\n",
              "weight                 0.000000\n",
              "bmi                    6.373333\n",
              "hereditary_diseases    0.000000\n",
              "no_of_dependents       0.000000\n",
              "smoker                 0.000000\n",
              "city                   0.000000\n",
              "bloodpressure          0.000000\n",
              "diabetes               0.000000\n",
              "regular_ex             0.000000\n",
              "job_title              0.000000\n",
              "claim                  0.000000\n",
              "dtype: float64"
            ]
          },
          "execution_count": 12,
          "metadata": {},
          "output_type": "execute_result"
        }
      ],
      "source": [
        "df.isnull().sum()/len(df)*100"
      ]
    },
    {
      "cell_type": "code",
      "execution_count": null,
      "metadata": {
        "id": "dHoekH9Oj5Va",
        "outputId": "6374020e-5ecb-48d8-821b-6f4b5c6fc8bd"
      },
      "outputs": [
        {
          "data": {
            "text/plain": [
              "count    14604.000000\n",
              "mean        39.547521\n",
              "std         14.015966\n",
              "min         18.000000\n",
              "25%         27.000000\n",
              "50%         40.000000\n",
              "75%         52.000000\n",
              "max         64.000000\n",
              "Name: age, dtype: float64"
            ]
          },
          "execution_count": 13,
          "metadata": {},
          "output_type": "execute_result"
        }
      ],
      "source": [
        "df['age'].describe()"
      ]
    },
    {
      "cell_type": "code",
      "execution_count": null,
      "metadata": {
        "id": "UITJOaPIj5Vb"
      },
      "outputs": [],
      "source": [
        "df['age'].fillna(40,inplace=True)"
      ]
    },
    {
      "cell_type": "code",
      "execution_count": null,
      "metadata": {
        "id": "Gyn_3AJtj5Vb",
        "outputId": "05b29dd6-742a-4359-d76d-30789654c715"
      },
      "outputs": [
        {
          "data": {
            "text/plain": [
              "count    14044.000000\n",
              "mean        30.266413\n",
              "std          6.122950\n",
              "min         16.000000\n",
              "25%         25.700000\n",
              "50%         29.400000\n",
              "75%         34.400000\n",
              "max         53.100000\n",
              "Name: bmi, dtype: float64"
            ]
          },
          "execution_count": 15,
          "metadata": {},
          "output_type": "execute_result"
        }
      ],
      "source": [
        "df['bmi'].describe()"
      ]
    },
    {
      "cell_type": "code",
      "execution_count": null,
      "metadata": {
        "id": "sDZ5K3nFj5Vc"
      },
      "outputs": [],
      "source": [
        "df['bmi'].fillna(29.40,inplace=True)"
      ]
    },
    {
      "cell_type": "code",
      "execution_count": null,
      "metadata": {
        "id": "ydtNAHHVj5Vd",
        "outputId": "e990a526-da05-4979-df8e-8fec30dd8314"
      },
      "outputs": [
        {
          "data": {
            "text/html": [
              "<div>\n",
              "<style scoped>\n",
              "    .dataframe tbody tr th:only-of-type {\n",
              "        vertical-align: middle;\n",
              "    }\n",
              "\n",
              "    .dataframe tbody tr th {\n",
              "        vertical-align: top;\n",
              "    }\n",
              "\n",
              "    .dataframe thead th {\n",
              "        text-align: right;\n",
              "    }\n",
              "</style>\n",
              "<table border=\"1\" class=\"dataframe\">\n",
              "  <thead>\n",
              "    <tr style=\"text-align: right;\">\n",
              "      <th></th>\n",
              "      <th>age</th>\n",
              "      <th>sex</th>\n",
              "      <th>weight</th>\n",
              "      <th>bmi</th>\n",
              "      <th>hereditary_diseases</th>\n",
              "      <th>no_of_dependents</th>\n",
              "      <th>smoker</th>\n",
              "      <th>city</th>\n",
              "      <th>bloodpressure</th>\n",
              "      <th>diabetes</th>\n",
              "      <th>regular_ex</th>\n",
              "      <th>job_title</th>\n",
              "      <th>claim</th>\n",
              "    </tr>\n",
              "  </thead>\n",
              "  <tbody>\n",
              "    <tr>\n",
              "      <th>10</th>\n",
              "      <td>51.0</td>\n",
              "      <td>female</td>\n",
              "      <td>50</td>\n",
              "      <td>33.0</td>\n",
              "      <td>EyeDisease</td>\n",
              "      <td>0</td>\n",
              "      <td>1</td>\n",
              "      <td>Syracuse</td>\n",
              "      <td>0</td>\n",
              "      <td>1</td>\n",
              "      <td>0</td>\n",
              "      <td>Police</td>\n",
              "      <td>44400.4</td>\n",
              "    </tr>\n",
              "    <tr>\n",
              "      <th>12</th>\n",
              "      <td>19.0</td>\n",
              "      <td>male</td>\n",
              "      <td>45</td>\n",
              "      <td>24.6</td>\n",
              "      <td>NoDisease</td>\n",
              "      <td>1</td>\n",
              "      <td>0</td>\n",
              "      <td>York</td>\n",
              "      <td>0</td>\n",
              "      <td>0</td>\n",
              "      <td>1</td>\n",
              "      <td>Student</td>\n",
              "      <td>1837.2</td>\n",
              "    </tr>\n",
              "    <tr>\n",
              "      <th>15</th>\n",
              "      <td>56.0</td>\n",
              "      <td>male</td>\n",
              "      <td>67</td>\n",
              "      <td>40.3</td>\n",
              "      <td>NoDisease</td>\n",
              "      <td>0</td>\n",
              "      <td>0</td>\n",
              "      <td>WashingtonDC</td>\n",
              "      <td>0</td>\n",
              "      <td>1</td>\n",
              "      <td>0</td>\n",
              "      <td>Engineer</td>\n",
              "      <td>10602.4</td>\n",
              "    </tr>\n",
              "    <tr>\n",
              "      <th>24</th>\n",
              "      <td>21.0</td>\n",
              "      <td>male</td>\n",
              "      <td>45</td>\n",
              "      <td>25.7</td>\n",
              "      <td>NoDisease</td>\n",
              "      <td>4</td>\n",
              "      <td>1</td>\n",
              "      <td>Charlotte</td>\n",
              "      <td>0</td>\n",
              "      <td>1</td>\n",
              "      <td>0</td>\n",
              "      <td>Actor</td>\n",
              "      <td>17942.1</td>\n",
              "    </tr>\n",
              "    <tr>\n",
              "      <th>45</th>\n",
              "      <td>56.0</td>\n",
              "      <td>male</td>\n",
              "      <td>67</td>\n",
              "      <td>40.3</td>\n",
              "      <td>NoDisease</td>\n",
              "      <td>0</td>\n",
              "      <td>0</td>\n",
              "      <td>IowaCity</td>\n",
              "      <td>0</td>\n",
              "      <td>1</td>\n",
              "      <td>0</td>\n",
              "      <td>Engineer</td>\n",
              "      <td>10602.4</td>\n",
              "    </tr>\n",
              "    <tr>\n",
              "      <th>...</th>\n",
              "      <td>...</td>\n",
              "      <td>...</td>\n",
              "      <td>...</td>\n",
              "      <td>...</td>\n",
              "      <td>...</td>\n",
              "      <td>...</td>\n",
              "      <td>...</td>\n",
              "      <td>...</td>\n",
              "      <td>...</td>\n",
              "      <td>...</td>\n",
              "      <td>...</td>\n",
              "      <td>...</td>\n",
              "      <td>...</td>\n",
              "    </tr>\n",
              "    <tr>\n",
              "      <th>14851</th>\n",
              "      <td>20.0</td>\n",
              "      <td>male</td>\n",
              "      <td>60</td>\n",
              "      <td>29.7</td>\n",
              "      <td>NoDisease</td>\n",
              "      <td>0</td>\n",
              "      <td>0</td>\n",
              "      <td>WashingtonDC</td>\n",
              "      <td>0</td>\n",
              "      <td>0</td>\n",
              "      <td>0</td>\n",
              "      <td>HouseKeeper</td>\n",
              "      <td>1769.5</td>\n",
              "    </tr>\n",
              "    <tr>\n",
              "      <th>14853</th>\n",
              "      <td>56.0</td>\n",
              "      <td>male</td>\n",
              "      <td>67</td>\n",
              "      <td>40.3</td>\n",
              "      <td>NoDisease</td>\n",
              "      <td>0</td>\n",
              "      <td>0</td>\n",
              "      <td>Harrisburg</td>\n",
              "      <td>0</td>\n",
              "      <td>1</td>\n",
              "      <td>0</td>\n",
              "      <td>Engineer</td>\n",
              "      <td>10602.4</td>\n",
              "    </tr>\n",
              "    <tr>\n",
              "      <th>14934</th>\n",
              "      <td>51.0</td>\n",
              "      <td>male</td>\n",
              "      <td>59</td>\n",
              "      <td>31.6</td>\n",
              "      <td>NoDisease</td>\n",
              "      <td>0</td>\n",
              "      <td>0</td>\n",
              "      <td>Oklahoma</td>\n",
              "      <td>0</td>\n",
              "      <td>1</td>\n",
              "      <td>0</td>\n",
              "      <td>GovEmployee</td>\n",
              "      <td>9174.1</td>\n",
              "    </tr>\n",
              "    <tr>\n",
              "      <th>14977</th>\n",
              "      <td>45.0</td>\n",
              "      <td>female</td>\n",
              "      <td>84</td>\n",
              "      <td>29.4</td>\n",
              "      <td>NoDisease</td>\n",
              "      <td>1</td>\n",
              "      <td>1</td>\n",
              "      <td>Cambridge</td>\n",
              "      <td>0</td>\n",
              "      <td>1</td>\n",
              "      <td>1</td>\n",
              "      <td>ITProfessional</td>\n",
              "      <td>39725.5</td>\n",
              "    </tr>\n",
              "    <tr>\n",
              "      <th>14994</th>\n",
              "      <td>38.0</td>\n",
              "      <td>female</td>\n",
              "      <td>71</td>\n",
              "      <td>27.3</td>\n",
              "      <td>NoDisease</td>\n",
              "      <td>1</td>\n",
              "      <td>0</td>\n",
              "      <td>Knoxville</td>\n",
              "      <td>0</td>\n",
              "      <td>1</td>\n",
              "      <td>0</td>\n",
              "      <td>Chef</td>\n",
              "      <td>6555.1</td>\n",
              "    </tr>\n",
              "  </tbody>\n",
              "</table>\n",
              "<p>756 rows × 13 columns</p>\n",
              "</div>"
            ],
            "text/plain": [
              "        age     sex  weight   bmi hereditary_diseases  no_of_dependents  \\\n",
              "10     51.0  female      50  33.0          EyeDisease                 0   \n",
              "12     19.0    male      45  24.6           NoDisease                 1   \n",
              "15     56.0    male      67  40.3           NoDisease                 0   \n",
              "24     21.0    male      45  25.7           NoDisease                 4   \n",
              "45     56.0    male      67  40.3           NoDisease                 0   \n",
              "...     ...     ...     ...   ...                 ...               ...   \n",
              "14851  20.0    male      60  29.7           NoDisease                 0   \n",
              "14853  56.0    male      67  40.3           NoDisease                 0   \n",
              "14934  51.0    male      59  31.6           NoDisease                 0   \n",
              "14977  45.0  female      84  29.4           NoDisease                 1   \n",
              "14994  38.0  female      71  27.3           NoDisease                 1   \n",
              "\n",
              "      smoker          city  bloodpressure diabetes regular_ex       job_title  \\\n",
              "10         1      Syracuse              0        1          0          Police   \n",
              "12         0          York              0        0          1         Student   \n",
              "15         0  WashingtonDC              0        1          0        Engineer   \n",
              "24         1     Charlotte              0        1          0           Actor   \n",
              "45         0      IowaCity              0        1          0        Engineer   \n",
              "...      ...           ...            ...      ...        ...             ...   \n",
              "14851      0  WashingtonDC              0        0          0     HouseKeeper   \n",
              "14853      0    Harrisburg              0        1          0        Engineer   \n",
              "14934      0      Oklahoma              0        1          0     GovEmployee   \n",
              "14977      1     Cambridge              0        1          1  ITProfessional   \n",
              "14994      0     Knoxville              0        1          0            Chef   \n",
              "\n",
              "         claim  \n",
              "10     44400.4  \n",
              "12      1837.2  \n",
              "15     10602.4  \n",
              "24     17942.1  \n",
              "45     10602.4  \n",
              "...        ...  \n",
              "14851   1769.5  \n",
              "14853  10602.4  \n",
              "14934   9174.1  \n",
              "14977  39725.5  \n",
              "14994   6555.1  \n",
              "\n",
              "[756 rows x 13 columns]"
            ]
          },
          "execution_count": 17,
          "metadata": {},
          "output_type": "execute_result"
        }
      ],
      "source": [
        "df[df['bloodpressure']==0]"
      ]
    },
    {
      "cell_type": "code",
      "execution_count": null,
      "metadata": {
        "id": "JsmQOt7vj5Vd",
        "outputId": "87f0f71c-9823-49f0-e383-ec6bc08987db"
      },
      "outputs": [
        {
          "data": {
            "text/plain": [
              "count    15000.000000\n",
              "mean        68.650133\n",
              "std         19.418515\n",
              "min          0.000000\n",
              "25%         64.000000\n",
              "50%         71.000000\n",
              "75%         80.000000\n",
              "max        122.000000\n",
              "Name: bloodpressure, dtype: float64"
            ]
          },
          "execution_count": 18,
          "metadata": {},
          "output_type": "execute_result"
        }
      ],
      "source": [
        "df['bloodpressure'].describe()"
      ]
    },
    {
      "cell_type": "code",
      "execution_count": null,
      "metadata": {
        "id": "3VsSnz1Lj5Ve"
      },
      "outputs": [],
      "source": [
        "df['bloodpressure'].replace(0,71,inplace=True)"
      ]
    },
    {
      "cell_type": "code",
      "execution_count": null,
      "metadata": {
        "id": "KOmdZyH1j5Ve",
        "outputId": "b7499746-cb4b-41de-ba0a-c64079b6407b"
      },
      "outputs": [
        {
          "data": {
            "text/plain": [
              "age                    0\n",
              "sex                    0\n",
              "weight                 0\n",
              "bmi                    0\n",
              "hereditary_diseases    0\n",
              "no_of_dependents       0\n",
              "smoker                 0\n",
              "city                   0\n",
              "bloodpressure          0\n",
              "diabetes               0\n",
              "regular_ex             0\n",
              "job_title              0\n",
              "claim                  0\n",
              "dtype: int64"
            ]
          },
          "execution_count": 20,
          "metadata": {},
          "output_type": "execute_result"
        }
      ],
      "source": [
        "df.isnull().sum()"
      ]
    },
    {
      "cell_type": "code",
      "execution_count": null,
      "metadata": {
        "id": "6DdkqjNJj5Vf",
        "outputId": "e8e39bec-3a15-446a-ff5e-6fc1fec9996d"
      },
      "outputs": [
        {
          "data": {
            "text/plain": [
              "count    15000.000000\n",
              "mean        72.228533\n",
              "std         11.269793\n",
              "min         40.000000\n",
              "25%         64.000000\n",
              "50%         71.000000\n",
              "75%         80.000000\n",
              "max        122.000000\n",
              "Name: bloodpressure, dtype: float64"
            ]
          },
          "execution_count": 21,
          "metadata": {},
          "output_type": "execute_result"
        }
      ],
      "source": [
        "df['bloodpressure'].describe()"
      ]
    },
    {
      "cell_type": "code",
      "execution_count": null,
      "metadata": {
        "id": "SQYFL-WGj5Vf"
      },
      "outputs": [],
      "source": [
        "### Outliers"
      ]
    },
    {
      "cell_type": "code",
      "execution_count": null,
      "metadata": {
        "id": "FDlpXeqEj5Vf",
        "outputId": "baf73560-d8e3-480c-9e2a-ed13ca19eadc"
      },
      "outputs": [
        {
          "data": {
            "text/html": [
              "<div>\n",
              "<style scoped>\n",
              "    .dataframe tbody tr th:only-of-type {\n",
              "        vertical-align: middle;\n",
              "    }\n",
              "\n",
              "    .dataframe tbody tr th {\n",
              "        vertical-align: top;\n",
              "    }\n",
              "\n",
              "    .dataframe thead th {\n",
              "        text-align: right;\n",
              "    }\n",
              "</style>\n",
              "<table border=\"1\" class=\"dataframe\">\n",
              "  <thead>\n",
              "    <tr style=\"text-align: right;\">\n",
              "      <th></th>\n",
              "      <th>age</th>\n",
              "      <th>sex</th>\n",
              "      <th>weight</th>\n",
              "      <th>bmi</th>\n",
              "      <th>hereditary_diseases</th>\n",
              "      <th>no_of_dependents</th>\n",
              "      <th>smoker</th>\n",
              "      <th>city</th>\n",
              "      <th>bloodpressure</th>\n",
              "      <th>diabetes</th>\n",
              "      <th>regular_ex</th>\n",
              "      <th>job_title</th>\n",
              "      <th>claim</th>\n",
              "    </tr>\n",
              "  </thead>\n",
              "  <tbody>\n",
              "    <tr>\n",
              "      <th>0</th>\n",
              "      <td>60.0</td>\n",
              "      <td>male</td>\n",
              "      <td>64</td>\n",
              "      <td>24.3</td>\n",
              "      <td>NoDisease</td>\n",
              "      <td>1</td>\n",
              "      <td>0</td>\n",
              "      <td>NewYork</td>\n",
              "      <td>72</td>\n",
              "      <td>0</td>\n",
              "      <td>0</td>\n",
              "      <td>Actor</td>\n",
              "      <td>13112.6</td>\n",
              "    </tr>\n",
              "    <tr>\n",
              "      <th>1</th>\n",
              "      <td>49.0</td>\n",
              "      <td>female</td>\n",
              "      <td>75</td>\n",
              "      <td>22.6</td>\n",
              "      <td>NoDisease</td>\n",
              "      <td>1</td>\n",
              "      <td>0</td>\n",
              "      <td>Boston</td>\n",
              "      <td>78</td>\n",
              "      <td>1</td>\n",
              "      <td>1</td>\n",
              "      <td>Engineer</td>\n",
              "      <td>9567.0</td>\n",
              "    </tr>\n",
              "  </tbody>\n",
              "</table>\n",
              "</div>"
            ],
            "text/plain": [
              "    age     sex  weight   bmi hereditary_diseases  no_of_dependents smoker  \\\n",
              "0  60.0    male      64  24.3           NoDisease                 1      0   \n",
              "1  49.0  female      75  22.6           NoDisease                 1      0   \n",
              "\n",
              "      city  bloodpressure diabetes regular_ex job_title    claim  \n",
              "0  NewYork             72        0          0     Actor  13112.6  \n",
              "1   Boston             78        1          1  Engineer   9567.0  "
            ]
          },
          "execution_count": 23,
          "metadata": {},
          "output_type": "execute_result"
        }
      ],
      "source": [
        "df.head(2)"
      ]
    },
    {
      "cell_type": "code",
      "execution_count": null,
      "metadata": {
        "id": "iBLrerhlj5Vf"
      },
      "outputs": [],
      "source": [
        "# df.plot(kind='boxplot')"
      ]
    },
    {
      "cell_type": "code",
      "execution_count": null,
      "metadata": {
        "id": "7UL9FXrZj5Vg"
      },
      "outputs": [],
      "source": [
        "df_num = df.select_dtypes(include=np.number)"
      ]
    },
    {
      "cell_type": "code",
      "execution_count": null,
      "metadata": {
        "id": "HZafumqHj5Vh",
        "outputId": "7f7f02c3-2d17-40d3-9e4e-c5fd61d594c7"
      },
      "outputs": [
        {
          "data": {
            "text/plain": [
              "<AxesSubplot:>"
            ]
          },
          "execution_count": 26,
          "metadata": {},
          "output_type": "execute_result"
        },
        {
          "data": {
            "image/png": "[encoded data removed]",
            "text/plain": [
              "<Figure size 432x288 with 1 Axes>"
            ]
          },
          "metadata": {
            "needs_background": "light"
          },
          "output_type": "display_data"
        }
      ],
      "source": [
        "df_num.boxplot(column=['age','bmi','weight','bloodpressure'])"
      ]
    },
    {
      "cell_type": "markdown",
      "metadata": {
        "id": "LlcQgpHLj5Vi"
      },
      "source": [
        "Outlier treatment Techniques\n",
        "\n",
        "1.Transformations\n",
        "2.Capping"
      ]
    },
    {
      "cell_type": "code",
      "execution_count": null,
      "metadata": {
        "id": "SwOax84Uj5Vi"
      },
      "outputs": [],
      "source": [
        "Q1 = df['bmi'].quantile(.25)\n",
        "Q3 = df['bmi'].quantile(.75)\n",
        "\n",
        "IQR = Q3 - Q1\n",
        "\n",
        "upper = Q3+1.5*IQR\n",
        "\n",
        "lower = Q1-1.5*IQR"
      ]
    },
    {
      "cell_type": "code",
      "execution_count": null,
      "metadata": {
        "id": "Db8gp8NFj5Vi",
        "outputId": "92d7e518-92f6-48af-e191-e6fb5ebfb943"
      },
      "outputs": [
        {
          "data": {
            "text/plain": [
              "46.400000000000006"
            ]
          },
          "execution_count": 28,
          "metadata": {},
          "output_type": "execute_result"
        }
      ],
      "source": [
        "upper"
      ]
    },
    {
      "cell_type": "code",
      "execution_count": null,
      "metadata": {
        "id": "JG5uLufAj5Vj",
        "outputId": "c11649f4-8c76-401b-990c-d559be17837d"
      },
      "outputs": [
        {
          "data": {
            "text/plain": [
              "13.599999999999994"
            ]
          },
          "execution_count": 29,
          "metadata": {},
          "output_type": "execute_result"
        }
      ],
      "source": [
        "lower"
      ]
    },
    {
      "cell_type": "code",
      "execution_count": null,
      "metadata": {
        "id": "PES_-bfbj5Vj"
      },
      "outputs": [],
      "source": [
        "# Remove Outliers\n",
        "\n",
        "df_1 = df[(df['bmi']>lower) & (df['bmi']<upper)]"
      ]
    },
    {
      "cell_type": "code",
      "execution_count": null,
      "metadata": {
        "id": "7CQdwBI3j5Vj",
        "outputId": "7c7a47b5-29a6-49c3-d3b7-071d17c7a53c"
      },
      "outputs": [
        {
          "data": {
            "text/plain": [
              "count    15000.000000\n",
              "mean        30.211193\n",
              "std          5.928386\n",
              "min         16.000000\n",
              "25%         25.900000\n",
              "50%         29.400000\n",
              "75%         34.100000\n",
              "max         53.100000\n",
              "Name: bmi, dtype: float64"
            ]
          },
          "execution_count": 31,
          "metadata": {},
          "output_type": "execute_result"
        }
      ],
      "source": [
        "# Want to use capping technique here\n",
        "\n",
        "df['bmi'].describe()"
      ]
    },
    {
      "cell_type": "code",
      "execution_count": null,
      "metadata": {
        "id": "rj_woqYZj5Vk"
      },
      "outputs": [],
      "source": [
        "df['bmi'] = np.where(df['bmi']>46.40,46.40,df['bmi'])"
      ]
    },
    {
      "cell_type": "code",
      "execution_count": null,
      "metadata": {
        "id": "PB0Rbhctj5Vk",
        "outputId": "e07bc888-ba95-42b0-e7f2-6dd76900bf68"
      },
      "outputs": [
        {
          "data": {
            "text/plain": [
              "count    15000.000000\n",
              "mean        30.194820\n",
              "std          5.877177\n",
              "min         16.000000\n",
              "25%         25.900000\n",
              "50%         29.400000\n",
              "75%         34.100000\n",
              "max         46.400000\n",
              "Name: bmi, dtype: float64"
            ]
          },
          "execution_count": 33,
          "metadata": {},
          "output_type": "execute_result"
        }
      ],
      "source": [
        "df['bmi'].describe()"
      ]
    },
    {
      "cell_type": "code",
      "execution_count": null,
      "metadata": {
        "id": "fIAMIEm5j5Vk"
      },
      "outputs": [],
      "source": [
        "Q1 = df['bloodpressure'].quantile(.25)\n",
        "Q3 = df['bloodpressure'].quantile(.75)\n",
        "\n",
        "IQR = Q3 - Q1\n",
        "\n",
        "upper = Q3+1.5*IQR\n",
        "\n",
        "lower = Q1-1.5*IQR"
      ]
    },
    {
      "cell_type": "code",
      "execution_count": null,
      "metadata": {
        "id": "fT06PA2xj5Vl",
        "outputId": "646ae0d0-ed18-4368-b30a-657da3ab86c9"
      },
      "outputs": [
        {
          "data": {
            "text/plain": [
              "104.0"
            ]
          },
          "execution_count": 35,
          "metadata": {},
          "output_type": "execute_result"
        }
      ],
      "source": [
        "upper"
      ]
    },
    {
      "cell_type": "code",
      "execution_count": null,
      "metadata": {
        "id": "T607P6iJj5Vl",
        "outputId": "34ce3185-ca6c-40fa-b6bc-6f858b8cc96d"
      },
      "outputs": [
        {
          "data": {
            "text/plain": [
              "40.0"
            ]
          },
          "execution_count": 36,
          "metadata": {},
          "output_type": "execute_result"
        }
      ],
      "source": [
        "lower"
      ]
    },
    {
      "cell_type": "code",
      "execution_count": null,
      "metadata": {
        "id": "0SCyw1jZj5Vl",
        "outputId": "1aa079e8-da59-4555-f485-423814b90f3f"
      },
      "outputs": [
        {
          "data": {
            "text/plain": [
              "count    15000.000000\n",
              "mean        72.228533\n",
              "std         11.269793\n",
              "min         40.000000\n",
              "25%         64.000000\n",
              "50%         71.000000\n",
              "75%         80.000000\n",
              "max        122.000000\n",
              "Name: bloodpressure, dtype: float64"
            ]
          },
          "execution_count": 37,
          "metadata": {},
          "output_type": "execute_result"
        }
      ],
      "source": [
        "df['bloodpressure'].describe()"
      ]
    },
    {
      "cell_type": "code",
      "execution_count": null,
      "metadata": {
        "id": "lmLSvk1qj5Vy"
      },
      "outputs": [],
      "source": [
        "df['bloodpressure'] = np.where(df['bloodpressure']>104,104,df['bloodpressure'])"
      ]
    },
    {
      "cell_type": "code",
      "execution_count": null,
      "metadata": {
        "id": "uvvtZCphj5Vy",
        "outputId": "737f118e-8bc5-4f59-88e7-fbf29f537700"
      },
      "outputs": [
        {
          "data": {
            "text/plain": [
              "count    15000.000000\n",
              "mean        72.163200\n",
              "std         11.048561\n",
              "min         40.000000\n",
              "25%         64.000000\n",
              "50%         71.000000\n",
              "75%         80.000000\n",
              "max        104.000000\n",
              "Name: bloodpressure, dtype: float64"
            ]
          },
          "execution_count": 39,
          "metadata": {},
          "output_type": "execute_result"
        }
      ],
      "source": [
        "df['bloodpressure'].describe()"
      ]
    },
    {
      "cell_type": "code",
      "execution_count": null,
      "metadata": {
        "id": "GNANDzk7j5Vy",
        "outputId": "630754fd-5772-48db-f659-44c2f8e8b2b5"
      },
      "outputs": [
        {
          "data": {
            "text/plain": [
              "<AxesSubplot:>"
            ]
          },
          "execution_count": 41,
          "metadata": {},
          "output_type": "execute_result"
        },
        {
          "data": {
            "image/png": "[encoded data removed]",
            "text/plain": [
              "<Figure size 432x288 with 1 Axes>"
            ]
          },
          "metadata": {
            "needs_background": "light"
          },
          "output_type": "display_data"
        }
      ],
      "source": [
        "df.boxplot(column=['age','bmi','weight','bloodpressure'])"
      ]
    },
    {
      "cell_type": "code",
      "execution_count": null,
      "metadata": {
        "id": "PYlRmxWJj5Vy",
        "outputId": "605fb443-7c7c-4791-8c91-46c62fae203d"
      },
      "outputs": [
        {
          "data": {
            "text/plain": [
              "<AxesSubplot:>"
            ]
          },
          "execution_count": 40,
          "metadata": {},
          "output_type": "execute_result"
        },
        {
          "data": {
            "image/png": "[encoded data removed]",
            "text/plain": [
              "<Figure size 432x288 with 1 Axes>"
            ]
          },
          "metadata": {
            "needs_background": "light"
          },
          "output_type": "display_data"
        }
      ],
      "source": [
        "df_num.boxplot(column=['age','bmi','weight','bloodpressure'])"
      ]
    },
    {
      "cell_type": "markdown",
      "metadata": {
        "id": "IpiRsNxIj5Vy"
      },
      "source": [
        "### Feature Engineering"
      ]
    },
    {
      "cell_type": "code",
      "execution_count": null,
      "metadata": {
        "id": "9OQjRTCLj5Vz",
        "outputId": "d86e4cd2-8664-4451-c44a-2349aeff2b30"
      },
      "outputs": [
        {
          "data": {
            "text/html": [
              "<div>\n",
              "<style scoped>\n",
              "    .dataframe tbody tr th:only-of-type {\n",
              "        vertical-align: middle;\n",
              "    }\n",
              "\n",
              "    .dataframe tbody tr th {\n",
              "        vertical-align: top;\n",
              "    }\n",
              "\n",
              "    .dataframe thead th {\n",
              "        text-align: right;\n",
              "    }\n",
              "</style>\n",
              "<table border=\"1\" class=\"dataframe\">\n",
              "  <thead>\n",
              "    <tr style=\"text-align: right;\">\n",
              "      <th></th>\n",
              "      <th>age</th>\n",
              "      <th>sex</th>\n",
              "      <th>weight</th>\n",
              "      <th>bmi</th>\n",
              "      <th>hereditary_diseases</th>\n",
              "      <th>no_of_dependents</th>\n",
              "      <th>smoker</th>\n",
              "      <th>city</th>\n",
              "      <th>bloodpressure</th>\n",
              "      <th>diabetes</th>\n",
              "      <th>regular_ex</th>\n",
              "      <th>job_title</th>\n",
              "      <th>claim</th>\n",
              "    </tr>\n",
              "  </thead>\n",
              "  <tbody>\n",
              "    <tr>\n",
              "      <th>0</th>\n",
              "      <td>60.0</td>\n",
              "      <td>male</td>\n",
              "      <td>64</td>\n",
              "      <td>24.3</td>\n",
              "      <td>NoDisease</td>\n",
              "      <td>1</td>\n",
              "      <td>0</td>\n",
              "      <td>NewYork</td>\n",
              "      <td>72</td>\n",
              "      <td>0</td>\n",
              "      <td>0</td>\n",
              "      <td>Actor</td>\n",
              "      <td>13112.6</td>\n",
              "    </tr>\n",
              "    <tr>\n",
              "      <th>1</th>\n",
              "      <td>49.0</td>\n",
              "      <td>female</td>\n",
              "      <td>75</td>\n",
              "      <td>22.6</td>\n",
              "      <td>NoDisease</td>\n",
              "      <td>1</td>\n",
              "      <td>0</td>\n",
              "      <td>Boston</td>\n",
              "      <td>78</td>\n",
              "      <td>1</td>\n",
              "      <td>1</td>\n",
              "      <td>Engineer</td>\n",
              "      <td>9567.0</td>\n",
              "    </tr>\n",
              "    <tr>\n",
              "      <th>2</th>\n",
              "      <td>32.0</td>\n",
              "      <td>female</td>\n",
              "      <td>64</td>\n",
              "      <td>17.8</td>\n",
              "      <td>Epilepsy</td>\n",
              "      <td>2</td>\n",
              "      <td>1</td>\n",
              "      <td>Phildelphia</td>\n",
              "      <td>88</td>\n",
              "      <td>1</td>\n",
              "      <td>1</td>\n",
              "      <td>Academician</td>\n",
              "      <td>32734.2</td>\n",
              "    </tr>\n",
              "    <tr>\n",
              "      <th>3</th>\n",
              "      <td>61.0</td>\n",
              "      <td>female</td>\n",
              "      <td>53</td>\n",
              "      <td>36.4</td>\n",
              "      <td>NoDisease</td>\n",
              "      <td>1</td>\n",
              "      <td>1</td>\n",
              "      <td>Pittsburg</td>\n",
              "      <td>72</td>\n",
              "      <td>1</td>\n",
              "      <td>0</td>\n",
              "      <td>Chef</td>\n",
              "      <td>48517.6</td>\n",
              "    </tr>\n",
              "    <tr>\n",
              "      <th>4</th>\n",
              "      <td>19.0</td>\n",
              "      <td>female</td>\n",
              "      <td>50</td>\n",
              "      <td>20.6</td>\n",
              "      <td>NoDisease</td>\n",
              "      <td>0</td>\n",
              "      <td>0</td>\n",
              "      <td>Buffalo</td>\n",
              "      <td>82</td>\n",
              "      <td>1</td>\n",
              "      <td>0</td>\n",
              "      <td>HomeMakers</td>\n",
              "      <td>1731.7</td>\n",
              "    </tr>\n",
              "  </tbody>\n",
              "</table>\n",
              "</div>"
            ],
            "text/plain": [
              "    age     sex  weight   bmi hereditary_diseases  no_of_dependents smoker  \\\n",
              "0  60.0    male      64  24.3           NoDisease                 1      0   \n",
              "1  49.0  female      75  22.6           NoDisease                 1      0   \n",
              "2  32.0  female      64  17.8            Epilepsy                 2      1   \n",
              "3  61.0  female      53  36.4           NoDisease                 1      1   \n",
              "4  19.0  female      50  20.6           NoDisease                 0      0   \n",
              "\n",
              "          city  bloodpressure diabetes regular_ex    job_title    claim  \n",
              "0      NewYork             72        0          0        Actor  13112.6  \n",
              "1       Boston             78        1          1     Engineer   9567.0  \n",
              "2  Phildelphia             88        1          1  Academician  32734.2  \n",
              "3    Pittsburg             72        1          0         Chef  48517.6  \n",
              "4      Buffalo             82        1          0   HomeMakers   1731.7  "
            ]
          },
          "execution_count": 43,
          "metadata": {},
          "output_type": "execute_result"
        }
      ],
      "source": [
        "df.head()"
      ]
    },
    {
      "cell_type": "code",
      "execution_count": null,
      "metadata": {
        "id": "OzhPV9jCj5Vz",
        "outputId": "1c1d71c3-43d6-4348-c3c6-55e7c9df8c36"
      },
      "outputs": [
        {
          "data": {
            "text/plain": [
              "Nashville     302\n",
              "NewOrleans    302\n",
              "Brimingham    298\n",
              "Charleston    298\n",
              "Memphis       297\n",
              "             ... \n",
              "Baltimore      69\n",
              "Trenton        69\n",
              "Syracuse       69\n",
              "Warwick        69\n",
              "York           69\n",
              "Name: city, Length: 91, dtype: int64"
            ]
          },
          "execution_count": 46,
          "metadata": {},
          "output_type": "execute_result"
        }
      ],
      "source": [
        "df['city'].value_counts()"
      ]
    },
    {
      "cell_type": "code",
      "execution_count": null,
      "metadata": {
        "id": "wfYmjgvZj5Vz",
        "outputId": "7e336561-878c-4b64-aa66-d3387b550fc8"
      },
      "outputs": [
        {
          "data": {
            "text/plain": [
              "(15000, 13)"
            ]
          },
          "execution_count": 47,
          "metadata": {},
          "output_type": "execute_result"
        }
      ],
      "source": [
        "df.shape"
      ]
    },
    {
      "cell_type": "code",
      "execution_count": null,
      "metadata": {
        "id": "eRRwxKu-j5Vz"
      },
      "outputs": [],
      "source": [
        "# create a region column and combine the north-east cities\n",
        "df['region'] = df['city'].replace(['NewYork', 'Boston', 'Phildelphia', 'Pittsburg', 'Buffalo',\n",
        "                                                       'AtlanticCity','Portland', 'Cambridge', 'Hartford',\n",
        "                                                       'Springfield', 'Syracuse', 'Baltimore', 'York', 'Trenton',\n",
        "                                                       'Warwick', 'WashingtonDC', 'Providence', 'Harrisburg',\n",
        "                                                       'Newport', 'Stamford', 'Worcester'],\n",
        "                                                      'North-East')"
      ]
    },
    {
      "cell_type": "code",
      "execution_count": null,
      "metadata": {
        "id": "E08XZYEdj5V0"
      },
      "outputs": [],
      "source": [
        "# combine all the southern cities into the 'region' column\n",
        "df['region'] = df['region'].replace(['Atlanta', 'Brimingham', 'Charleston', 'Charlotte',\n",
        "                                                         'Louisville', 'Memphis', 'Nashville', 'NewOrleans',\n",
        "                                                         'Raleigh', 'Houston', 'Georgia', 'Oklahoma', 'Orlando',\n",
        "                                                         'Macon', 'Huntsville', 'Knoxville', 'Florence', 'Miami',\n",
        "                                                         'Tampa', 'PanamaCity', 'Kingsport', 'Marshall'],\n",
        "                                                         'Southern')"
      ]
    },
    {
      "cell_type": "code",
      "execution_count": null,
      "metadata": {
        "id": "0VhYinRVj5V0"
      },
      "outputs": [],
      "source": [
        "# combine all the mid-west cities into the 'region' column\n",
        "df['region'] = df['region'].replace(['Mandan', 'Waterloo', 'IowaCity', 'Columbia',\n",
        "                                                         'Indianapolis', 'Cincinnati', 'Bloomington', 'Salina',\n",
        "                                                         'KanasCity', 'Brookings', 'Minot', 'Chicago', 'Lincoln',\n",
        "                                                         'FallsCity', 'GrandForks', 'Fargo', 'Cleveland',\n",
        "                                                         'Canton', 'Columbus', 'Rochester', 'Minneapolis',\n",
        "                                                         'JeffersonCity', 'Escabana','Youngstown'],\n",
        "                                                         'Mid-West')"
      ]
    },
    {
      "cell_type": "code",
      "execution_count": null,
      "metadata": {
        "id": "WnqkVfFuj5V0"
      },
      "outputs": [],
      "source": [
        "# combine all the western cities into the 'region' column\n",
        "df['region'] = df['region'].replace(['SantaRosa', 'Eureka', 'SanFrancisco', 'SanJose',\n",
        "                                                         'LosAngeles', 'Oxnard', 'SanDeigo', 'Oceanside',\n",
        "                                                         'Carlsbad', 'Montrose', 'Prescott', 'Fresno', 'Reno',\n",
        "                                                         'LasVegas', 'Tucson', 'SanLuis', 'Denver', 'Kingman',\n",
        "                                                         'Bakersfield', 'Mexicali', 'SilverCity', 'Pheonix',\n",
        "                                                         'SantaFe', 'Lovelock'],\n",
        "                                                         'West')"
      ]
    },
    {
      "cell_type": "code",
      "execution_count": null,
      "metadata": {
        "id": "wCuyzuQsj5V0",
        "outputId": "c0c5a01d-74a8-4670-b20e-3cd95a24703a"
      },
      "outputs": [
        {
          "data": {
            "text/html": [
              "<div>\n",
              "<style scoped>\n",
              "    .dataframe tbody tr th:only-of-type {\n",
              "        vertical-align: middle;\n",
              "    }\n",
              "\n",
              "    .dataframe tbody tr th {\n",
              "        vertical-align: top;\n",
              "    }\n",
              "\n",
              "    .dataframe thead th {\n",
              "        text-align: right;\n",
              "    }\n",
              "</style>\n",
              "<table border=\"1\" class=\"dataframe\">\n",
              "  <thead>\n",
              "    <tr style=\"text-align: right;\">\n",
              "      <th></th>\n",
              "      <th>age</th>\n",
              "      <th>sex</th>\n",
              "      <th>weight</th>\n",
              "      <th>bmi</th>\n",
              "      <th>hereditary_diseases</th>\n",
              "      <th>no_of_dependents</th>\n",
              "      <th>smoker</th>\n",
              "      <th>city</th>\n",
              "      <th>bloodpressure</th>\n",
              "      <th>diabetes</th>\n",
              "      <th>regular_ex</th>\n",
              "      <th>job_title</th>\n",
              "      <th>claim</th>\n",
              "      <th>region</th>\n",
              "    </tr>\n",
              "  </thead>\n",
              "  <tbody>\n",
              "    <tr>\n",
              "      <th>0</th>\n",
              "      <td>60.0</td>\n",
              "      <td>male</td>\n",
              "      <td>64</td>\n",
              "      <td>24.3</td>\n",
              "      <td>NoDisease</td>\n",
              "      <td>1</td>\n",
              "      <td>0</td>\n",
              "      <td>NewYork</td>\n",
              "      <td>72</td>\n",
              "      <td>0</td>\n",
              "      <td>0</td>\n",
              "      <td>Actor</td>\n",
              "      <td>13112.6</td>\n",
              "      <td>North-East</td>\n",
              "    </tr>\n",
              "    <tr>\n",
              "      <th>1</th>\n",
              "      <td>49.0</td>\n",
              "      <td>female</td>\n",
              "      <td>75</td>\n",
              "      <td>22.6</td>\n",
              "      <td>NoDisease</td>\n",
              "      <td>1</td>\n",
              "      <td>0</td>\n",
              "      <td>Boston</td>\n",
              "      <td>78</td>\n",
              "      <td>1</td>\n",
              "      <td>1</td>\n",
              "      <td>Engineer</td>\n",
              "      <td>9567.0</td>\n",
              "      <td>North-East</td>\n",
              "    </tr>\n",
              "    <tr>\n",
              "      <th>2</th>\n",
              "      <td>32.0</td>\n",
              "      <td>female</td>\n",
              "      <td>64</td>\n",
              "      <td>17.8</td>\n",
              "      <td>Epilepsy</td>\n",
              "      <td>2</td>\n",
              "      <td>1</td>\n",
              "      <td>Phildelphia</td>\n",
              "      <td>88</td>\n",
              "      <td>1</td>\n",
              "      <td>1</td>\n",
              "      <td>Academician</td>\n",
              "      <td>32734.2</td>\n",
              "      <td>North-East</td>\n",
              "    </tr>\n",
              "    <tr>\n",
              "      <th>3</th>\n",
              "      <td>61.0</td>\n",
              "      <td>female</td>\n",
              "      <td>53</td>\n",
              "      <td>36.4</td>\n",
              "      <td>NoDisease</td>\n",
              "      <td>1</td>\n",
              "      <td>1</td>\n",
              "      <td>Pittsburg</td>\n",
              "      <td>72</td>\n",
              "      <td>1</td>\n",
              "      <td>0</td>\n",
              "      <td>Chef</td>\n",
              "      <td>48517.6</td>\n",
              "      <td>North-East</td>\n",
              "    </tr>\n",
              "    <tr>\n",
              "      <th>4</th>\n",
              "      <td>19.0</td>\n",
              "      <td>female</td>\n",
              "      <td>50</td>\n",
              "      <td>20.6</td>\n",
              "      <td>NoDisease</td>\n",
              "      <td>0</td>\n",
              "      <td>0</td>\n",
              "      <td>Buffalo</td>\n",
              "      <td>82</td>\n",
              "      <td>1</td>\n",
              "      <td>0</td>\n",
              "      <td>HomeMakers</td>\n",
              "      <td>1731.7</td>\n",
              "      <td>North-East</td>\n",
              "    </tr>\n",
              "  </tbody>\n",
              "</table>\n",
              "</div>"
            ],
            "text/plain": [
              "    age     sex  weight   bmi hereditary_diseases  no_of_dependents smoker  \\\n",
              "0  60.0    male      64  24.3           NoDisease                 1      0   \n",
              "1  49.0  female      75  22.6           NoDisease                 1      0   \n",
              "2  32.0  female      64  17.8            Epilepsy                 2      1   \n",
              "3  61.0  female      53  36.4           NoDisease                 1      1   \n",
              "4  19.0  female      50  20.6           NoDisease                 0      0   \n",
              "\n",
              "          city  bloodpressure diabetes regular_ex    job_title    claim  \\\n",
              "0      NewYork             72        0          0        Actor  13112.6   \n",
              "1       Boston             78        1          1     Engineer   9567.0   \n",
              "2  Phildelphia             88        1          1  Academician  32734.2   \n",
              "3    Pittsburg             72        1          0         Chef  48517.6   \n",
              "4      Buffalo             82        1          0   HomeMakers   1731.7   \n",
              "\n",
              "       region  \n",
              "0  North-East  \n",
              "1  North-East  \n",
              "2  North-East  \n",
              "3  North-East  \n",
              "4  North-East  "
            ]
          },
          "execution_count": 52,
          "metadata": {},
          "output_type": "execute_result"
        }
      ],
      "source": [
        "df.head()"
      ]
    },
    {
      "cell_type": "code",
      "execution_count": null,
      "metadata": {
        "id": "lJS6jk3oj5V1"
      },
      "outputs": [],
      "source": [
        "df.drop(['city'],axis=1,inplace=True)"
      ]
    },
    {
      "cell_type": "code",
      "execution_count": null,
      "metadata": {
        "id": "4cvRefLDj5V1",
        "outputId": "582afbd6-2c8d-4e45-d6cd-30a0d03f6072"
      },
      "outputs": [
        {
          "data": {
            "text/html": [
              "<div>\n",
              "<style scoped>\n",
              "    .dataframe tbody tr th:only-of-type {\n",
              "        vertical-align: middle;\n",
              "    }\n",
              "\n",
              "    .dataframe tbody tr th {\n",
              "        vertical-align: top;\n",
              "    }\n",
              "\n",
              "    .dataframe thead th {\n",
              "        text-align: right;\n",
              "    }\n",
              "</style>\n",
              "<table border=\"1\" class=\"dataframe\">\n",
              "  <thead>\n",
              "    <tr style=\"text-align: right;\">\n",
              "      <th></th>\n",
              "      <th>age</th>\n",
              "      <th>sex</th>\n",
              "      <th>weight</th>\n",
              "      <th>bmi</th>\n",
              "      <th>hereditary_diseases</th>\n",
              "      <th>no_of_dependents</th>\n",
              "      <th>smoker</th>\n",
              "      <th>bloodpressure</th>\n",
              "      <th>diabetes</th>\n",
              "      <th>regular_ex</th>\n",
              "      <th>job_title</th>\n",
              "      <th>claim</th>\n",
              "      <th>region</th>\n",
              "    </tr>\n",
              "  </thead>\n",
              "  <tbody>\n",
              "    <tr>\n",
              "      <th>0</th>\n",
              "      <td>60.0</td>\n",
              "      <td>male</td>\n",
              "      <td>64</td>\n",
              "      <td>24.3</td>\n",
              "      <td>NoDisease</td>\n",
              "      <td>1</td>\n",
              "      <td>0</td>\n",
              "      <td>72</td>\n",
              "      <td>0</td>\n",
              "      <td>0</td>\n",
              "      <td>Actor</td>\n",
              "      <td>13112.6</td>\n",
              "      <td>North-East</td>\n",
              "    </tr>\n",
              "    <tr>\n",
              "      <th>1</th>\n",
              "      <td>49.0</td>\n",
              "      <td>female</td>\n",
              "      <td>75</td>\n",
              "      <td>22.6</td>\n",
              "      <td>NoDisease</td>\n",
              "      <td>1</td>\n",
              "      <td>0</td>\n",
              "      <td>78</td>\n",
              "      <td>1</td>\n",
              "      <td>1</td>\n",
              "      <td>Engineer</td>\n",
              "      <td>9567.0</td>\n",
              "      <td>North-East</td>\n",
              "    </tr>\n",
              "    <tr>\n",
              "      <th>2</th>\n",
              "      <td>32.0</td>\n",
              "      <td>female</td>\n",
              "      <td>64</td>\n",
              "      <td>17.8</td>\n",
              "      <td>Epilepsy</td>\n",
              "      <td>2</td>\n",
              "      <td>1</td>\n",
              "      <td>88</td>\n",
              "      <td>1</td>\n",
              "      <td>1</td>\n",
              "      <td>Academician</td>\n",
              "      <td>32734.2</td>\n",
              "      <td>North-East</td>\n",
              "    </tr>\n",
              "    <tr>\n",
              "      <th>3</th>\n",
              "      <td>61.0</td>\n",
              "      <td>female</td>\n",
              "      <td>53</td>\n",
              "      <td>36.4</td>\n",
              "      <td>NoDisease</td>\n",
              "      <td>1</td>\n",
              "      <td>1</td>\n",
              "      <td>72</td>\n",
              "      <td>1</td>\n",
              "      <td>0</td>\n",
              "      <td>Chef</td>\n",
              "      <td>48517.6</td>\n",
              "      <td>North-East</td>\n",
              "    </tr>\n",
              "    <tr>\n",
              "      <th>4</th>\n",
              "      <td>19.0</td>\n",
              "      <td>female</td>\n",
              "      <td>50</td>\n",
              "      <td>20.6</td>\n",
              "      <td>NoDisease</td>\n",
              "      <td>0</td>\n",
              "      <td>0</td>\n",
              "      <td>82</td>\n",
              "      <td>1</td>\n",
              "      <td>0</td>\n",
              "      <td>HomeMakers</td>\n",
              "      <td>1731.7</td>\n",
              "      <td>North-East</td>\n",
              "    </tr>\n",
              "  </tbody>\n",
              "</table>\n",
              "</div>"
            ],
            "text/plain": [
              "    age     sex  weight   bmi hereditary_diseases  no_of_dependents smoker  \\\n",
              "0  60.0    male      64  24.3           NoDisease                 1      0   \n",
              "1  49.0  female      75  22.6           NoDisease                 1      0   \n",
              "2  32.0  female      64  17.8            Epilepsy                 2      1   \n",
              "3  61.0  female      53  36.4           NoDisease                 1      1   \n",
              "4  19.0  female      50  20.6           NoDisease                 0      0   \n",
              "\n",
              "   bloodpressure diabetes regular_ex    job_title    claim      region  \n",
              "0             72        0          0        Actor  13112.6  North-East  \n",
              "1             78        1          1     Engineer   9567.0  North-East  \n",
              "2             88        1          1  Academician  32734.2  North-East  \n",
              "3             72        1          0         Chef  48517.6  North-East  \n",
              "4             82        1          0   HomeMakers   1731.7  North-East  "
            ]
          },
          "execution_count": 54,
          "metadata": {},
          "output_type": "execute_result"
        }
      ],
      "source": [
        "df.head()"
      ]
    },
    {
      "cell_type": "code",
      "execution_count": null,
      "metadata": {
        "id": "MJGwTdtZj5V1"
      },
      "outputs": [],
      "source": [
        "# df['job_title'].value_counts()"
      ]
    },
    {
      "cell_type": "markdown",
      "metadata": {
        "id": "4B3zmp67j5V1"
      },
      "source": [
        "### Data Encoding"
      ]
    },
    {
      "cell_type": "code",
      "execution_count": null,
      "metadata": {
        "id": "pteVSqMij5V2"
      },
      "outputs": [],
      "source": [
        "df_num = df.select_dtypes(include=np.number)"
      ]
    },
    {
      "cell_type": "code",
      "execution_count": null,
      "metadata": {
        "id": "udhQx2Wnj5V3"
      },
      "outputs": [],
      "source": [
        "df_cat = df.select_dtypes(include=[np.object])"
      ]
    },
    {
      "cell_type": "code",
      "execution_count": null,
      "metadata": {
        "id": "AMPuYlibj5V3",
        "outputId": "9a575517-c9bb-4824-bad7-56e4412055b0"
      },
      "outputs": [
        {
          "name": "stderr",
          "output_type": "stream",
          "text": [
            "C:\\Users\\Rakesh Sriramula\\anaconda3\\lib\\site-packages\\pandas\\core\\frame.py:4163: SettingWithCopyWarning: \n",
            "A value is trying to be set on a copy of a slice from a DataFrame\n",
            "\n",
            "See the caveats in the documentation: https://pandas.pydata.org/pandas-docs/stable/user_guide/indexing.html#returning-a-view-versus-a-copy\n",
            "  return super().drop(\n"
          ]
        }
      ],
      "source": [
        "df_cat.drop(['job_title'],axis=1,inplace=True)"
      ]
    },
    {
      "cell_type": "code",
      "execution_count": null,
      "metadata": {
        "id": "QpeisDwUj5V4"
      },
      "outputs": [],
      "source": []
    },
    {
      "cell_type": "code",
      "execution_count": null,
      "metadata": {
        "id": "4mqR1Zb4j5V4",
        "outputId": "8bf542cd-4465-47c0-cb52-2cf118497ad0"
      },
      "outputs": [
        {
          "data": {
            "text/html": [
              "<div>\n",
              "<style scoped>\n",
              "    .dataframe tbody tr th:only-of-type {\n",
              "        vertical-align: middle;\n",
              "    }\n",
              "\n",
              "    .dataframe tbody tr th {\n",
              "        vertical-align: top;\n",
              "    }\n",
              "\n",
              "    .dataframe thead th {\n",
              "        text-align: right;\n",
              "    }\n",
              "</style>\n",
              "<table border=\"1\" class=\"dataframe\">\n",
              "  <thead>\n",
              "    <tr style=\"text-align: right;\">\n",
              "      <th></th>\n",
              "      <th>sex</th>\n",
              "      <th>hereditary_diseases</th>\n",
              "      <th>smoker</th>\n",
              "      <th>diabetes</th>\n",
              "      <th>regular_ex</th>\n",
              "      <th>region</th>\n",
              "    </tr>\n",
              "  </thead>\n",
              "  <tbody>\n",
              "    <tr>\n",
              "      <th>0</th>\n",
              "      <td>male</td>\n",
              "      <td>NoDisease</td>\n",
              "      <td>0</td>\n",
              "      <td>0</td>\n",
              "      <td>0</td>\n",
              "      <td>North-East</td>\n",
              "    </tr>\n",
              "    <tr>\n",
              "      <th>1</th>\n",
              "      <td>female</td>\n",
              "      <td>NoDisease</td>\n",
              "      <td>0</td>\n",
              "      <td>1</td>\n",
              "      <td>1</td>\n",
              "      <td>North-East</td>\n",
              "    </tr>\n",
              "    <tr>\n",
              "      <th>2</th>\n",
              "      <td>female</td>\n",
              "      <td>Epilepsy</td>\n",
              "      <td>1</td>\n",
              "      <td>1</td>\n",
              "      <td>1</td>\n",
              "      <td>North-East</td>\n",
              "    </tr>\n",
              "    <tr>\n",
              "      <th>3</th>\n",
              "      <td>female</td>\n",
              "      <td>NoDisease</td>\n",
              "      <td>1</td>\n",
              "      <td>1</td>\n",
              "      <td>0</td>\n",
              "      <td>North-East</td>\n",
              "    </tr>\n",
              "    <tr>\n",
              "      <th>4</th>\n",
              "      <td>female</td>\n",
              "      <td>NoDisease</td>\n",
              "      <td>0</td>\n",
              "      <td>1</td>\n",
              "      <td>0</td>\n",
              "      <td>North-East</td>\n",
              "    </tr>\n",
              "    <tr>\n",
              "      <th>...</th>\n",
              "      <td>...</td>\n",
              "      <td>...</td>\n",
              "      <td>...</td>\n",
              "      <td>...</td>\n",
              "      <td>...</td>\n",
              "      <td>...</td>\n",
              "    </tr>\n",
              "    <tr>\n",
              "      <th>14995</th>\n",
              "      <td>male</td>\n",
              "      <td>NoDisease</td>\n",
              "      <td>1</td>\n",
              "      <td>1</td>\n",
              "      <td>0</td>\n",
              "      <td>Southern</td>\n",
              "    </tr>\n",
              "    <tr>\n",
              "      <th>14996</th>\n",
              "      <td>male</td>\n",
              "      <td>NoDisease</td>\n",
              "      <td>0</td>\n",
              "      <td>1</td>\n",
              "      <td>0</td>\n",
              "      <td>Southern</td>\n",
              "    </tr>\n",
              "    <tr>\n",
              "      <th>14997</th>\n",
              "      <td>male</td>\n",
              "      <td>NoDisease</td>\n",
              "      <td>0</td>\n",
              "      <td>1</td>\n",
              "      <td>0</td>\n",
              "      <td>Southern</td>\n",
              "    </tr>\n",
              "    <tr>\n",
              "      <th>14998</th>\n",
              "      <td>male</td>\n",
              "      <td>NoDisease</td>\n",
              "      <td>0</td>\n",
              "      <td>1</td>\n",
              "      <td>0</td>\n",
              "      <td>Southern</td>\n",
              "    </tr>\n",
              "    <tr>\n",
              "      <th>14999</th>\n",
              "      <td>male</td>\n",
              "      <td>NoDisease</td>\n",
              "      <td>0</td>\n",
              "      <td>1</td>\n",
              "      <td>0</td>\n",
              "      <td>Southern</td>\n",
              "    </tr>\n",
              "  </tbody>\n",
              "</table>\n",
              "<p>15000 rows × 6 columns</p>\n",
              "</div>"
            ],
            "text/plain": [
              "          sex hereditary_diseases smoker diabetes regular_ex      region\n",
              "0        male           NoDisease      0        0          0  North-East\n",
              "1      female           NoDisease      0        1          1  North-East\n",
              "2      female            Epilepsy      1        1          1  North-East\n",
              "3      female           NoDisease      1        1          0  North-East\n",
              "4      female           NoDisease      0        1          0  North-East\n",
              "...       ...                 ...    ...      ...        ...         ...\n",
              "14995    male           NoDisease      1        1          0    Southern\n",
              "14996    male           NoDisease      0        1          0    Southern\n",
              "14997    male           NoDisease      0        1          0    Southern\n",
              "14998    male           NoDisease      0        1          0    Southern\n",
              "14999    male           NoDisease      0        1          0    Southern\n",
              "\n",
              "[15000 rows x 6 columns]"
            ]
          },
          "execution_count": 62,
          "metadata": {},
          "output_type": "execute_result"
        }
      ],
      "source": [
        "df_cat"
      ]
    },
    {
      "cell_type": "code",
      "execution_count": null,
      "metadata": {
        "id": "Tvd58L54j5V4"
      },
      "outputs": [],
      "source": [
        "cat_dummy = pd.get_dummies(df_cat,drop_first=True)"
      ]
    },
    {
      "cell_type": "code",
      "execution_count": null,
      "metadata": {
        "id": "gGDCMnMfj5V4",
        "outputId": "a22944f5-df31-47d0-91bc-89cdf235b718"
      },
      "outputs": [
        {
          "data": {
            "text/html": [
              "<div>\n",
              "<style scoped>\n",
              "    .dataframe tbody tr th:only-of-type {\n",
              "        vertical-align: middle;\n",
              "    }\n",
              "\n",
              "    .dataframe tbody tr th {\n",
              "        vertical-align: top;\n",
              "    }\n",
              "\n",
              "    .dataframe thead th {\n",
              "        text-align: right;\n",
              "    }\n",
              "</style>\n",
              "<table border=\"1\" class=\"dataframe\">\n",
              "  <thead>\n",
              "    <tr style=\"text-align: right;\">\n",
              "      <th></th>\n",
              "      <th>sex_male</th>\n",
              "      <th>hereditary_diseases_Arthritis</th>\n",
              "      <th>hereditary_diseases_Cancer</th>\n",
              "      <th>hereditary_diseases_Diabetes</th>\n",
              "      <th>hereditary_diseases_Epilepsy</th>\n",
              "      <th>hereditary_diseases_EyeDisease</th>\n",
              "      <th>hereditary_diseases_HeartDisease</th>\n",
              "      <th>hereditary_diseases_High BP</th>\n",
              "      <th>hereditary_diseases_NoDisease</th>\n",
              "      <th>hereditary_diseases_Obesity</th>\n",
              "      <th>smoker_1</th>\n",
              "      <th>diabetes_1</th>\n",
              "      <th>regular_ex_1</th>\n",
              "      <th>region_North-East</th>\n",
              "      <th>region_Southern</th>\n",
              "      <th>region_West</th>\n",
              "    </tr>\n",
              "  </thead>\n",
              "  <tbody>\n",
              "    <tr>\n",
              "      <th>0</th>\n",
              "      <td>1</td>\n",
              "      <td>0</td>\n",
              "      <td>0</td>\n",
              "      <td>0</td>\n",
              "      <td>0</td>\n",
              "      <td>0</td>\n",
              "      <td>0</td>\n",
              "      <td>0</td>\n",
              "      <td>1</td>\n",
              "      <td>0</td>\n",
              "      <td>0</td>\n",
              "      <td>0</td>\n",
              "      <td>0</td>\n",
              "      <td>1</td>\n",
              "      <td>0</td>\n",
              "      <td>0</td>\n",
              "    </tr>\n",
              "    <tr>\n",
              "      <th>1</th>\n",
              "      <td>0</td>\n",
              "      <td>0</td>\n",
              "      <td>0</td>\n",
              "      <td>0</td>\n",
              "      <td>0</td>\n",
              "      <td>0</td>\n",
              "      <td>0</td>\n",
              "      <td>0</td>\n",
              "      <td>1</td>\n",
              "      <td>0</td>\n",
              "      <td>0</td>\n",
              "      <td>1</td>\n",
              "      <td>1</td>\n",
              "      <td>1</td>\n",
              "      <td>0</td>\n",
              "      <td>0</td>\n",
              "    </tr>\n",
              "    <tr>\n",
              "      <th>2</th>\n",
              "      <td>0</td>\n",
              "      <td>0</td>\n",
              "      <td>0</td>\n",
              "      <td>0</td>\n",
              "      <td>1</td>\n",
              "      <td>0</td>\n",
              "      <td>0</td>\n",
              "      <td>0</td>\n",
              "      <td>0</td>\n",
              "      <td>0</td>\n",
              "      <td>1</td>\n",
              "      <td>1</td>\n",
              "      <td>1</td>\n",
              "      <td>1</td>\n",
              "      <td>0</td>\n",
              "      <td>0</td>\n",
              "    </tr>\n",
              "    <tr>\n",
              "      <th>3</th>\n",
              "      <td>0</td>\n",
              "      <td>0</td>\n",
              "      <td>0</td>\n",
              "      <td>0</td>\n",
              "      <td>0</td>\n",
              "      <td>0</td>\n",
              "      <td>0</td>\n",
              "      <td>0</td>\n",
              "      <td>1</td>\n",
              "      <td>0</td>\n",
              "      <td>1</td>\n",
              "      <td>1</td>\n",
              "      <td>0</td>\n",
              "      <td>1</td>\n",
              "      <td>0</td>\n",
              "      <td>0</td>\n",
              "    </tr>\n",
              "    <tr>\n",
              "      <th>4</th>\n",
              "      <td>0</td>\n",
              "      <td>0</td>\n",
              "      <td>0</td>\n",
              "      <td>0</td>\n",
              "      <td>0</td>\n",
              "      <td>0</td>\n",
              "      <td>0</td>\n",
              "      <td>0</td>\n",
              "      <td>1</td>\n",
              "      <td>0</td>\n",
              "      <td>0</td>\n",
              "      <td>1</td>\n",
              "      <td>0</td>\n",
              "      <td>1</td>\n",
              "      <td>0</td>\n",
              "      <td>0</td>\n",
              "    </tr>\n",
              "    <tr>\n",
              "      <th>...</th>\n",
              "      <td>...</td>\n",
              "      <td>...</td>\n",
              "      <td>...</td>\n",
              "      <td>...</td>\n",
              "      <td>...</td>\n",
              "      <td>...</td>\n",
              "      <td>...</td>\n",
              "      <td>...</td>\n",
              "      <td>...</td>\n",
              "      <td>...</td>\n",
              "      <td>...</td>\n",
              "      <td>...</td>\n",
              "      <td>...</td>\n",
              "      <td>...</td>\n",
              "      <td>...</td>\n",
              "      <td>...</td>\n",
              "    </tr>\n",
              "    <tr>\n",
              "      <th>14995</th>\n",
              "      <td>1</td>\n",
              "      <td>0</td>\n",
              "      <td>0</td>\n",
              "      <td>0</td>\n",
              "      <td>0</td>\n",
              "      <td>0</td>\n",
              "      <td>0</td>\n",
              "      <td>0</td>\n",
              "      <td>1</td>\n",
              "      <td>0</td>\n",
              "      <td>1</td>\n",
              "      <td>1</td>\n",
              "      <td>0</td>\n",
              "      <td>0</td>\n",
              "      <td>1</td>\n",
              "      <td>0</td>\n",
              "    </tr>\n",
              "    <tr>\n",
              "      <th>14996</th>\n",
              "      <td>1</td>\n",
              "      <td>0</td>\n",
              "      <td>0</td>\n",
              "      <td>0</td>\n",
              "      <td>0</td>\n",
              "      <td>0</td>\n",
              "      <td>0</td>\n",
              "      <td>0</td>\n",
              "      <td>1</td>\n",
              "      <td>0</td>\n",
              "      <td>0</td>\n",
              "      <td>1</td>\n",
              "      <td>0</td>\n",
              "      <td>0</td>\n",
              "      <td>1</td>\n",
              "      <td>0</td>\n",
              "    </tr>\n",
              "    <tr>\n",
              "      <th>14997</th>\n",
              "      <td>1</td>\n",
              "      <td>0</td>\n",
              "      <td>0</td>\n",
              "      <td>0</td>\n",
              "      <td>0</td>\n",
              "      <td>0</td>\n",
              "      <td>0</td>\n",
              "      <td>0</td>\n",
              "      <td>1</td>\n",
              "      <td>0</td>\n",
              "      <td>0</td>\n",
              "      <td>1</td>\n",
              "      <td>0</td>\n",
              "      <td>0</td>\n",
              "      <td>1</td>\n",
              "      <td>0</td>\n",
              "    </tr>\n",
              "    <tr>\n",
              "      <th>14998</th>\n",
              "      <td>1</td>\n",
              "      <td>0</td>\n",
              "      <td>0</td>\n",
              "      <td>0</td>\n",
              "      <td>0</td>\n",
              "      <td>0</td>\n",
              "      <td>0</td>\n",
              "      <td>0</td>\n",
              "      <td>1</td>\n",
              "      <td>0</td>\n",
              "      <td>0</td>\n",
              "      <td>1</td>\n",
              "      <td>0</td>\n",
              "      <td>0</td>\n",
              "      <td>1</td>\n",
              "      <td>0</td>\n",
              "    </tr>\n",
              "    <tr>\n",
              "      <th>14999</th>\n",
              "      <td>1</td>\n",
              "      <td>0</td>\n",
              "      <td>0</td>\n",
              "      <td>0</td>\n",
              "      <td>0</td>\n",
              "      <td>0</td>\n",
              "      <td>0</td>\n",
              "      <td>0</td>\n",
              "      <td>1</td>\n",
              "      <td>0</td>\n",
              "      <td>0</td>\n",
              "      <td>1</td>\n",
              "      <td>0</td>\n",
              "      <td>0</td>\n",
              "      <td>1</td>\n",
              "      <td>0</td>\n",
              "    </tr>\n",
              "  </tbody>\n",
              "</table>\n",
              "<p>15000 rows × 16 columns</p>\n",
              "</div>"
            ],
            "text/plain": [
              "       sex_male  hereditary_diseases_Arthritis  hereditary_diseases_Cancer  \\\n",
              "0             1                              0                           0   \n",
              "1             0                              0                           0   \n",
              "2             0                              0                           0   \n",
              "3             0                              0                           0   \n",
              "4             0                              0                           0   \n",
              "...         ...                            ...                         ...   \n",
              "14995         1                              0                           0   \n",
              "14996         1                              0                           0   \n",
              "14997         1                              0                           0   \n",
              "14998         1                              0                           0   \n",
              "14999         1                              0                           0   \n",
              "\n",
              "       hereditary_diseases_Diabetes  hereditary_diseases_Epilepsy  \\\n",
              "0                                 0                             0   \n",
              "1                                 0                             0   \n",
              "2                                 0                             1   \n",
              "3                                 0                             0   \n",
              "4                                 0                             0   \n",
              "...                             ...                           ...   \n",
              "14995                             0                             0   \n",
              "14996                             0                             0   \n",
              "14997                             0                             0   \n",
              "14998                             0                             0   \n",
              "14999                             0                             0   \n",
              "\n",
              "       hereditary_diseases_EyeDisease  hereditary_diseases_HeartDisease  \\\n",
              "0                                   0                                 0   \n",
              "1                                   0                                 0   \n",
              "2                                   0                                 0   \n",
              "3                                   0                                 0   \n",
              "4                                   0                                 0   \n",
              "...                               ...                               ...   \n",
              "14995                               0                                 0   \n",
              "14996                               0                                 0   \n",
              "14997                               0                                 0   \n",
              "14998                               0                                 0   \n",
              "14999                               0                                 0   \n",
              "\n",
              "       hereditary_diseases_High BP  hereditary_diseases_NoDisease  \\\n",
              "0                                0                              1   \n",
              "1                                0                              1   \n",
              "2                                0                              0   \n",
              "3                                0                              1   \n",
              "4                                0                              1   \n",
              "...                            ...                            ...   \n",
              "14995                            0                              1   \n",
              "14996                            0                              1   \n",
              "14997                            0                              1   \n",
              "14998                            0                              1   \n",
              "14999                            0                              1   \n",
              "\n",
              "       hereditary_diseases_Obesity  smoker_1  diabetes_1  regular_ex_1  \\\n",
              "0                                0         0           0             0   \n",
              "1                                0         0           1             1   \n",
              "2                                0         1           1             1   \n",
              "3                                0         1           1             0   \n",
              "4                                0         0           1             0   \n",
              "...                            ...       ...         ...           ...   \n",
              "14995                            0         1           1             0   \n",
              "14996                            0         0           1             0   \n",
              "14997                            0         0           1             0   \n",
              "14998                            0         0           1             0   \n",
              "14999                            0         0           1             0   \n",
              "\n",
              "       region_North-East  region_Southern  region_West  \n",
              "0                      1                0            0  \n",
              "1                      1                0            0  \n",
              "2                      1                0            0  \n",
              "3                      1                0            0  \n",
              "4                      1                0            0  \n",
              "...                  ...              ...          ...  \n",
              "14995                  0                1            0  \n",
              "14996                  0                1            0  \n",
              "14997                  0                1            0  \n",
              "14998                  0                1            0  \n",
              "14999                  0                1            0  \n",
              "\n",
              "[15000 rows x 16 columns]"
            ]
          },
          "execution_count": 64,
          "metadata": {},
          "output_type": "execute_result"
        }
      ],
      "source": [
        "cat_dummy"
      ]
    },
    {
      "cell_type": "code",
      "execution_count": null,
      "metadata": {
        "id": "_7xEtNGWj5V4",
        "outputId": "c8bbfc4a-fc5e-4889-95f5-461a345d4a5a"
      },
      "outputs": [
        {
          "data": {
            "text/html": [
              "<div>\n",
              "<style scoped>\n",
              "    .dataframe tbody tr th:only-of-type {\n",
              "        vertical-align: middle;\n",
              "    }\n",
              "\n",
              "    .dataframe tbody tr th {\n",
              "        vertical-align: top;\n",
              "    }\n",
              "\n",
              "    .dataframe thead th {\n",
              "        text-align: right;\n",
              "    }\n",
              "</style>\n",
              "<table border=\"1\" class=\"dataframe\">\n",
              "  <thead>\n",
              "    <tr style=\"text-align: right;\">\n",
              "      <th></th>\n",
              "      <th>age</th>\n",
              "      <th>weight</th>\n",
              "      <th>bmi</th>\n",
              "      <th>no_of_dependents</th>\n",
              "      <th>bloodpressure</th>\n",
              "      <th>claim</th>\n",
              "    </tr>\n",
              "  </thead>\n",
              "  <tbody>\n",
              "    <tr>\n",
              "      <th>0</th>\n",
              "      <td>60.0</td>\n",
              "      <td>64</td>\n",
              "      <td>24.3</td>\n",
              "      <td>1</td>\n",
              "      <td>72</td>\n",
              "      <td>13112.6</td>\n",
              "    </tr>\n",
              "    <tr>\n",
              "      <th>1</th>\n",
              "      <td>49.0</td>\n",
              "      <td>75</td>\n",
              "      <td>22.6</td>\n",
              "      <td>1</td>\n",
              "      <td>78</td>\n",
              "      <td>9567.0</td>\n",
              "    </tr>\n",
              "    <tr>\n",
              "      <th>2</th>\n",
              "      <td>32.0</td>\n",
              "      <td>64</td>\n",
              "      <td>17.8</td>\n",
              "      <td>2</td>\n",
              "      <td>88</td>\n",
              "      <td>32734.2</td>\n",
              "    </tr>\n",
              "    <tr>\n",
              "      <th>3</th>\n",
              "      <td>61.0</td>\n",
              "      <td>53</td>\n",
              "      <td>36.4</td>\n",
              "      <td>1</td>\n",
              "      <td>72</td>\n",
              "      <td>48517.6</td>\n",
              "    </tr>\n",
              "    <tr>\n",
              "      <th>4</th>\n",
              "      <td>19.0</td>\n",
              "      <td>50</td>\n",
              "      <td>20.6</td>\n",
              "      <td>0</td>\n",
              "      <td>82</td>\n",
              "      <td>1731.7</td>\n",
              "    </tr>\n",
              "    <tr>\n",
              "      <th>...</th>\n",
              "      <td>...</td>\n",
              "      <td>...</td>\n",
              "      <td>...</td>\n",
              "      <td>...</td>\n",
              "      <td>...</td>\n",
              "      <td>...</td>\n",
              "    </tr>\n",
              "    <tr>\n",
              "      <th>14995</th>\n",
              "      <td>39.0</td>\n",
              "      <td>49</td>\n",
              "      <td>28.3</td>\n",
              "      <td>1</td>\n",
              "      <td>54</td>\n",
              "      <td>21082.2</td>\n",
              "    </tr>\n",
              "    <tr>\n",
              "      <th>14996</th>\n",
              "      <td>39.0</td>\n",
              "      <td>74</td>\n",
              "      <td>29.6</td>\n",
              "      <td>4</td>\n",
              "      <td>64</td>\n",
              "      <td>7512.3</td>\n",
              "    </tr>\n",
              "    <tr>\n",
              "      <th>14997</th>\n",
              "      <td>20.0</td>\n",
              "      <td>62</td>\n",
              "      <td>33.3</td>\n",
              "      <td>0</td>\n",
              "      <td>52</td>\n",
              "      <td>1391.5</td>\n",
              "    </tr>\n",
              "    <tr>\n",
              "      <th>14998</th>\n",
              "      <td>52.0</td>\n",
              "      <td>88</td>\n",
              "      <td>36.7</td>\n",
              "      <td>0</td>\n",
              "      <td>70</td>\n",
              "      <td>9144.6</td>\n",
              "    </tr>\n",
              "    <tr>\n",
              "      <th>14999</th>\n",
              "      <td>52.0</td>\n",
              "      <td>57</td>\n",
              "      <td>26.4</td>\n",
              "      <td>3</td>\n",
              "      <td>72</td>\n",
              "      <td>25992.8</td>\n",
              "    </tr>\n",
              "  </tbody>\n",
              "</table>\n",
              "<p>15000 rows × 6 columns</p>\n",
              "</div>"
            ],
            "text/plain": [
              "        age  weight   bmi  no_of_dependents  bloodpressure    claim\n",
              "0      60.0      64  24.3                 1             72  13112.6\n",
              "1      49.0      75  22.6                 1             78   9567.0\n",
              "2      32.0      64  17.8                 2             88  32734.2\n",
              "3      61.0      53  36.4                 1             72  48517.6\n",
              "4      19.0      50  20.6                 0             82   1731.7\n",
              "...     ...     ...   ...               ...            ...      ...\n",
              "14995  39.0      49  28.3                 1             54  21082.2\n",
              "14996  39.0      74  29.6                 4             64   7512.3\n",
              "14997  20.0      62  33.3                 0             52   1391.5\n",
              "14998  52.0      88  36.7                 0             70   9144.6\n",
              "14999  52.0      57  26.4                 3             72  25992.8\n",
              "\n",
              "[15000 rows x 6 columns]"
            ]
          },
          "execution_count": 60,
          "metadata": {},
          "output_type": "execute_result"
        }
      ],
      "source": [
        "df_num"
      ]
    },
    {
      "cell_type": "code",
      "execution_count": null,
      "metadata": {
        "id": "bK2jITGwj5V5"
      },
      "outputs": [],
      "source": [
        "final_df = pd.concat([df_num,cat_dummy],axis=1)"
      ]
    },
    {
      "cell_type": "code",
      "execution_count": null,
      "metadata": {
        "id": "Iqw_uEJ-j5V5",
        "outputId": "8e092f73-8cb7-4853-f6e8-46f59f07a79e"
      },
      "outputs": [
        {
          "data": {
            "text/html": [
              "<div>\n",
              "<style scoped>\n",
              "    .dataframe tbody tr th:only-of-type {\n",
              "        vertical-align: middle;\n",
              "    }\n",
              "\n",
              "    .dataframe tbody tr th {\n",
              "        vertical-align: top;\n",
              "    }\n",
              "\n",
              "    .dataframe thead th {\n",
              "        text-align: right;\n",
              "    }\n",
              "</style>\n",
              "<table border=\"1\" class=\"dataframe\">\n",
              "  <thead>\n",
              "    <tr style=\"text-align: right;\">\n",
              "      <th></th>\n",
              "      <th>age</th>\n",
              "      <th>weight</th>\n",
              "      <th>bmi</th>\n",
              "      <th>no_of_dependents</th>\n",
              "      <th>bloodpressure</th>\n",
              "      <th>claim</th>\n",
              "      <th>sex_male</th>\n",
              "      <th>hereditary_diseases_Arthritis</th>\n",
              "      <th>hereditary_diseases_Cancer</th>\n",
              "      <th>hereditary_diseases_Diabetes</th>\n",
              "      <th>...</th>\n",
              "      <th>hereditary_diseases_HeartDisease</th>\n",
              "      <th>hereditary_diseases_High BP</th>\n",
              "      <th>hereditary_diseases_NoDisease</th>\n",
              "      <th>hereditary_diseases_Obesity</th>\n",
              "      <th>smoker_1</th>\n",
              "      <th>diabetes_1</th>\n",
              "      <th>regular_ex_1</th>\n",
              "      <th>region_North-East</th>\n",
              "      <th>region_Southern</th>\n",
              "      <th>region_West</th>\n",
              "    </tr>\n",
              "  </thead>\n",
              "  <tbody>\n",
              "    <tr>\n",
              "      <th>0</th>\n",
              "      <td>60.0</td>\n",
              "      <td>64</td>\n",
              "      <td>24.3</td>\n",
              "      <td>1</td>\n",
              "      <td>72</td>\n",
              "      <td>13112.6</td>\n",
              "      <td>1</td>\n",
              "      <td>0</td>\n",
              "      <td>0</td>\n",
              "      <td>0</td>\n",
              "      <td>...</td>\n",
              "      <td>0</td>\n",
              "      <td>0</td>\n",
              "      <td>1</td>\n",
              "      <td>0</td>\n",
              "      <td>0</td>\n",
              "      <td>0</td>\n",
              "      <td>0</td>\n",
              "      <td>1</td>\n",
              "      <td>0</td>\n",
              "      <td>0</td>\n",
              "    </tr>\n",
              "    <tr>\n",
              "      <th>1</th>\n",
              "      <td>49.0</td>\n",
              "      <td>75</td>\n",
              "      <td>22.6</td>\n",
              "      <td>1</td>\n",
              "      <td>78</td>\n",
              "      <td>9567.0</td>\n",
              "      <td>0</td>\n",
              "      <td>0</td>\n",
              "      <td>0</td>\n",
              "      <td>0</td>\n",
              "      <td>...</td>\n",
              "      <td>0</td>\n",
              "      <td>0</td>\n",
              "      <td>1</td>\n",
              "      <td>0</td>\n",
              "      <td>0</td>\n",
              "      <td>1</td>\n",
              "      <td>1</td>\n",
              "      <td>1</td>\n",
              "      <td>0</td>\n",
              "      <td>0</td>\n",
              "    </tr>\n",
              "    <tr>\n",
              "      <th>2</th>\n",
              "      <td>32.0</td>\n",
              "      <td>64</td>\n",
              "      <td>17.8</td>\n",
              "      <td>2</td>\n",
              "      <td>88</td>\n",
              "      <td>32734.2</td>\n",
              "      <td>0</td>\n",
              "      <td>0</td>\n",
              "      <td>0</td>\n",
              "      <td>0</td>\n",
              "      <td>...</td>\n",
              "      <td>0</td>\n",
              "      <td>0</td>\n",
              "      <td>0</td>\n",
              "      <td>0</td>\n",
              "      <td>1</td>\n",
              "      <td>1</td>\n",
              "      <td>1</td>\n",
              "      <td>1</td>\n",
              "      <td>0</td>\n",
              "      <td>0</td>\n",
              "    </tr>\n",
              "    <tr>\n",
              "      <th>3</th>\n",
              "      <td>61.0</td>\n",
              "      <td>53</td>\n",
              "      <td>36.4</td>\n",
              "      <td>1</td>\n",
              "      <td>72</td>\n",
              "      <td>48517.6</td>\n",
              "      <td>0</td>\n",
              "      <td>0</td>\n",
              "      <td>0</td>\n",
              "      <td>0</td>\n",
              "      <td>...</td>\n",
              "      <td>0</td>\n",
              "      <td>0</td>\n",
              "      <td>1</td>\n",
              "      <td>0</td>\n",
              "      <td>1</td>\n",
              "      <td>1</td>\n",
              "      <td>0</td>\n",
              "      <td>1</td>\n",
              "      <td>0</td>\n",
              "      <td>0</td>\n",
              "    </tr>\n",
              "    <tr>\n",
              "      <th>4</th>\n",
              "      <td>19.0</td>\n",
              "      <td>50</td>\n",
              "      <td>20.6</td>\n",
              "      <td>0</td>\n",
              "      <td>82</td>\n",
              "      <td>1731.7</td>\n",
              "      <td>0</td>\n",
              "      <td>0</td>\n",
              "      <td>0</td>\n",
              "      <td>0</td>\n",
              "      <td>...</td>\n",
              "      <td>0</td>\n",
              "      <td>0</td>\n",
              "      <td>1</td>\n",
              "      <td>0</td>\n",
              "      <td>0</td>\n",
              "      <td>1</td>\n",
              "      <td>0</td>\n",
              "      <td>1</td>\n",
              "      <td>0</td>\n",
              "      <td>0</td>\n",
              "    </tr>\n",
              "    <tr>\n",
              "      <th>...</th>\n",
              "      <td>...</td>\n",
              "      <td>...</td>\n",
              "      <td>...</td>\n",
              "      <td>...</td>\n",
              "      <td>...</td>\n",
              "      <td>...</td>\n",
              "      <td>...</td>\n",
              "      <td>...</td>\n",
              "      <td>...</td>\n",
              "      <td>...</td>\n",
              "      <td>...</td>\n",
              "      <td>...</td>\n",
              "      <td>...</td>\n",
              "      <td>...</td>\n",
              "      <td>...</td>\n",
              "      <td>...</td>\n",
              "      <td>...</td>\n",
              "      <td>...</td>\n",
              "      <td>...</td>\n",
              "      <td>...</td>\n",
              "      <td>...</td>\n",
              "    </tr>\n",
              "    <tr>\n",
              "      <th>14995</th>\n",
              "      <td>39.0</td>\n",
              "      <td>49</td>\n",
              "      <td>28.3</td>\n",
              "      <td>1</td>\n",
              "      <td>54</td>\n",
              "      <td>21082.2</td>\n",
              "      <td>1</td>\n",
              "      <td>0</td>\n",
              "      <td>0</td>\n",
              "      <td>0</td>\n",
              "      <td>...</td>\n",
              "      <td>0</td>\n",
              "      <td>0</td>\n",
              "      <td>1</td>\n",
              "      <td>0</td>\n",
              "      <td>1</td>\n",
              "      <td>1</td>\n",
              "      <td>0</td>\n",
              "      <td>0</td>\n",
              "      <td>1</td>\n",
              "      <td>0</td>\n",
              "    </tr>\n",
              "    <tr>\n",
              "      <th>14996</th>\n",
              "      <td>39.0</td>\n",
              "      <td>74</td>\n",
              "      <td>29.6</td>\n",
              "      <td>4</td>\n",
              "      <td>64</td>\n",
              "      <td>7512.3</td>\n",
              "      <td>1</td>\n",
              "      <td>0</td>\n",
              "      <td>0</td>\n",
              "      <td>0</td>\n",
              "      <td>...</td>\n",
              "      <td>0</td>\n",
              "      <td>0</td>\n",
              "      <td>1</td>\n",
              "      <td>0</td>\n",
              "      <td>0</td>\n",
              "      <td>1</td>\n",
              "      <td>0</td>\n",
              "      <td>0</td>\n",
              "      <td>1</td>\n",
              "      <td>0</td>\n",
              "    </tr>\n",
              "    <tr>\n",
              "      <th>14997</th>\n",
              "      <td>20.0</td>\n",
              "      <td>62</td>\n",
              "      <td>33.3</td>\n",
              "      <td>0</td>\n",
              "      <td>52</td>\n",
              "      <td>1391.5</td>\n",
              "      <td>1</td>\n",
              "      <td>0</td>\n",
              "      <td>0</td>\n",
              "      <td>0</td>\n",
              "      <td>...</td>\n",
              "      <td>0</td>\n",
              "      <td>0</td>\n",
              "      <td>1</td>\n",
              "      <td>0</td>\n",
              "      <td>0</td>\n",
              "      <td>1</td>\n",
              "      <td>0</td>\n",
              "      <td>0</td>\n",
              "      <td>1</td>\n",
              "      <td>0</td>\n",
              "    </tr>\n",
              "    <tr>\n",
              "      <th>14998</th>\n",
              "      <td>52.0</td>\n",
              "      <td>88</td>\n",
              "      <td>36.7</td>\n",
              "      <td>0</td>\n",
              "      <td>70</td>\n",
              "      <td>9144.6</td>\n",
              "      <td>1</td>\n",
              "      <td>0</td>\n",
              "      <td>0</td>\n",
              "      <td>0</td>\n",
              "      <td>...</td>\n",
              "      <td>0</td>\n",
              "      <td>0</td>\n",
              "      <td>1</td>\n",
              "      <td>0</td>\n",
              "      <td>0</td>\n",
              "      <td>1</td>\n",
              "      <td>0</td>\n",
              "      <td>0</td>\n",
              "      <td>1</td>\n",
              "      <td>0</td>\n",
              "    </tr>\n",
              "    <tr>\n",
              "      <th>14999</th>\n",
              "      <td>52.0</td>\n",
              "      <td>57</td>\n",
              "      <td>26.4</td>\n",
              "      <td>3</td>\n",
              "      <td>72</td>\n",
              "      <td>25992.8</td>\n",
              "      <td>1</td>\n",
              "      <td>0</td>\n",
              "      <td>0</td>\n",
              "      <td>0</td>\n",
              "      <td>...</td>\n",
              "      <td>0</td>\n",
              "      <td>0</td>\n",
              "      <td>1</td>\n",
              "      <td>0</td>\n",
              "      <td>0</td>\n",
              "      <td>1</td>\n",
              "      <td>0</td>\n",
              "      <td>0</td>\n",
              "      <td>1</td>\n",
              "      <td>0</td>\n",
              "    </tr>\n",
              "  </tbody>\n",
              "</table>\n",
              "<p>15000 rows × 22 columns</p>\n",
              "</div>"
            ],
            "text/plain": [
              "        age  weight   bmi  no_of_dependents  bloodpressure    claim  sex_male  \\\n",
              "0      60.0      64  24.3                 1             72  13112.6         1   \n",
              "1      49.0      75  22.6                 1             78   9567.0         0   \n",
              "2      32.0      64  17.8                 2             88  32734.2         0   \n",
              "3      61.0      53  36.4                 1             72  48517.6         0   \n",
              "4      19.0      50  20.6                 0             82   1731.7         0   \n",
              "...     ...     ...   ...               ...            ...      ...       ...   \n",
              "14995  39.0      49  28.3                 1             54  21082.2         1   \n",
              "14996  39.0      74  29.6                 4             64   7512.3         1   \n",
              "14997  20.0      62  33.3                 0             52   1391.5         1   \n",
              "14998  52.0      88  36.7                 0             70   9144.6         1   \n",
              "14999  52.0      57  26.4                 3             72  25992.8         1   \n",
              "\n",
              "       hereditary_diseases_Arthritis  hereditary_diseases_Cancer  \\\n",
              "0                                  0                           0   \n",
              "1                                  0                           0   \n",
              "2                                  0                           0   \n",
              "3                                  0                           0   \n",
              "4                                  0                           0   \n",
              "...                              ...                         ...   \n",
              "14995                              0                           0   \n",
              "14996                              0                           0   \n",
              "14997                              0                           0   \n",
              "14998                              0                           0   \n",
              "14999                              0                           0   \n",
              "\n",
              "       hereditary_diseases_Diabetes  ...  hereditary_diseases_HeartDisease  \\\n",
              "0                                 0  ...                                 0   \n",
              "1                                 0  ...                                 0   \n",
              "2                                 0  ...                                 0   \n",
              "3                                 0  ...                                 0   \n",
              "4                                 0  ...                                 0   \n",
              "...                             ...  ...                               ...   \n",
              "14995                             0  ...                                 0   \n",
              "14996                             0  ...                                 0   \n",
              "14997                             0  ...                                 0   \n",
              "14998                             0  ...                                 0   \n",
              "14999                             0  ...                                 0   \n",
              "\n",
              "       hereditary_diseases_High BP  hereditary_diseases_NoDisease  \\\n",
              "0                                0                              1   \n",
              "1                                0                              1   \n",
              "2                                0                              0   \n",
              "3                                0                              1   \n",
              "4                                0                              1   \n",
              "...                            ...                            ...   \n",
              "14995                            0                              1   \n",
              "14996                            0                              1   \n",
              "14997                            0                              1   \n",
              "14998                            0                              1   \n",
              "14999                            0                              1   \n",
              "\n",
              "       hereditary_diseases_Obesity  smoker_1  diabetes_1  regular_ex_1  \\\n",
              "0                                0         0           0             0   \n",
              "1                                0         0           1             1   \n",
              "2                                0         1           1             1   \n",
              "3                                0         1           1             0   \n",
              "4                                0         0           1             0   \n",
              "...                            ...       ...         ...           ...   \n",
              "14995                            0         1           1             0   \n",
              "14996                            0         0           1             0   \n",
              "14997                            0         0           1             0   \n",
              "14998                            0         0           1             0   \n",
              "14999                            0         0           1             0   \n",
              "\n",
              "       region_North-East  region_Southern  region_West  \n",
              "0                      1                0            0  \n",
              "1                      1                0            0  \n",
              "2                      1                0            0  \n",
              "3                      1                0            0  \n",
              "4                      1                0            0  \n",
              "...                  ...              ...          ...  \n",
              "14995                  0                1            0  \n",
              "14996                  0                1            0  \n",
              "14997                  0                1            0  \n",
              "14998                  0                1            0  \n",
              "14999                  0                1            0  \n",
              "\n",
              "[15000 rows x 22 columns]"
            ]
          },
          "execution_count": 66,
          "metadata": {},
          "output_type": "execute_result"
        }
      ],
      "source": [
        "final_df"
      ]
    },
    {
      "cell_type": "code",
      "execution_count": null,
      "metadata": {
        "id": "EDlsbvp2j5V5",
        "outputId": "c52653a2-ee1e-4e6d-8cb3-be78cbb53a5e"
      },
      "outputs": [
        {
          "data": {
            "text/html": [
              "<div>\n",
              "<style scoped>\n",
              "    .dataframe tbody tr th:only-of-type {\n",
              "        vertical-align: middle;\n",
              "    }\n",
              "\n",
              "    .dataframe tbody tr th {\n",
              "        vertical-align: top;\n",
              "    }\n",
              "\n",
              "    .dataframe thead th {\n",
              "        text-align: right;\n",
              "    }\n",
              "</style>\n",
              "<table border=\"1\" class=\"dataframe\">\n",
              "  <thead>\n",
              "    <tr style=\"text-align: right;\">\n",
              "      <th></th>\n",
              "      <th>age</th>\n",
              "      <th>weight</th>\n",
              "      <th>bmi</th>\n",
              "      <th>no_of_dependents</th>\n",
              "      <th>bloodpressure</th>\n",
              "      <th>claim</th>\n",
              "    </tr>\n",
              "  </thead>\n",
              "  <tbody>\n",
              "    <tr>\n",
              "      <th>age</th>\n",
              "      <td>1.000000</td>\n",
              "      <td>0.281542</td>\n",
              "      <td>0.184214</td>\n",
              "      <td>0.059347</td>\n",
              "      <td>0.020602</td>\n",
              "      <td>0.298063</td>\n",
              "    </tr>\n",
              "    <tr>\n",
              "      <th>weight</th>\n",
              "      <td>0.281542</td>\n",
              "      <td>1.000000</td>\n",
              "      <td>0.243604</td>\n",
              "      <td>0.135687</td>\n",
              "      <td>0.016454</td>\n",
              "      <td>0.077716</td>\n",
              "    </tr>\n",
              "    <tr>\n",
              "      <th>bmi</th>\n",
              "      <td>0.184214</td>\n",
              "      <td>0.243604</td>\n",
              "      <td>1.000000</td>\n",
              "      <td>0.049702</td>\n",
              "      <td>-0.047334</td>\n",
              "      <td>0.195927</td>\n",
              "    </tr>\n",
              "    <tr>\n",
              "      <th>no_of_dependents</th>\n",
              "      <td>0.059347</td>\n",
              "      <td>0.135687</td>\n",
              "      <td>0.049702</td>\n",
              "      <td>1.000000</td>\n",
              "      <td>0.034033</td>\n",
              "      <td>0.067614</td>\n",
              "    </tr>\n",
              "    <tr>\n",
              "      <th>bloodpressure</th>\n",
              "      <td>0.020602</td>\n",
              "      <td>0.016454</td>\n",
              "      <td>-0.047334</td>\n",
              "      <td>0.034033</td>\n",
              "      <td>1.000000</td>\n",
              "      <td>0.039169</td>\n",
              "    </tr>\n",
              "    <tr>\n",
              "      <th>claim</th>\n",
              "      <td>0.298063</td>\n",
              "      <td>0.077716</td>\n",
              "      <td>0.195927</td>\n",
              "      <td>0.067614</td>\n",
              "      <td>0.039169</td>\n",
              "      <td>1.000000</td>\n",
              "    </tr>\n",
              "  </tbody>\n",
              "</table>\n",
              "</div>"
            ],
            "text/plain": [
              "                       age    weight       bmi  no_of_dependents  \\\n",
              "age               1.000000  0.281542  0.184214          0.059347   \n",
              "weight            0.281542  1.000000  0.243604          0.135687   \n",
              "bmi               0.184214  0.243604  1.000000          0.049702   \n",
              "no_of_dependents  0.059347  0.135687  0.049702          1.000000   \n",
              "bloodpressure     0.020602  0.016454 -0.047334          0.034033   \n",
              "claim             0.298063  0.077716  0.195927          0.067614   \n",
              "\n",
              "                  bloodpressure     claim  \n",
              "age                    0.020602  0.298063  \n",
              "weight                 0.016454  0.077716  \n",
              "bmi                   -0.047334  0.195927  \n",
              "no_of_dependents       0.034033  0.067614  \n",
              "bloodpressure          1.000000  0.039169  \n",
              "claim                  0.039169  1.000000  "
            ]
          },
          "execution_count": 67,
          "metadata": {},
          "output_type": "execute_result"
        }
      ],
      "source": [
        "df_num.corr()"
      ]
    },
    {
      "cell_type": "code",
      "execution_count": null,
      "metadata": {
        "id": "nUpIuH0Hj5V5"
      },
      "outputs": [],
      "source": [
        "import seaborn as sns"
      ]
    },
    {
      "cell_type": "code",
      "execution_count": null,
      "metadata": {
        "id": "cOQK9UiJj5V6",
        "outputId": "5cf28fa3-0341-491f-96b7-372c48240661"
      },
      "outputs": [
        {
          "data": {
            "text/plain": [
              "<AxesSubplot:>"
            ]
          },
          "execution_count": 70,
          "metadata": {},
          "output_type": "execute_result"
        },
        {
          "data": {
            "image/png": "[encoded data removed]",
            "text/plain": [
              "<Figure size 432x288 with 2 Axes>"
            ]
          },
          "metadata": {
            "needs_background": "light"
          },
          "output_type": "display_data"
        }
      ],
      "source": [
        "sns.heatmap(df_num.corr(),annot=True)"
      ]
    },
    {
      "cell_type": "code",
      "execution_count": null,
      "metadata": {
        "id": "VL9Soi8-j5V6"
      },
      "outputs": [],
      "source": [
        "import statsmodels.api as sm"
      ]
    },
    {
      "cell_type": "code",
      "execution_count": null,
      "metadata": {
        "id": "SH_V9LmRj5V6"
      },
      "outputs": [],
      "source": [
        "from sklearn.model_selection import train_test_split"
      ]
    },
    {
      "cell_type": "code",
      "execution_count": null,
      "metadata": {
        "id": "NsxkrjQoj5V6",
        "outputId": "e62f1ab2-bc8e-4b34-e6ed-e260d4561254"
      },
      "outputs": [
        {
          "data": {
            "text/html": [
              "<div>\n",
              "<style scoped>\n",
              "    .dataframe tbody tr th:only-of-type {\n",
              "        vertical-align: middle;\n",
              "    }\n",
              "\n",
              "    .dataframe tbody tr th {\n",
              "        vertical-align: top;\n",
              "    }\n",
              "\n",
              "    .dataframe thead th {\n",
              "        text-align: right;\n",
              "    }\n",
              "</style>\n",
              "<table border=\"1\" class=\"dataframe\">\n",
              "  <thead>\n",
              "    <tr style=\"text-align: right;\">\n",
              "      <th></th>\n",
              "      <th>age</th>\n",
              "      <th>weight</th>\n",
              "      <th>bmi</th>\n",
              "      <th>no_of_dependents</th>\n",
              "      <th>bloodpressure</th>\n",
              "      <th>claim</th>\n",
              "      <th>sex_male</th>\n",
              "      <th>hereditary_diseases_Arthritis</th>\n",
              "      <th>hereditary_diseases_Cancer</th>\n",
              "      <th>hereditary_diseases_Diabetes</th>\n",
              "      <th>...</th>\n",
              "      <th>hereditary_diseases_HeartDisease</th>\n",
              "      <th>hereditary_diseases_High BP</th>\n",
              "      <th>hereditary_diseases_NoDisease</th>\n",
              "      <th>hereditary_diseases_Obesity</th>\n",
              "      <th>smoker_1</th>\n",
              "      <th>diabetes_1</th>\n",
              "      <th>regular_ex_1</th>\n",
              "      <th>region_North-East</th>\n",
              "      <th>region_Southern</th>\n",
              "      <th>region_West</th>\n",
              "    </tr>\n",
              "  </thead>\n",
              "  <tbody>\n",
              "    <tr>\n",
              "      <th>0</th>\n",
              "      <td>60.0</td>\n",
              "      <td>64</td>\n",
              "      <td>24.3</td>\n",
              "      <td>1</td>\n",
              "      <td>72</td>\n",
              "      <td>13112.6</td>\n",
              "      <td>1</td>\n",
              "      <td>0</td>\n",
              "      <td>0</td>\n",
              "      <td>0</td>\n",
              "      <td>...</td>\n",
              "      <td>0</td>\n",
              "      <td>0</td>\n",
              "      <td>1</td>\n",
              "      <td>0</td>\n",
              "      <td>0</td>\n",
              "      <td>0</td>\n",
              "      <td>0</td>\n",
              "      <td>1</td>\n",
              "      <td>0</td>\n",
              "      <td>0</td>\n",
              "    </tr>\n",
              "    <tr>\n",
              "      <th>1</th>\n",
              "      <td>49.0</td>\n",
              "      <td>75</td>\n",
              "      <td>22.6</td>\n",
              "      <td>1</td>\n",
              "      <td>78</td>\n",
              "      <td>9567.0</td>\n",
              "      <td>0</td>\n",
              "      <td>0</td>\n",
              "      <td>0</td>\n",
              "      <td>0</td>\n",
              "      <td>...</td>\n",
              "      <td>0</td>\n",
              "      <td>0</td>\n",
              "      <td>1</td>\n",
              "      <td>0</td>\n",
              "      <td>0</td>\n",
              "      <td>1</td>\n",
              "      <td>1</td>\n",
              "      <td>1</td>\n",
              "      <td>0</td>\n",
              "      <td>0</td>\n",
              "    </tr>\n",
              "    <tr>\n",
              "      <th>2</th>\n",
              "      <td>32.0</td>\n",
              "      <td>64</td>\n",
              "      <td>17.8</td>\n",
              "      <td>2</td>\n",
              "      <td>88</td>\n",
              "      <td>32734.2</td>\n",
              "      <td>0</td>\n",
              "      <td>0</td>\n",
              "      <td>0</td>\n",
              "      <td>0</td>\n",
              "      <td>...</td>\n",
              "      <td>0</td>\n",
              "      <td>0</td>\n",
              "      <td>0</td>\n",
              "      <td>0</td>\n",
              "      <td>1</td>\n",
              "      <td>1</td>\n",
              "      <td>1</td>\n",
              "      <td>1</td>\n",
              "      <td>0</td>\n",
              "      <td>0</td>\n",
              "    </tr>\n",
              "    <tr>\n",
              "      <th>3</th>\n",
              "      <td>61.0</td>\n",
              "      <td>53</td>\n",
              "      <td>36.4</td>\n",
              "      <td>1</td>\n",
              "      <td>72</td>\n",
              "      <td>48517.6</td>\n",
              "      <td>0</td>\n",
              "      <td>0</td>\n",
              "      <td>0</td>\n",
              "      <td>0</td>\n",
              "      <td>...</td>\n",
              "      <td>0</td>\n",
              "      <td>0</td>\n",
              "      <td>1</td>\n",
              "      <td>0</td>\n",
              "      <td>1</td>\n",
              "      <td>1</td>\n",
              "      <td>0</td>\n",
              "      <td>1</td>\n",
              "      <td>0</td>\n",
              "      <td>0</td>\n",
              "    </tr>\n",
              "    <tr>\n",
              "      <th>4</th>\n",
              "      <td>19.0</td>\n",
              "      <td>50</td>\n",
              "      <td>20.6</td>\n",
              "      <td>0</td>\n",
              "      <td>82</td>\n",
              "      <td>1731.7</td>\n",
              "      <td>0</td>\n",
              "      <td>0</td>\n",
              "      <td>0</td>\n",
              "      <td>0</td>\n",
              "      <td>...</td>\n",
              "      <td>0</td>\n",
              "      <td>0</td>\n",
              "      <td>1</td>\n",
              "      <td>0</td>\n",
              "      <td>0</td>\n",
              "      <td>1</td>\n",
              "      <td>0</td>\n",
              "      <td>1</td>\n",
              "      <td>0</td>\n",
              "      <td>0</td>\n",
              "    </tr>\n",
              "  </tbody>\n",
              "</table>\n",
              "<p>5 rows × 22 columns</p>\n",
              "</div>"
            ],
            "text/plain": [
              "    age  weight   bmi  no_of_dependents  bloodpressure    claim  sex_male  \\\n",
              "0  60.0      64  24.3                 1             72  13112.6         1   \n",
              "1  49.0      75  22.6                 1             78   9567.0         0   \n",
              "2  32.0      64  17.8                 2             88  32734.2         0   \n",
              "3  61.0      53  36.4                 1             72  48517.6         0   \n",
              "4  19.0      50  20.6                 0             82   1731.7         0   \n",
              "\n",
              "   hereditary_diseases_Arthritis  hereditary_diseases_Cancer  \\\n",
              "0                              0                           0   \n",
              "1                              0                           0   \n",
              "2                              0                           0   \n",
              "3                              0                           0   \n",
              "4                              0                           0   \n",
              "\n",
              "   hereditary_diseases_Diabetes  ...  hereditary_diseases_HeartDisease  \\\n",
              "0                             0  ...                                 0   \n",
              "1                             0  ...                                 0   \n",
              "2                             0  ...                                 0   \n",
              "3                             0  ...                                 0   \n",
              "4                             0  ...                                 0   \n",
              "\n",
              "   hereditary_diseases_High BP  hereditary_diseases_NoDisease  \\\n",
              "0                            0                              1   \n",
              "1                            0                              1   \n",
              "2                            0                              0   \n",
              "3                            0                              1   \n",
              "4                            0                              1   \n",
              "\n",
              "   hereditary_diseases_Obesity  smoker_1  diabetes_1  regular_ex_1  \\\n",
              "0                            0         0           0             0   \n",
              "1                            0         0           1             1   \n",
              "2                            0         1           1             1   \n",
              "3                            0         1           1             0   \n",
              "4                            0         0           1             0   \n",
              "\n",
              "   region_North-East  region_Southern  region_West  \n",
              "0                  1                0            0  \n",
              "1                  1                0            0  \n",
              "2                  1                0            0  \n",
              "3                  1                0            0  \n",
              "4                  1                0            0  \n",
              "\n",
              "[5 rows x 22 columns]"
            ]
          },
          "execution_count": 73,
          "metadata": {},
          "output_type": "execute_result"
        }
      ],
      "source": [
        "final_df.head()"
      ]
    },
    {
      "cell_type": "code",
      "execution_count": null,
      "metadata": {
        "id": "RmHcFv-1j5V6"
      },
      "outputs": [],
      "source": [
        "final_df = sm.add_constant(final_df)"
      ]
    },
    {
      "cell_type": "code",
      "execution_count": null,
      "metadata": {
        "id": "JydjoYkLj5V7",
        "outputId": "786832f6-d4de-4027-a2f1-289d2b6403ea"
      },
      "outputs": [
        {
          "data": {
            "text/html": [
              "<div>\n",
              "<style scoped>\n",
              "    .dataframe tbody tr th:only-of-type {\n",
              "        vertical-align: middle;\n",
              "    }\n",
              "\n",
              "    .dataframe tbody tr th {\n",
              "        vertical-align: top;\n",
              "    }\n",
              "\n",
              "    .dataframe thead th {\n",
              "        text-align: right;\n",
              "    }\n",
              "</style>\n",
              "<table border=\"1\" class=\"dataframe\">\n",
              "  <thead>\n",
              "    <tr style=\"text-align: right;\">\n",
              "      <th></th>\n",
              "      <th>const</th>\n",
              "      <th>age</th>\n",
              "      <th>weight</th>\n",
              "      <th>bmi</th>\n",
              "      <th>no_of_dependents</th>\n",
              "      <th>bloodpressure</th>\n",
              "      <th>claim</th>\n",
              "      <th>sex_male</th>\n",
              "      <th>hereditary_diseases_Arthritis</th>\n",
              "      <th>hereditary_diseases_Cancer</th>\n",
              "      <th>...</th>\n",
              "      <th>hereditary_diseases_HeartDisease</th>\n",
              "      <th>hereditary_diseases_High BP</th>\n",
              "      <th>hereditary_diseases_NoDisease</th>\n",
              "      <th>hereditary_diseases_Obesity</th>\n",
              "      <th>smoker_1</th>\n",
              "      <th>diabetes_1</th>\n",
              "      <th>regular_ex_1</th>\n",
              "      <th>region_North-East</th>\n",
              "      <th>region_Southern</th>\n",
              "      <th>region_West</th>\n",
              "    </tr>\n",
              "  </thead>\n",
              "  <tbody>\n",
              "    <tr>\n",
              "      <th>0</th>\n",
              "      <td>1.0</td>\n",
              "      <td>60.0</td>\n",
              "      <td>64</td>\n",
              "      <td>24.3</td>\n",
              "      <td>1</td>\n",
              "      <td>72</td>\n",
              "      <td>13112.6</td>\n",
              "      <td>1</td>\n",
              "      <td>0</td>\n",
              "      <td>0</td>\n",
              "      <td>...</td>\n",
              "      <td>0</td>\n",
              "      <td>0</td>\n",
              "      <td>1</td>\n",
              "      <td>0</td>\n",
              "      <td>0</td>\n",
              "      <td>0</td>\n",
              "      <td>0</td>\n",
              "      <td>1</td>\n",
              "      <td>0</td>\n",
              "      <td>0</td>\n",
              "    </tr>\n",
              "    <tr>\n",
              "      <th>1</th>\n",
              "      <td>1.0</td>\n",
              "      <td>49.0</td>\n",
              "      <td>75</td>\n",
              "      <td>22.6</td>\n",
              "      <td>1</td>\n",
              "      <td>78</td>\n",
              "      <td>9567.0</td>\n",
              "      <td>0</td>\n",
              "      <td>0</td>\n",
              "      <td>0</td>\n",
              "      <td>...</td>\n",
              "      <td>0</td>\n",
              "      <td>0</td>\n",
              "      <td>1</td>\n",
              "      <td>0</td>\n",
              "      <td>0</td>\n",
              "      <td>1</td>\n",
              "      <td>1</td>\n",
              "      <td>1</td>\n",
              "      <td>0</td>\n",
              "      <td>0</td>\n",
              "    </tr>\n",
              "  </tbody>\n",
              "</table>\n",
              "<p>2 rows × 23 columns</p>\n",
              "</div>"
            ],
            "text/plain": [
              "   const   age  weight   bmi  no_of_dependents  bloodpressure    claim  \\\n",
              "0    1.0  60.0      64  24.3                 1             72  13112.6   \n",
              "1    1.0  49.0      75  22.6                 1             78   9567.0   \n",
              "\n",
              "   sex_male  hereditary_diseases_Arthritis  hereditary_diseases_Cancer  ...  \\\n",
              "0         1                              0                           0  ...   \n",
              "1         0                              0                           0  ...   \n",
              "\n",
              "   hereditary_diseases_HeartDisease  hereditary_diseases_High BP  \\\n",
              "0                                 0                            0   \n",
              "1                                 0                            0   \n",
              "\n",
              "   hereditary_diseases_NoDisease  hereditary_diseases_Obesity  smoker_1  \\\n",
              "0                              1                            0         0   \n",
              "1                              1                            0         0   \n",
              "\n",
              "   diabetes_1  regular_ex_1  region_North-East  region_Southern  region_West  \n",
              "0           0             0                  1                0            0  \n",
              "1           1             1                  1                0            0  \n",
              "\n",
              "[2 rows x 23 columns]"
            ]
          },
          "execution_count": 75,
          "metadata": {},
          "output_type": "execute_result"
        }
      ],
      "source": [
        "final_df.head(2)"
      ]
    },
    {
      "cell_type": "code",
      "execution_count": null,
      "metadata": {
        "id": "8RZVhpMPj5V7"
      },
      "outputs": [],
      "source": [
        "X = final_df.drop(['claim'],axis=1)\n",
        "Y = final_df['claim']"
      ]
    },
    {
      "cell_type": "code",
      "execution_count": null,
      "metadata": {
        "id": "fZ8JmUQpj5V7"
      },
      "outputs": [],
      "source": [
        "x_train,x_test,y_train,y_test = train_test_split(X,Y,random_state = 1,test_size=0.2)"
      ]
    },
    {
      "cell_type": "code",
      "execution_count": null,
      "metadata": {
        "id": "zgPGEJ1cj5V8",
        "outputId": "0170484a-3794-42b5-f087-2b12526b4abb"
      },
      "outputs": [
        {
          "data": {
            "text/plain": [
              "(12000, 22)"
            ]
          },
          "execution_count": 78,
          "metadata": {},
          "output_type": "execute_result"
        }
      ],
      "source": [
        "x_train.shape"
      ]
    },
    {
      "cell_type": "code",
      "execution_count": null,
      "metadata": {
        "id": "ngRk3kaVj5V8",
        "outputId": "a544689e-fb60-4a42-eb88-cdd8e26b4f10"
      },
      "outputs": [
        {
          "data": {
            "text/plain": [
              "(3000, 22)"
            ]
          },
          "execution_count": 80,
          "metadata": {},
          "output_type": "execute_result"
        }
      ],
      "source": [
        "x_test.shape"
      ]
    },
    {
      "cell_type": "code",
      "execution_count": null,
      "metadata": {
        "id": "rQd5Eqj9j5V8"
      },
      "outputs": [],
      "source": [
        "LR_OLS_model = sm.OLS(y_train,x_train).fit()"
      ]
    },
    {
      "cell_type": "code",
      "execution_count": null,
      "metadata": {
        "id": "BvLnbkm7j5V8",
        "outputId": "0d325033-3e7e-4e35-9d74-1d6761d87612"
      },
      "outputs": [
        {
          "data": {
            "text/html": [
              "<table class=\"simpletable\">\n",
              "<caption>OLS Regression Results</caption>\n",
              "<tr>\n",
              "  <th>Dep. Variable:</th>          <td>claim</td>      <th>  R-squared:         </th>  <td>   0.762</td>  \n",
              "</tr>\n",
              "<tr>\n",
              "  <th>Model:</th>                   <td>OLS</td>       <th>  Adj. R-squared:    </th>  <td>   0.762</td>  \n",
              "</tr>\n",
              "<tr>\n",
              "  <th>Method:</th>             <td>Least Squares</td>  <th>  F-statistic:       </th>  <td>   1825.</td>  \n",
              "</tr>\n",
              "<tr>\n",
              "  <th>Date:</th>             <td>Tue, 08 Jun 2021</td> <th>  Prob (F-statistic):</th>   <td>  0.00</td>   \n",
              "</tr>\n",
              "<tr>\n",
              "  <th>Time:</th>                 <td>10:58:41</td>     <th>  Log-Likelihood:    </th> <td>-1.2134e+05</td>\n",
              "</tr>\n",
              "<tr>\n",
              "  <th>No. Observations:</th>      <td> 12000</td>      <th>  AIC:               </th>  <td>2.427e+05</td> \n",
              "</tr>\n",
              "<tr>\n",
              "  <th>Df Residuals:</th>          <td> 11978</td>      <th>  BIC:               </th>  <td>2.429e+05</td> \n",
              "</tr>\n",
              "<tr>\n",
              "  <th>Df Model:</th>              <td>    21</td>      <th>                     </th>      <td> </td>     \n",
              "</tr>\n",
              "<tr>\n",
              "  <th>Covariance Type:</th>      <td>nonrobust</td>    <th>                     </th>      <td> </td>     \n",
              "</tr>\n",
              "</table>\n",
              "<table class=\"simpletable\">\n",
              "<tr>\n",
              "                  <td></td>                    <th>coef</th>     <th>std err</th>      <th>t</th>      <th>P>|t|</th>  <th>[0.025</th>    <th>0.975]</th>  \n",
              "</tr>\n",
              "<tr>\n",
              "  <th>const</th>                            <td> 2390.7805</td> <td>  775.959</td> <td>    3.081</td> <td> 0.002</td> <td>  869.775</td> <td> 3911.786</td>\n",
              "</tr>\n",
              "<tr>\n",
              "  <th>age</th>                              <td>  265.0465</td> <td>    4.165</td> <td>   63.643</td> <td> 0.000</td> <td>  256.883</td> <td>  273.210</td>\n",
              "</tr>\n",
              "<tr>\n",
              "  <th>weight</th>                           <td>  -36.1674</td> <td>    4.357</td> <td>   -8.302</td> <td> 0.000</td> <td>  -44.707</td> <td>  -27.628</td>\n",
              "</tr>\n",
              "<tr>\n",
              "  <th>bmi</th>                              <td>  198.5840</td> <td>    9.842</td> <td>   20.176</td> <td> 0.000</td> <td>  179.291</td> <td>  217.877</td>\n",
              "</tr>\n",
              "<tr>\n",
              "  <th>no_of_dependents</th>                 <td>  429.3132</td> <td>   45.268</td> <td>    9.484</td> <td> 0.000</td> <td>  340.581</td> <td>  518.046</td>\n",
              "</tr>\n",
              "<tr>\n",
              "  <th>bloodpressure</th>                    <td>   29.0388</td> <td>    5.017</td> <td>    5.788</td> <td> 0.000</td> <td>   19.204</td> <td>   38.873</td>\n",
              "</tr>\n",
              "<tr>\n",
              "  <th>sex_male</th>                         <td>   35.6206</td> <td>  111.324</td> <td>    0.320</td> <td> 0.749</td> <td> -182.592</td> <td>  253.833</td>\n",
              "</tr>\n",
              "<tr>\n",
              "  <th>hereditary_diseases_Arthritis</th>    <td>-2022.1982</td> <td>  886.689</td> <td>   -2.281</td> <td> 0.023</td> <td>-3760.252</td> <td> -284.144</td>\n",
              "</tr>\n",
              "<tr>\n",
              "  <th>hereditary_diseases_Cancer</th>       <td>  724.8875</td> <td>  852.877</td> <td>    0.850</td> <td> 0.395</td> <td> -946.889</td> <td> 2396.664</td>\n",
              "</tr>\n",
              "<tr>\n",
              "  <th>hereditary_diseases_Diabetes</th>     <td>-1330.2441</td> <td>  781.660</td> <td>   -1.702</td> <td> 0.089</td> <td>-2862.425</td> <td>  201.937</td>\n",
              "</tr>\n",
              "<tr>\n",
              "  <th>hereditary_diseases_Epilepsy</th>     <td> -266.7144</td> <td>  897.776</td> <td>   -0.297</td> <td> 0.766</td> <td>-2026.501</td> <td> 1493.072</td>\n",
              "</tr>\n",
              "<tr>\n",
              "  <th>hereditary_diseases_EyeDisease</th>   <td>  -79.6726</td> <td>  820.774</td> <td>   -0.097</td> <td> 0.923</td> <td>-1688.522</td> <td> 1529.177</td>\n",
              "</tr>\n",
              "<tr>\n",
              "  <th>hereditary_diseases_HeartDisease</th> <td> 4373.3921</td> <td>  882.511</td> <td>    4.956</td> <td> 0.000</td> <td> 2643.527</td> <td> 6103.258</td>\n",
              "</tr>\n",
              "<tr>\n",
              "  <th>hereditary_diseases_High BP</th>      <td>-1287.3097</td> <td>  956.244</td> <td>   -1.346</td> <td> 0.178</td> <td>-3161.704</td> <td>  587.084</td>\n",
              "</tr>\n",
              "<tr>\n",
              "  <th>hereditary_diseases_NoDisease</th>    <td>-1.144e+04</td> <td>  558.648</td> <td>  -20.486</td> <td> 0.000</td> <td>-1.25e+04</td> <td>-1.03e+04</td>\n",
              "</tr>\n",
              "<tr>\n",
              "  <th>hereditary_diseases_Obesity</th>      <td>-1091.6336</td> <td>  785.741</td> <td>   -1.389</td> <td> 0.165</td> <td>-2631.813</td> <td>  448.546</td>\n",
              "</tr>\n",
              "<tr>\n",
              "  <th>smoker_1</th>                         <td> 2.016e+04</td> <td>  156.480</td> <td>  128.866</td> <td> 0.000</td> <td> 1.99e+04</td> <td> 2.05e+04</td>\n",
              "</tr>\n",
              "<tr>\n",
              "  <th>diabetes_1</th>                       <td> 1386.6656</td> <td>  132.252</td> <td>   10.485</td> <td> 0.000</td> <td> 1127.431</td> <td> 1645.900</td>\n",
              "</tr>\n",
              "<tr>\n",
              "  <th>regular_ex_1</th>                     <td> -751.2707</td> <td>  131.688</td> <td>   -5.705</td> <td> 0.000</td> <td>-1009.400</td> <td> -493.141</td>\n",
              "</tr>\n",
              "<tr>\n",
              "  <th>region_North-East</th>                <td>   -0.3563</td> <td>  169.763</td> <td>   -0.002</td> <td> 0.998</td> <td> -333.118</td> <td>  332.406</td>\n",
              "</tr>\n",
              "<tr>\n",
              "  <th>region_Southern</th>                  <td>  244.3356</td> <td>  161.213</td> <td>    1.516</td> <td> 0.130</td> <td>  -71.668</td> <td>  560.339</td>\n",
              "</tr>\n",
              "<tr>\n",
              "  <th>region_West</th>                      <td>   -7.4474</td> <td>  162.670</td> <td>   -0.046</td> <td> 0.963</td> <td> -326.307</td> <td>  311.412</td>\n",
              "</tr>\n",
              "</table>\n",
              "<table class=\"simpletable\">\n",
              "<tr>\n",
              "  <th>Omnibus:</th>       <td>3547.147</td> <th>  Durbin-Watson:     </th> <td>   1.971</td> \n",
              "</tr>\n",
              "<tr>\n",
              "  <th>Prob(Omnibus):</th>  <td> 0.000</td>  <th>  Jarque-Bera (JB):  </th> <td>12640.545</td>\n",
              "</tr>\n",
              "<tr>\n",
              "  <th>Skew:</th>           <td> 1.464</td>  <th>  Prob(JB):          </th> <td>    0.00</td> \n",
              "</tr>\n",
              "<tr>\n",
              "  <th>Kurtosis:</th>       <td> 7.087</td>  <th>  Cond. No.          </th> <td>3.69e+03</td> \n",
              "</tr>\n",
              "</table><br/><br/>Notes:<br/>[1] Standard Errors assume that the covariance matrix of the errors is correctly specified.<br/>[2] The condition number is large, 3.69e+03. This might indicate that there are<br/>strong multicollinearity or other numerical problems."
            ],
            "text/plain": [
              "<class 'statsmodels.iolib.summary.Summary'>\n",
              "\"\"\"\n",
              "                            OLS Regression Results                            \n",
              "==============================================================================\n",
              "Dep. Variable:                  claim   R-squared:                       0.762\n",
              "Model:                            OLS   Adj. R-squared:                  0.762\n",
              "Method:                 Least Squares   F-statistic:                     1825.\n",
              "Date:                Tue, 08 Jun 2021   Prob (F-statistic):               0.00\n",
              "Time:                        10:58:41   Log-Likelihood:            -1.2134e+05\n",
              "No. Observations:               12000   AIC:                         2.427e+05\n",
              "Df Residuals:                   11978   BIC:                         2.429e+05\n",
              "Df Model:                          21                                         \n",
              "Covariance Type:            nonrobust                                         \n",
              "====================================================================================================\n",
              "                                       coef    std err          t      P>|t|      [0.025      0.975]\n",
              "----------------------------------------------------------------------------------------------------\n",
              "const                             2390.7805    775.959      3.081      0.002     869.775    3911.786\n",
              "age                                265.0465      4.165     63.643      0.000     256.883     273.210\n",
              "weight                             -36.1674      4.357     -8.302      0.000     -44.707     -27.628\n",
              "bmi                                198.5840      9.842     20.176      0.000     179.291     217.877\n",
              "no_of_dependents                   429.3132     45.268      9.484      0.000     340.581     518.046\n",
              "bloodpressure                       29.0388      5.017      5.788      0.000      19.204      38.873\n",
              "sex_male                            35.6206    111.324      0.320      0.749    -182.592     253.833\n",
              "hereditary_diseases_Arthritis    -2022.1982    886.689     -2.281      0.023   -3760.252    -284.144\n",
              "hereditary_diseases_Cancer         724.8875    852.877      0.850      0.395    -946.889    2396.664\n",
              "hereditary_diseases_Diabetes     -1330.2441    781.660     -1.702      0.089   -2862.425     201.937\n",
              "hereditary_diseases_Epilepsy      -266.7144    897.776     -0.297      0.766   -2026.501    1493.072\n",
              "hereditary_diseases_EyeDisease     -79.6726    820.774     -0.097      0.923   -1688.522    1529.177\n",
              "hereditary_diseases_HeartDisease  4373.3921    882.511      4.956      0.000    2643.527    6103.258\n",
              "hereditary_diseases_High BP      -1287.3097    956.244     -1.346      0.178   -3161.704     587.084\n",
              "hereditary_diseases_NoDisease    -1.144e+04    558.648    -20.486      0.000   -1.25e+04   -1.03e+04\n",
              "hereditary_diseases_Obesity      -1091.6336    785.741     -1.389      0.165   -2631.813     448.546\n",
              "smoker_1                          2.016e+04    156.480    128.866      0.000    1.99e+04    2.05e+04\n",
              "diabetes_1                        1386.6656    132.252     10.485      0.000    1127.431    1645.900\n",
              "regular_ex_1                      -751.2707    131.688     -5.705      0.000   -1009.400    -493.141\n",
              "region_North-East                   -0.3563    169.763     -0.002      0.998    -333.118     332.406\n",
              "region_Southern                    244.3356    161.213      1.516      0.130     -71.668     560.339\n",
              "region_West                         -7.4474    162.670     -0.046      0.963    -326.307     311.412\n",
              "==============================================================================\n",
              "Omnibus:                     3547.147   Durbin-Watson:                   1.971\n",
              "Prob(Omnibus):                  0.000   Jarque-Bera (JB):            12640.545\n",
              "Skew:                           1.464   Prob(JB):                         0.00\n",
              "Kurtosis:                       7.087   Cond. No.                     3.69e+03\n",
              "==============================================================================\n",
              "\n",
              "Notes:\n",
              "[1] Standard Errors assume that the covariance matrix of the errors is correctly specified.\n",
              "[2] The condition number is large, 3.69e+03. This might indicate that there are\n",
              "strong multicollinearity or other numerical problems.\n",
              "\"\"\""
            ]
          },
          "execution_count": 83,
          "metadata": {},
          "output_type": "execute_result"
        }
      ],
      "source": [
        "LR_OLS_model.summary()"
      ]
    },
    {
      "cell_type": "markdown",
      "metadata": {
        "id": "aoEoWdHEj5V8"
      },
      "source": [
        "No Multi-Collinearity\n",
        "\n",
        "Condition Number : If the C>N is small then there is no multi-collinarity, the higher the number the higher the chances of existence of multi-collinearity.\n",
        "\n",
        "CN < 100 No/Less Multi-Collinearity\n",
        "\n",
        "CN 100 - 1000 moderate\n",
        "\n",
        "CN > 1000 High\n",
        "\n",
        "\n",
        "VIF :\n",
        "\n",
        "0 -1 no MC\n",
        "1 - 5 Moderate\n",
        ">5 highly\n",
        "\n",
        "\n",
        "\n",
        "No Auto Correlation\n",
        "\n",
        "Durbin -Watson test :\n",
        "\n",
        "0   to     4\n",
        "\n",
        "\n",
        "value = 2 that means no Auto correlation\n",
        "\n",
        "0 to 2 positive auto corr\n",
        "\n",
        "2 to 4 negative\n",
        "\n",
        "\n",
        "breusch pagan statiscal test detecting hetroskedasticity\n",
        "\n",
        "\n",
        "\n",
        "\n",
        "\n",
        "\n",
        "\n",
        "\n",
        "\n",
        "\n",
        "residulas normality\n",
        "\n",
        "dependent_variable & independent varuables should have good correlation\n",
        "\n",
        "No Heteroskedasticity"
      ]
    },
    {
      "cell_type": "code",
      "execution_count": null,
      "metadata": {
        "id": "JaHzWGM7j5V9"
      },
      "outputs": [],
      "source": [
        "# test for detecting homoscedasticity\n",
        "import statsmodels.stats.api as sms\n",
        "\n",
        "#residuals\n",
        "\n",
        "#measured values\n",
        "\n",
        "H0 : Residuals are homoskedastic\n",
        "\n",
        "H1 : Residuals are not homoskedastic\n",
        "\n",
        "test = sms.het_breuschpagan(LR_OLS_model.resid,LR_OLS_model.model.exog)"
      ]
    },
    {
      "cell_type": "code",
      "execution_count": null,
      "metadata": {
        "id": "4op9rgtnj5V9",
        "outputId": "de7c04da-cccb-42d0-bfe9-a0237759faa8"
      },
      "outputs": [
        {
          "data": {
            "text/plain": [
              "(1150.2380522585147,\n",
              " 2.509361713324391e-230,\n",
              " 60.468965021725076,\n",
              " 1.2052954758051401e-242)"
            ]
          },
          "execution_count": 87,
          "metadata": {},
          "output_type": "execute_result"
        }
      ],
      "source": [
        "test"
      ]
    },
    {
      "cell_type": "code",
      "execution_count": null,
      "metadata": {
        "id": "Hk2ymHboj5V-",
        "outputId": "9fb6765c-7900-489b-c0f3-9e5fba04b9c6"
      },
      "outputs": [
        {
          "data": {
            "text/plain": [
              "array([[ 1., 43., 79., ...,  1.,  0.,  0.],\n",
              "       [ 1., 47., 46., ...,  1.,  0.,  0.],\n",
              "       [ 1., 36., 58., ...,  0.,  1.,  0.],\n",
              "       ...,\n",
              "       [ 1., 25., 47., ...,  0.,  0.,  0.],\n",
              "       [ 1., 61., 69., ...,  0.,  0.,  1.],\n",
              "       [ 1., 43., 79., ...,  1.,  0.,  0.]])"
            ]
          },
          "execution_count": 85,
          "metadata": {},
          "output_type": "execute_result"
        }
      ],
      "source": [
        "LR_OLS_model.model.exog"
      ]
    },
    {
      "cell_type": "code",
      "execution_count": null,
      "metadata": {
        "id": "XaddB69Sj5V_",
        "outputId": "425d0313-34de-4ca1-bf1e-3c88fed1f710"
      },
      "outputs": [
        {
          "data": {
            "text/html": [
              "<div>\n",
              "<style scoped>\n",
              "    .dataframe tbody tr th:only-of-type {\n",
              "        vertical-align: middle;\n",
              "    }\n",
              "\n",
              "    .dataframe tbody tr th {\n",
              "        vertical-align: top;\n",
              "    }\n",
              "\n",
              "    .dataframe thead th {\n",
              "        text-align: right;\n",
              "    }\n",
              "</style>\n",
              "<table border=\"1\" class=\"dataframe\">\n",
              "  <thead>\n",
              "    <tr style=\"text-align: right;\">\n",
              "      <th></th>\n",
              "      <th>const</th>\n",
              "      <th>age</th>\n",
              "      <th>weight</th>\n",
              "      <th>bmi</th>\n",
              "      <th>no_of_dependents</th>\n",
              "      <th>bloodpressure</th>\n",
              "      <th>sex_male</th>\n",
              "      <th>hereditary_diseases_Arthritis</th>\n",
              "      <th>hereditary_diseases_Cancer</th>\n",
              "      <th>hereditary_diseases_Diabetes</th>\n",
              "      <th>...</th>\n",
              "      <th>hereditary_diseases_HeartDisease</th>\n",
              "      <th>hereditary_diseases_High BP</th>\n",
              "      <th>hereditary_diseases_NoDisease</th>\n",
              "      <th>hereditary_diseases_Obesity</th>\n",
              "      <th>smoker_1</th>\n",
              "      <th>diabetes_1</th>\n",
              "      <th>regular_ex_1</th>\n",
              "      <th>region_North-East</th>\n",
              "      <th>region_Southern</th>\n",
              "      <th>region_West</th>\n",
              "    </tr>\n",
              "  </thead>\n",
              "  <tbody>\n",
              "    <tr>\n",
              "      <th>2643</th>\n",
              "      <td>1.0</td>\n",
              "      <td>43.0</td>\n",
              "      <td>79</td>\n",
              "      <td>24.7</td>\n",
              "      <td>2</td>\n",
              "      <td>64</td>\n",
              "      <td>0</td>\n",
              "      <td>0</td>\n",
              "      <td>0</td>\n",
              "      <td>0</td>\n",
              "      <td>...</td>\n",
              "      <td>0</td>\n",
              "      <td>0</td>\n",
              "      <td>1</td>\n",
              "      <td>0</td>\n",
              "      <td>1</td>\n",
              "      <td>1</td>\n",
              "      <td>0</td>\n",
              "      <td>1</td>\n",
              "      <td>0</td>\n",
              "      <td>0</td>\n",
              "    </tr>\n",
              "    <tr>\n",
              "      <th>13352</th>\n",
              "      <td>1.0</td>\n",
              "      <td>47.0</td>\n",
              "      <td>46</td>\n",
              "      <td>29.4</td>\n",
              "      <td>1</td>\n",
              "      <td>54</td>\n",
              "      <td>0</td>\n",
              "      <td>0</td>\n",
              "      <td>0</td>\n",
              "      <td>0</td>\n",
              "      <td>...</td>\n",
              "      <td>0</td>\n",
              "      <td>0</td>\n",
              "      <td>1</td>\n",
              "      <td>0</td>\n",
              "      <td>0</td>\n",
              "      <td>1</td>\n",
              "      <td>0</td>\n",
              "      <td>1</td>\n",
              "      <td>0</td>\n",
              "      <td>0</td>\n",
              "    </tr>\n",
              "    <tr>\n",
              "      <th>13117</th>\n",
              "      <td>1.0</td>\n",
              "      <td>36.0</td>\n",
              "      <td>58</td>\n",
              "      <td>29.0</td>\n",
              "      <td>4</td>\n",
              "      <td>80</td>\n",
              "      <td>0</td>\n",
              "      <td>0</td>\n",
              "      <td>0</td>\n",
              "      <td>0</td>\n",
              "      <td>...</td>\n",
              "      <td>0</td>\n",
              "      <td>0</td>\n",
              "      <td>1</td>\n",
              "      <td>0</td>\n",
              "      <td>0</td>\n",
              "      <td>0</td>\n",
              "      <td>0</td>\n",
              "      <td>0</td>\n",
              "      <td>1</td>\n",
              "      <td>0</td>\n",
              "    </tr>\n",
              "    <tr>\n",
              "      <th>2560</th>\n",
              "      <td>1.0</td>\n",
              "      <td>55.0</td>\n",
              "      <td>54</td>\n",
              "      <td>33.0</td>\n",
              "      <td>0</td>\n",
              "      <td>60</td>\n",
              "      <td>1</td>\n",
              "      <td>0</td>\n",
              "      <td>0</td>\n",
              "      <td>0</td>\n",
              "      <td>...</td>\n",
              "      <td>0</td>\n",
              "      <td>0</td>\n",
              "      <td>1</td>\n",
              "      <td>0</td>\n",
              "      <td>0</td>\n",
              "      <td>1</td>\n",
              "      <td>0</td>\n",
              "      <td>0</td>\n",
              "      <td>1</td>\n",
              "      <td>0</td>\n",
              "    </tr>\n",
              "    <tr>\n",
              "      <th>14297</th>\n",
              "      <td>1.0</td>\n",
              "      <td>34.0</td>\n",
              "      <td>54</td>\n",
              "      <td>21.4</td>\n",
              "      <td>0</td>\n",
              "      <td>65</td>\n",
              "      <td>1</td>\n",
              "      <td>0</td>\n",
              "      <td>0</td>\n",
              "      <td>0</td>\n",
              "      <td>...</td>\n",
              "      <td>0</td>\n",
              "      <td>0</td>\n",
              "      <td>1</td>\n",
              "      <td>0</td>\n",
              "      <td>0</td>\n",
              "      <td>1</td>\n",
              "      <td>1</td>\n",
              "      <td>0</td>\n",
              "      <td>0</td>\n",
              "      <td>1</td>\n",
              "    </tr>\n",
              "    <tr>\n",
              "      <th>...</th>\n",
              "      <td>...</td>\n",
              "      <td>...</td>\n",
              "      <td>...</td>\n",
              "      <td>...</td>\n",
              "      <td>...</td>\n",
              "      <td>...</td>\n",
              "      <td>...</td>\n",
              "      <td>...</td>\n",
              "      <td>...</td>\n",
              "      <td>...</td>\n",
              "      <td>...</td>\n",
              "      <td>...</td>\n",
              "      <td>...</td>\n",
              "      <td>...</td>\n",
              "      <td>...</td>\n",
              "      <td>...</td>\n",
              "      <td>...</td>\n",
              "      <td>...</td>\n",
              "      <td>...</td>\n",
              "      <td>...</td>\n",
              "      <td>...</td>\n",
              "    </tr>\n",
              "    <tr>\n",
              "      <th>905</th>\n",
              "      <td>1.0</td>\n",
              "      <td>37.0</td>\n",
              "      <td>76</td>\n",
              "      <td>38.4</td>\n",
              "      <td>0</td>\n",
              "      <td>86</td>\n",
              "      <td>0</td>\n",
              "      <td>0</td>\n",
              "      <td>0</td>\n",
              "      <td>0</td>\n",
              "      <td>...</td>\n",
              "      <td>1</td>\n",
              "      <td>0</td>\n",
              "      <td>0</td>\n",
              "      <td>0</td>\n",
              "      <td>1</td>\n",
              "      <td>1</td>\n",
              "      <td>0</td>\n",
              "      <td>0</td>\n",
              "      <td>0</td>\n",
              "      <td>0</td>\n",
              "    </tr>\n",
              "    <tr>\n",
              "      <th>5192</th>\n",
              "      <td>1.0</td>\n",
              "      <td>25.0</td>\n",
              "      <td>67</td>\n",
              "      <td>42.1</td>\n",
              "      <td>1</td>\n",
              "      <td>70</td>\n",
              "      <td>0</td>\n",
              "      <td>0</td>\n",
              "      <td>0</td>\n",
              "      <td>0</td>\n",
              "      <td>...</td>\n",
              "      <td>0</td>\n",
              "      <td>0</td>\n",
              "      <td>1</td>\n",
              "      <td>0</td>\n",
              "      <td>0</td>\n",
              "      <td>0</td>\n",
              "      <td>0</td>\n",
              "      <td>0</td>\n",
              "      <td>0</td>\n",
              "      <td>1</td>\n",
              "    </tr>\n",
              "    <tr>\n",
              "      <th>12172</th>\n",
              "      <td>1.0</td>\n",
              "      <td>25.0</td>\n",
              "      <td>47</td>\n",
              "      <td>26.7</td>\n",
              "      <td>4</td>\n",
              "      <td>74</td>\n",
              "      <td>1</td>\n",
              "      <td>0</td>\n",
              "      <td>0</td>\n",
              "      <td>0</td>\n",
              "      <td>...</td>\n",
              "      <td>0</td>\n",
              "      <td>0</td>\n",
              "      <td>1</td>\n",
              "      <td>0</td>\n",
              "      <td>0</td>\n",
              "      <td>1</td>\n",
              "      <td>1</td>\n",
              "      <td>0</td>\n",
              "      <td>0</td>\n",
              "      <td>0</td>\n",
              "    </tr>\n",
              "    <tr>\n",
              "      <th>235</th>\n",
              "      <td>1.0</td>\n",
              "      <td>61.0</td>\n",
              "      <td>69</td>\n",
              "      <td>23.7</td>\n",
              "      <td>0</td>\n",
              "      <td>72</td>\n",
              "      <td>1</td>\n",
              "      <td>0</td>\n",
              "      <td>0</td>\n",
              "      <td>0</td>\n",
              "      <td>...</td>\n",
              "      <td>0</td>\n",
              "      <td>0</td>\n",
              "      <td>1</td>\n",
              "      <td>0</td>\n",
              "      <td>0</td>\n",
              "      <td>1</td>\n",
              "      <td>1</td>\n",
              "      <td>0</td>\n",
              "      <td>0</td>\n",
              "      <td>1</td>\n",
              "    </tr>\n",
              "    <tr>\n",
              "      <th>13349</th>\n",
              "      <td>1.0</td>\n",
              "      <td>43.0</td>\n",
              "      <td>79</td>\n",
              "      <td>35.3</td>\n",
              "      <td>2</td>\n",
              "      <td>72</td>\n",
              "      <td>1</td>\n",
              "      <td>0</td>\n",
              "      <td>0</td>\n",
              "      <td>0</td>\n",
              "      <td>...</td>\n",
              "      <td>0</td>\n",
              "      <td>0</td>\n",
              "      <td>1</td>\n",
              "      <td>0</td>\n",
              "      <td>0</td>\n",
              "      <td>1</td>\n",
              "      <td>0</td>\n",
              "      <td>1</td>\n",
              "      <td>0</td>\n",
              "      <td>0</td>\n",
              "    </tr>\n",
              "  </tbody>\n",
              "</table>\n",
              "<p>12000 rows × 22 columns</p>\n",
              "</div>"
            ],
            "text/plain": [
              "       const   age  weight   bmi  no_of_dependents  bloodpressure  sex_male  \\\n",
              "2643     1.0  43.0      79  24.7                 2             64         0   \n",
              "13352    1.0  47.0      46  29.4                 1             54         0   \n",
              "13117    1.0  36.0      58  29.0                 4             80         0   \n",
              "2560     1.0  55.0      54  33.0                 0             60         1   \n",
              "14297    1.0  34.0      54  21.4                 0             65         1   \n",
              "...      ...   ...     ...   ...               ...            ...       ...   \n",
              "905      1.0  37.0      76  38.4                 0             86         0   \n",
              "5192     1.0  25.0      67  42.1                 1             70         0   \n",
              "12172    1.0  25.0      47  26.7                 4             74         1   \n",
              "235      1.0  61.0      69  23.7                 0             72         1   \n",
              "13349    1.0  43.0      79  35.3                 2             72         1   \n",
              "\n",
              "       hereditary_diseases_Arthritis  hereditary_diseases_Cancer  \\\n",
              "2643                               0                           0   \n",
              "13352                              0                           0   \n",
              "13117                              0                           0   \n",
              "2560                               0                           0   \n",
              "14297                              0                           0   \n",
              "...                              ...                         ...   \n",
              "905                                0                           0   \n",
              "5192                               0                           0   \n",
              "12172                              0                           0   \n",
              "235                                0                           0   \n",
              "13349                              0                           0   \n",
              "\n",
              "       hereditary_diseases_Diabetes  ...  hereditary_diseases_HeartDisease  \\\n",
              "2643                              0  ...                                 0   \n",
              "13352                             0  ...                                 0   \n",
              "13117                             0  ...                                 0   \n",
              "2560                              0  ...                                 0   \n",
              "14297                             0  ...                                 0   \n",
              "...                             ...  ...                               ...   \n",
              "905                               0  ...                                 1   \n",
              "5192                              0  ...                                 0   \n",
              "12172                             0  ...                                 0   \n",
              "235                               0  ...                                 0   \n",
              "13349                             0  ...                                 0   \n",
              "\n",
              "       hereditary_diseases_High BP  hereditary_diseases_NoDisease  \\\n",
              "2643                             0                              1   \n",
              "13352                            0                              1   \n",
              "13117                            0                              1   \n",
              "2560                             0                              1   \n",
              "14297                            0                              1   \n",
              "...                            ...                            ...   \n",
              "905                              0                              0   \n",
              "5192                             0                              1   \n",
              "12172                            0                              1   \n",
              "235                              0                              1   \n",
              "13349                            0                              1   \n",
              "\n",
              "       hereditary_diseases_Obesity  smoker_1  diabetes_1  regular_ex_1  \\\n",
              "2643                             0         1           1             0   \n",
              "13352                            0         0           1             0   \n",
              "13117                            0         0           0             0   \n",
              "2560                             0         0           1             0   \n",
              "14297                            0         0           1             1   \n",
              "...                            ...       ...         ...           ...   \n",
              "905                              0         1           1             0   \n",
              "5192                             0         0           0             0   \n",
              "12172                            0         0           1             1   \n",
              "235                              0         0           1             1   \n",
              "13349                            0         0           1             0   \n",
              "\n",
              "       region_North-East  region_Southern  region_West  \n",
              "2643                   1                0            0  \n",
              "13352                  1                0            0  \n",
              "13117                  0                1            0  \n",
              "2560                   0                1            0  \n",
              "14297                  0                0            1  \n",
              "...                  ...              ...          ...  \n",
              "905                    0                0            0  \n",
              "5192                   0                0            1  \n",
              "12172                  0                0            0  \n",
              "235                    0                0            1  \n",
              "13349                  1                0            0  \n",
              "\n",
              "[12000 rows x 22 columns]"
            ]
          },
          "execution_count": 86,
          "metadata": {},
          "output_type": "execute_result"
        }
      ],
      "source": [
        "x_train"
      ]
    },
    {
      "cell_type": "code",
      "execution_count": null,
      "metadata": {
        "id": "tgweREyCj5V_"
      },
      "outputs": [],
      "source": [
        "Q-Q plot\n",
        "\n",
        "Residuals Normality\n",
        "\n",
        "\n",
        "Normal_distrubution (dist_plot)"
      ]
    },
    {
      "cell_type": "code",
      "execution_count": null,
      "metadata": {
        "id": "_6OE4aIej5V_"
      },
      "outputs": [],
      "source": [
        "## Statistical _tests"
      ]
    },
    {
      "cell_type": "raw",
      "metadata": {
        "id": "3VrA2uTkj5WA"
      },
      "source": [
        "Continuos vs Categorical  (2 groups(two_test_ind/f-oneway)   & > 2 groups(f_oneway))\n",
        "\n",
        "Continuos vs Continuos"
      ]
    },
    {
      "cell_type": "code",
      "execution_count": null,
      "metadata": {
        "id": "puS3ga1Wj5WA",
        "outputId": "feffb643-293c-4f41-ff0d-d1b468eab5eb"
      },
      "outputs": [
        {
          "data": {
            "text/html": [
              "<div>\n",
              "<style scoped>\n",
              "    .dataframe tbody tr th:only-of-type {\n",
              "        vertical-align: middle;\n",
              "    }\n",
              "\n",
              "    .dataframe tbody tr th {\n",
              "        vertical-align: top;\n",
              "    }\n",
              "\n",
              "    .dataframe thead th {\n",
              "        text-align: right;\n",
              "    }\n",
              "</style>\n",
              "<table border=\"1\" class=\"dataframe\">\n",
              "  <thead>\n",
              "    <tr style=\"text-align: right;\">\n",
              "      <th></th>\n",
              "      <th>age</th>\n",
              "      <th>sex</th>\n",
              "      <th>weight</th>\n",
              "      <th>bmi</th>\n",
              "      <th>hereditary_diseases</th>\n",
              "      <th>no_of_dependents</th>\n",
              "      <th>smoker</th>\n",
              "      <th>bloodpressure</th>\n",
              "      <th>diabetes</th>\n",
              "      <th>regular_ex</th>\n",
              "      <th>job_title</th>\n",
              "      <th>claim</th>\n",
              "      <th>region</th>\n",
              "    </tr>\n",
              "  </thead>\n",
              "  <tbody>\n",
              "    <tr>\n",
              "      <th>0</th>\n",
              "      <td>60.0</td>\n",
              "      <td>male</td>\n",
              "      <td>64</td>\n",
              "      <td>24.3</td>\n",
              "      <td>NoDisease</td>\n",
              "      <td>1</td>\n",
              "      <td>0</td>\n",
              "      <td>72</td>\n",
              "      <td>0</td>\n",
              "      <td>0</td>\n",
              "      <td>Actor</td>\n",
              "      <td>13112.6</td>\n",
              "      <td>North-East</td>\n",
              "    </tr>\n",
              "    <tr>\n",
              "      <th>1</th>\n",
              "      <td>49.0</td>\n",
              "      <td>female</td>\n",
              "      <td>75</td>\n",
              "      <td>22.6</td>\n",
              "      <td>NoDisease</td>\n",
              "      <td>1</td>\n",
              "      <td>0</td>\n",
              "      <td>78</td>\n",
              "      <td>1</td>\n",
              "      <td>1</td>\n",
              "      <td>Engineer</td>\n",
              "      <td>9567.0</td>\n",
              "      <td>North-East</td>\n",
              "    </tr>\n",
              "    <tr>\n",
              "      <th>2</th>\n",
              "      <td>32.0</td>\n",
              "      <td>female</td>\n",
              "      <td>64</td>\n",
              "      <td>17.8</td>\n",
              "      <td>Epilepsy</td>\n",
              "      <td>2</td>\n",
              "      <td>1</td>\n",
              "      <td>88</td>\n",
              "      <td>1</td>\n",
              "      <td>1</td>\n",
              "      <td>Academician</td>\n",
              "      <td>32734.2</td>\n",
              "      <td>North-East</td>\n",
              "    </tr>\n",
              "    <tr>\n",
              "      <th>3</th>\n",
              "      <td>61.0</td>\n",
              "      <td>female</td>\n",
              "      <td>53</td>\n",
              "      <td>36.4</td>\n",
              "      <td>NoDisease</td>\n",
              "      <td>1</td>\n",
              "      <td>1</td>\n",
              "      <td>72</td>\n",
              "      <td>1</td>\n",
              "      <td>0</td>\n",
              "      <td>Chef</td>\n",
              "      <td>48517.6</td>\n",
              "      <td>North-East</td>\n",
              "    </tr>\n",
              "    <tr>\n",
              "      <th>4</th>\n",
              "      <td>19.0</td>\n",
              "      <td>female</td>\n",
              "      <td>50</td>\n",
              "      <td>20.6</td>\n",
              "      <td>NoDisease</td>\n",
              "      <td>0</td>\n",
              "      <td>0</td>\n",
              "      <td>82</td>\n",
              "      <td>1</td>\n",
              "      <td>0</td>\n",
              "      <td>HomeMakers</td>\n",
              "      <td>1731.7</td>\n",
              "      <td>North-East</td>\n",
              "    </tr>\n",
              "  </tbody>\n",
              "</table>\n",
              "</div>"
            ],
            "text/plain": [
              "    age     sex  weight   bmi hereditary_diseases  no_of_dependents smoker  \\\n",
              "0  60.0    male      64  24.3           NoDisease                 1      0   \n",
              "1  49.0  female      75  22.6           NoDisease                 1      0   \n",
              "2  32.0  female      64  17.8            Epilepsy                 2      1   \n",
              "3  61.0  female      53  36.4           NoDisease                 1      1   \n",
              "4  19.0  female      50  20.6           NoDisease                 0      0   \n",
              "\n",
              "   bloodpressure diabetes regular_ex    job_title    claim      region  \n",
              "0             72        0          0        Actor  13112.6  North-East  \n",
              "1             78        1          1     Engineer   9567.0  North-East  \n",
              "2             88        1          1  Academician  32734.2  North-East  \n",
              "3             72        1          0         Chef  48517.6  North-East  \n",
              "4             82        1          0   HomeMakers   1731.7  North-East  "
            ]
          },
          "execution_count": 89,
          "metadata": {},
          "output_type": "execute_result"
        }
      ],
      "source": [
        "df.head()"
      ]
    },
    {
      "cell_type": "markdown",
      "metadata": {
        "id": "0_iDujdIj5WA"
      },
      "source": [
        "## Feature  Selection"
      ]
    },
    {
      "cell_type": "code",
      "execution_count": null,
      "metadata": {
        "id": "-KTqHR1cj5WA"
      },
      "outputs": [],
      "source": [
        "age,weight,bmi,bloodpressure"
      ]
    },
    {
      "cell_type": "code",
      "execution_count": null,
      "metadata": {
        "id": "q1yMElqjj5WA"
      },
      "outputs": [],
      "source": [
        "from scipy.stats import ttest_ind\n",
        "from scipy.stats import f_oneway"
      ]
    },
    {
      "cell_type": "code",
      "execution_count": null,
      "metadata": {
        "id": "jLBcd6Azj5WB",
        "outputId": "636733d2-27f2-4bfd-a8d9-b961ef13fbbf"
      },
      "outputs": [
        {
          "data": {
            "text/plain": [
              "Ttest_indResult(statistic=-134.70989747763886, pvalue=0.0)"
            ]
          },
          "execution_count": 91,
          "metadata": {},
          "output_type": "execute_result"
        }
      ],
      "source": [
        "ttest_ind(df['age'],df['claim'])"
      ]
    },
    {
      "cell_type": "code",
      "execution_count": null,
      "metadata": {
        "id": "M4HrD-vOj5WB",
        "outputId": "ba27ba72-7d48-4a7d-fc82-0a4305b30763"
      },
      "outputs": [
        {
          "data": {
            "text/plain": [
              "Ttest_indResult(statistic=-134.45432768576032, pvalue=0.0)"
            ]
          },
          "execution_count": 92,
          "metadata": {},
          "output_type": "execute_result"
        }
      ],
      "source": [
        "ttest_ind(df['weight'],df['claim'])"
      ]
    },
    {
      "cell_type": "code",
      "execution_count": null,
      "metadata": {
        "id": "TO7Y1CpGj5WC",
        "outputId": "f9e0a6d4-143d-46c4-a4d7-ab02096b961c"
      },
      "outputs": [
        {
          "data": {
            "text/plain": [
              "Ttest_indResult(statistic=-134.80438022965168, pvalue=0.0)"
            ]
          },
          "execution_count": 93,
          "metadata": {},
          "output_type": "execute_result"
        }
      ],
      "source": [
        "ttest_ind(df['bmi'],df['claim'])"
      ]
    },
    {
      "cell_type": "code",
      "execution_count": null,
      "metadata": {
        "id": "2xr1JAtcj5WC",
        "outputId": "a694df9f-adf0-48c0-d98b-375d68565247"
      },
      "outputs": [
        {
          "data": {
            "text/plain": [
              "Ttest_indResult(statistic=-134.38122926355155, pvalue=0.0)"
            ]
          },
          "execution_count": 94,
          "metadata": {},
          "output_type": "execute_result"
        }
      ],
      "source": [
        "ttest_ind(df['bloodpressure'],df['claim'])"
      ]
    },
    {
      "cell_type": "code",
      "execution_count": null,
      "metadata": {
        "id": "XEZGO2ckj5WC",
        "outputId": "f72fec83-b0bc-4259-c5ab-c2b5dbc0a8ae"
      },
      "outputs": [
        {
          "data": {
            "text/plain": [
              "Ttest_indResult(statistic=7.310964246812036, pvalue=2.7862825389691713e-13)"
            ]
          },
          "execution_count": 95,
          "metadata": {},
          "output_type": "execute_result"
        }
      ],
      "source": [
        "ttest_ind(df[df['sex']=='male']['claim'],df[df['sex']=='female']['claim'])"
      ]
    },
    {
      "cell_type": "code",
      "execution_count": null,
      "metadata": {
        "id": "tqegfQNtj5WC",
        "outputId": "d155c9f1-0a05-47f4-a710-e7a22d06bf8e"
      },
      "outputs": [
        {
          "data": {
            "text/plain": [
              "F_onewayResult(statistic=1.5877466688947581, pvalue=0.1900258594353809)"
            ]
          },
          "execution_count": 98,
          "metadata": {},
          "output_type": "execute_result"
        }
      ],
      "source": [
        "f_oneway(df[df['region']=='Southern']['claim'],df[df['region']=='West']['claim'],df[df['region']=='North-East']['claim'],df[df['region']=='Mid-West']['claim'])"
      ]
    },
    {
      "cell_type": "code",
      "execution_count": null,
      "metadata": {
        "id": "ivP6ELb3j5WD",
        "outputId": "965a6157-aac0-4b2f-c1e7-0b696c1723bc"
      },
      "outputs": [
        {
          "data": {
            "text/plain": [
              "Southern      4444\n",
              "West          4273\n",
              "North-East    3471\n",
              "Mid-West      2812\n",
              "Name: region, dtype: int64"
            ]
          },
          "execution_count": 97,
          "metadata": {},
          "output_type": "execute_result"
        }
      ],
      "source": [
        "df['region'].value_counts()"
      ]
    },
    {
      "cell_type": "code",
      "execution_count": null,
      "metadata": {
        "id": "u4PizI35j5WD",
        "outputId": "a0ed38bd-ec32-4f9c-f2ae-0d2bf2a6d016"
      },
      "outputs": [
        {
          "data": {
            "text/plain": [
              "Ttest_indResult(statistic=-149.41206009904465, pvalue=0.0)"
            ]
          },
          "execution_count": 99,
          "metadata": {},
          "output_type": "execute_result"
        }
      ],
      "source": [
        "ttest_ind(df[df['smoker']==0]['claim'],df[df['smoker']==1]['claim'])"
      ]
    },
    {
      "cell_type": "code",
      "execution_count": null,
      "metadata": {
        "id": "7suaGfxFj5WD",
        "outputId": "16bd5068-f812-4098-8e83-d651ba624e8f"
      },
      "outputs": [
        {
          "data": {
            "text/plain": [
              "Ttest_indResult(statistic=-16.732434028363265, pvalue=2.7904905369577934e-62)"
            ]
          },
          "execution_count": 100,
          "metadata": {},
          "output_type": "execute_result"
        }
      ],
      "source": [
        "ttest_ind(df[df['diabetes']==0]['claim'],df[df['diabetes']==1]['claim'])"
      ]
    },
    {
      "cell_type": "code",
      "execution_count": null,
      "metadata": {
        "id": "FDWe_yQhj5WD",
        "outputId": "27f31ba1-83e9-4ec7-ab18-e2e5676beec5"
      },
      "outputs": [
        {
          "data": {
            "text/plain": [
              "Ttest_indResult(statistic=7.4218031121223165, pvalue=1.2173630322894587e-13)"
            ]
          },
          "execution_count": 101,
          "metadata": {},
          "output_type": "execute_result"
        }
      ],
      "source": [
        "ttest_ind(df[df['regular_ex']==0]['claim'],df[df['regular_ex']==1]['claim'])"
      ]
    },
    {
      "cell_type": "code",
      "execution_count": null,
      "metadata": {
        "id": "Ddx71Mruj5WE"
      },
      "outputs": [],
      "source": [
        "df.drop(['job_title','region'],axis=1,inplace=True)"
      ]
    },
    {
      "cell_type": "code",
      "execution_count": null,
      "metadata": {
        "id": "OfKkXfC9j5WE",
        "outputId": "61f28a4d-c378-4958-9913-c4b64f063365"
      },
      "outputs": [
        {
          "data": {
            "text/plain": [
              "Index(['age', 'sex', 'weight', 'bmi', 'hereditary_diseases',\n",
              "       'no_of_dependents', 'smoker', 'bloodpressure', 'diabetes', 'regular_ex',\n",
              "       'job_title', 'claim', 'region'],\n",
              "      dtype='object')"
            ]
          },
          "execution_count": 102,
          "metadata": {},
          "output_type": "execute_result"
        }
      ],
      "source": [
        "df.columns"
      ]
    },
    {
      "cell_type": "code",
      "execution_count": null,
      "metadata": {
        "id": "KnL-uKI_j5WE",
        "outputId": "16fdd608-3660-4ac8-bd74-17cb705c0d2e"
      },
      "outputs": [
        {
          "data": {
            "text/html": [
              "<div>\n",
              "<style scoped>\n",
              "    .dataframe tbody tr th:only-of-type {\n",
              "        vertical-align: middle;\n",
              "    }\n",
              "\n",
              "    .dataframe tbody tr th {\n",
              "        vertical-align: top;\n",
              "    }\n",
              "\n",
              "    .dataframe thead th {\n",
              "        text-align: right;\n",
              "    }\n",
              "</style>\n",
              "<table border=\"1\" class=\"dataframe\">\n",
              "  <thead>\n",
              "    <tr style=\"text-align: right;\">\n",
              "      <th></th>\n",
              "      <th>age</th>\n",
              "      <th>sex</th>\n",
              "      <th>weight</th>\n",
              "      <th>bmi</th>\n",
              "      <th>hereditary_diseases</th>\n",
              "      <th>no_of_dependents</th>\n",
              "      <th>smoker</th>\n",
              "      <th>bloodpressure</th>\n",
              "      <th>diabetes</th>\n",
              "      <th>regular_ex</th>\n",
              "      <th>claim</th>\n",
              "    </tr>\n",
              "  </thead>\n",
              "  <tbody>\n",
              "    <tr>\n",
              "      <th>0</th>\n",
              "      <td>60.0</td>\n",
              "      <td>male</td>\n",
              "      <td>64</td>\n",
              "      <td>24.3</td>\n",
              "      <td>NoDisease</td>\n",
              "      <td>1</td>\n",
              "      <td>0</td>\n",
              "      <td>72</td>\n",
              "      <td>0</td>\n",
              "      <td>0</td>\n",
              "      <td>13112.6</td>\n",
              "    </tr>\n",
              "    <tr>\n",
              "      <th>1</th>\n",
              "      <td>49.0</td>\n",
              "      <td>female</td>\n",
              "      <td>75</td>\n",
              "      <td>22.6</td>\n",
              "      <td>NoDisease</td>\n",
              "      <td>1</td>\n",
              "      <td>0</td>\n",
              "      <td>78</td>\n",
              "      <td>1</td>\n",
              "      <td>1</td>\n",
              "      <td>9567.0</td>\n",
              "    </tr>\n",
              "    <tr>\n",
              "      <th>2</th>\n",
              "      <td>32.0</td>\n",
              "      <td>female</td>\n",
              "      <td>64</td>\n",
              "      <td>17.8</td>\n",
              "      <td>Epilepsy</td>\n",
              "      <td>2</td>\n",
              "      <td>1</td>\n",
              "      <td>88</td>\n",
              "      <td>1</td>\n",
              "      <td>1</td>\n",
              "      <td>32734.2</td>\n",
              "    </tr>\n",
              "    <tr>\n",
              "      <th>3</th>\n",
              "      <td>61.0</td>\n",
              "      <td>female</td>\n",
              "      <td>53</td>\n",
              "      <td>36.4</td>\n",
              "      <td>NoDisease</td>\n",
              "      <td>1</td>\n",
              "      <td>1</td>\n",
              "      <td>72</td>\n",
              "      <td>1</td>\n",
              "      <td>0</td>\n",
              "      <td>48517.6</td>\n",
              "    </tr>\n",
              "    <tr>\n",
              "      <th>4</th>\n",
              "      <td>19.0</td>\n",
              "      <td>female</td>\n",
              "      <td>50</td>\n",
              "      <td>20.6</td>\n",
              "      <td>NoDisease</td>\n",
              "      <td>0</td>\n",
              "      <td>0</td>\n",
              "      <td>82</td>\n",
              "      <td>1</td>\n",
              "      <td>0</td>\n",
              "      <td>1731.7</td>\n",
              "    </tr>\n",
              "  </tbody>\n",
              "</table>\n",
              "</div>"
            ],
            "text/plain": [
              "    age     sex  weight   bmi hereditary_diseases  no_of_dependents smoker  \\\n",
              "0  60.0    male      64  24.3           NoDisease                 1      0   \n",
              "1  49.0  female      75  22.6           NoDisease                 1      0   \n",
              "2  32.0  female      64  17.8            Epilepsy                 2      1   \n",
              "3  61.0  female      53  36.4           NoDisease                 1      1   \n",
              "4  19.0  female      50  20.6           NoDisease                 0      0   \n",
              "\n",
              "   bloodpressure diabetes regular_ex    claim  \n",
              "0             72        0          0  13112.6  \n",
              "1             78        1          1   9567.0  \n",
              "2             88        1          1  32734.2  \n",
              "3             72        1          0  48517.6  \n",
              "4             82        1          0   1731.7  "
            ]
          },
          "execution_count": 104,
          "metadata": {},
          "output_type": "execute_result"
        }
      ],
      "source": [
        "df.head()"
      ]
    },
    {
      "cell_type": "code",
      "execution_count": null,
      "metadata": {
        "id": "83kycLXyj5WF",
        "outputId": "4ccf28d6-863f-451a-a309-42f76c31f391"
      },
      "outputs": [
        {
          "data": {
            "text/plain": [
              "age                    0\n",
              "sex                    0\n",
              "weight                 0\n",
              "bmi                    0\n",
              "hereditary_diseases    0\n",
              "no_of_dependents       0\n",
              "smoker                 0\n",
              "bloodpressure          0\n",
              "diabetes               0\n",
              "regular_ex             0\n",
              "claim                  0\n",
              "dtype: int64"
            ]
          },
          "execution_count": 105,
          "metadata": {},
          "output_type": "execute_result"
        }
      ],
      "source": [
        "df.isnull().sum()"
      ]
    },
    {
      "cell_type": "code",
      "execution_count": null,
      "metadata": {
        "id": "tVadTi9Uj5WF"
      },
      "outputs": [],
      "source": [
        "df_num = df.select_dtypes(include=np.number)\n",
        "\n",
        "df_cat = df.select_dtypes(include=[np.object])"
      ]
    },
    {
      "cell_type": "code",
      "execution_count": null,
      "metadata": {
        "id": "4OSpLcgBj5WF"
      },
      "outputs": [],
      "source": [
        "cat_dummy = pd.get_dummies(df_cat,drop_first=True)"
      ]
    },
    {
      "cell_type": "code",
      "execution_count": null,
      "metadata": {
        "id": "tPNdrFU6j5WF"
      },
      "outputs": [],
      "source": [
        "final_df = pd.concat([df_num,cat_dummy],axis=1)"
      ]
    },
    {
      "cell_type": "code",
      "execution_count": null,
      "metadata": {
        "id": "FelrX8Dlj5WF",
        "outputId": "d413c20a-2347-4c62-ef1b-a1309a6c94d6"
      },
      "outputs": [
        {
          "data": {
            "text/html": [
              "<div>\n",
              "<style scoped>\n",
              "    .dataframe tbody tr th:only-of-type {\n",
              "        vertical-align: middle;\n",
              "    }\n",
              "\n",
              "    .dataframe tbody tr th {\n",
              "        vertical-align: top;\n",
              "    }\n",
              "\n",
              "    .dataframe thead th {\n",
              "        text-align: right;\n",
              "    }\n",
              "</style>\n",
              "<table border=\"1\" class=\"dataframe\">\n",
              "  <thead>\n",
              "    <tr style=\"text-align: right;\">\n",
              "      <th></th>\n",
              "      <th>age</th>\n",
              "      <th>weight</th>\n",
              "      <th>bmi</th>\n",
              "      <th>no_of_dependents</th>\n",
              "      <th>bloodpressure</th>\n",
              "      <th>claim</th>\n",
              "      <th>sex_male</th>\n",
              "      <th>hereditary_diseases_Arthritis</th>\n",
              "      <th>hereditary_diseases_Cancer</th>\n",
              "      <th>hereditary_diseases_Diabetes</th>\n",
              "      <th>hereditary_diseases_Epilepsy</th>\n",
              "      <th>hereditary_diseases_EyeDisease</th>\n",
              "      <th>hereditary_diseases_HeartDisease</th>\n",
              "      <th>hereditary_diseases_High BP</th>\n",
              "      <th>hereditary_diseases_NoDisease</th>\n",
              "      <th>hereditary_diseases_Obesity</th>\n",
              "      <th>smoker_1</th>\n",
              "      <th>diabetes_1</th>\n",
              "      <th>regular_ex_1</th>\n",
              "    </tr>\n",
              "  </thead>\n",
              "  <tbody>\n",
              "    <tr>\n",
              "      <th>0</th>\n",
              "      <td>60.0</td>\n",
              "      <td>64</td>\n",
              "      <td>24.3</td>\n",
              "      <td>1</td>\n",
              "      <td>72</td>\n",
              "      <td>13112.6</td>\n",
              "      <td>1</td>\n",
              "      <td>0</td>\n",
              "      <td>0</td>\n",
              "      <td>0</td>\n",
              "      <td>0</td>\n",
              "      <td>0</td>\n",
              "      <td>0</td>\n",
              "      <td>0</td>\n",
              "      <td>1</td>\n",
              "      <td>0</td>\n",
              "      <td>0</td>\n",
              "      <td>0</td>\n",
              "      <td>0</td>\n",
              "    </tr>\n",
              "    <tr>\n",
              "      <th>1</th>\n",
              "      <td>49.0</td>\n",
              "      <td>75</td>\n",
              "      <td>22.6</td>\n",
              "      <td>1</td>\n",
              "      <td>78</td>\n",
              "      <td>9567.0</td>\n",
              "      <td>0</td>\n",
              "      <td>0</td>\n",
              "      <td>0</td>\n",
              "      <td>0</td>\n",
              "      <td>0</td>\n",
              "      <td>0</td>\n",
              "      <td>0</td>\n",
              "      <td>0</td>\n",
              "      <td>1</td>\n",
              "      <td>0</td>\n",
              "      <td>0</td>\n",
              "      <td>1</td>\n",
              "      <td>1</td>\n",
              "    </tr>\n",
              "    <tr>\n",
              "      <th>2</th>\n",
              "      <td>32.0</td>\n",
              "      <td>64</td>\n",
              "      <td>17.8</td>\n",
              "      <td>2</td>\n",
              "      <td>88</td>\n",
              "      <td>32734.2</td>\n",
              "      <td>0</td>\n",
              "      <td>0</td>\n",
              "      <td>0</td>\n",
              "      <td>0</td>\n",
              "      <td>1</td>\n",
              "      <td>0</td>\n",
              "      <td>0</td>\n",
              "      <td>0</td>\n",
              "      <td>0</td>\n",
              "      <td>0</td>\n",
              "      <td>1</td>\n",
              "      <td>1</td>\n",
              "      <td>1</td>\n",
              "    </tr>\n",
              "    <tr>\n",
              "      <th>3</th>\n",
              "      <td>61.0</td>\n",
              "      <td>53</td>\n",
              "      <td>36.4</td>\n",
              "      <td>1</td>\n",
              "      <td>72</td>\n",
              "      <td>48517.6</td>\n",
              "      <td>0</td>\n",
              "      <td>0</td>\n",
              "      <td>0</td>\n",
              "      <td>0</td>\n",
              "      <td>0</td>\n",
              "      <td>0</td>\n",
              "      <td>0</td>\n",
              "      <td>0</td>\n",
              "      <td>1</td>\n",
              "      <td>0</td>\n",
              "      <td>1</td>\n",
              "      <td>1</td>\n",
              "      <td>0</td>\n",
              "    </tr>\n",
              "    <tr>\n",
              "      <th>4</th>\n",
              "      <td>19.0</td>\n",
              "      <td>50</td>\n",
              "      <td>20.6</td>\n",
              "      <td>0</td>\n",
              "      <td>82</td>\n",
              "      <td>1731.7</td>\n",
              "      <td>0</td>\n",
              "      <td>0</td>\n",
              "      <td>0</td>\n",
              "      <td>0</td>\n",
              "      <td>0</td>\n",
              "      <td>0</td>\n",
              "      <td>0</td>\n",
              "      <td>0</td>\n",
              "      <td>1</td>\n",
              "      <td>0</td>\n",
              "      <td>0</td>\n",
              "      <td>1</td>\n",
              "      <td>0</td>\n",
              "    </tr>\n",
              "  </tbody>\n",
              "</table>\n",
              "</div>"
            ],
            "text/plain": [
              "    age  weight   bmi  no_of_dependents  bloodpressure    claim  sex_male  \\\n",
              "0  60.0      64  24.3                 1             72  13112.6         1   \n",
              "1  49.0      75  22.6                 1             78   9567.0         0   \n",
              "2  32.0      64  17.8                 2             88  32734.2         0   \n",
              "3  61.0      53  36.4                 1             72  48517.6         0   \n",
              "4  19.0      50  20.6                 0             82   1731.7         0   \n",
              "\n",
              "   hereditary_diseases_Arthritis  hereditary_diseases_Cancer  \\\n",
              "0                              0                           0   \n",
              "1                              0                           0   \n",
              "2                              0                           0   \n",
              "3                              0                           0   \n",
              "4                              0                           0   \n",
              "\n",
              "   hereditary_diseases_Diabetes  hereditary_diseases_Epilepsy  \\\n",
              "0                             0                             0   \n",
              "1                             0                             0   \n",
              "2                             0                             1   \n",
              "3                             0                             0   \n",
              "4                             0                             0   \n",
              "\n",
              "   hereditary_diseases_EyeDisease  hereditary_diseases_HeartDisease  \\\n",
              "0                               0                                 0   \n",
              "1                               0                                 0   \n",
              "2                               0                                 0   \n",
              "3                               0                                 0   \n",
              "4                               0                                 0   \n",
              "\n",
              "   hereditary_diseases_High BP  hereditary_diseases_NoDisease  \\\n",
              "0                            0                              1   \n",
              "1                            0                              1   \n",
              "2                            0                              0   \n",
              "3                            0                              1   \n",
              "4                            0                              1   \n",
              "\n",
              "   hereditary_diseases_Obesity  smoker_1  diabetes_1  regular_ex_1  \n",
              "0                            0         0           0             0  \n",
              "1                            0         0           1             1  \n",
              "2                            0         1           1             1  \n",
              "3                            0         1           1             0  \n",
              "4                            0         0           1             0  "
            ]
          },
          "execution_count": 111,
          "metadata": {},
          "output_type": "execute_result"
        }
      ],
      "source": [
        "final_df.head()"
      ]
    },
    {
      "cell_type": "code",
      "execution_count": null,
      "metadata": {
        "id": "0cvagRPtj5WG"
      },
      "outputs": [],
      "source": [
        "## Scaling"
      ]
    },
    {
      "cell_type": "code",
      "execution_count": null,
      "metadata": {
        "id": "-HI_lGpLj5WG"
      },
      "outputs": [],
      "source": [
        "from sklearn.preprocessing import StandardScaler\n",
        "from sklearn.model_selection import train_test_split"
      ]
    },
    {
      "cell_type": "code",
      "execution_count": null,
      "metadata": {
        "id": "oAg779zvj5WG"
      },
      "outputs": [],
      "source": [
        "X = final_df.drop(['claim'],axis=1)\n",
        "Y  = final_df['claim']"
      ]
    },
    {
      "cell_type": "code",
      "execution_count": null,
      "metadata": {
        "id": "AiQbjtigj5WG"
      },
      "outputs": [],
      "source": [
        "xtrain,xtest,ytrain,ytest = train_test_split(X,Y,test_size=0.2,random_state=1000)"
      ]
    },
    {
      "cell_type": "code",
      "execution_count": null,
      "metadata": {
        "id": "iwAtKMIjj5WG"
      },
      "outputs": [],
      "source": [
        "xtrain_num =   xtrain[['age','bmi','bloodpressure','weight']]\n",
        "xtest_num   =  xtest[['age','bmi','bloodpressure','weight']]"
      ]
    },
    {
      "cell_type": "code",
      "execution_count": null,
      "metadata": {
        "id": "5Ma3GkJLj5WH",
        "outputId": "f7b14b8e-73cc-456c-9c61-e7c713571bbe"
      },
      "outputs": [
        {
          "data": {
            "text/html": [
              "<div>\n",
              "<style scoped>\n",
              "    .dataframe tbody tr th:only-of-type {\n",
              "        vertical-align: middle;\n",
              "    }\n",
              "\n",
              "    .dataframe tbody tr th {\n",
              "        vertical-align: top;\n",
              "    }\n",
              "\n",
              "    .dataframe thead th {\n",
              "        text-align: right;\n",
              "    }\n",
              "</style>\n",
              "<table border=\"1\" class=\"dataframe\">\n",
              "  <thead>\n",
              "    <tr style=\"text-align: right;\">\n",
              "      <th></th>\n",
              "      <th>age</th>\n",
              "      <th>bmi</th>\n",
              "      <th>bloodpressure</th>\n",
              "      <th>weight</th>\n",
              "    </tr>\n",
              "  </thead>\n",
              "  <tbody>\n",
              "    <tr>\n",
              "      <th>10756</th>\n",
              "      <td>40.0</td>\n",
              "      <td>27.4</td>\n",
              "      <td>68</td>\n",
              "      <td>63</td>\n",
              "    </tr>\n",
              "    <tr>\n",
              "      <th>589</th>\n",
              "      <td>20.0</td>\n",
              "      <td>29.4</td>\n",
              "      <td>70</td>\n",
              "      <td>59</td>\n",
              "    </tr>\n",
              "  </tbody>\n",
              "</table>\n",
              "</div>"
            ],
            "text/plain": [
              "        age   bmi  bloodpressure  weight\n",
              "10756  40.0  27.4             68      63\n",
              "589    20.0  29.4             70      59"
            ]
          },
          "execution_count": 135,
          "metadata": {},
          "output_type": "execute_result"
        }
      ],
      "source": [
        "xtrain_num.head(2)"
      ]
    },
    {
      "cell_type": "code",
      "execution_count": null,
      "metadata": {
        "id": "OeUqOmCDj5WH",
        "outputId": "069f548e-d191-4013-fcb5-076ac2196420"
      },
      "outputs": [
        {
          "data": {
            "text/html": [
              "<div>\n",
              "<style scoped>\n",
              "    .dataframe tbody tr th:only-of-type {\n",
              "        vertical-align: middle;\n",
              "    }\n",
              "\n",
              "    .dataframe tbody tr th {\n",
              "        vertical-align: top;\n",
              "    }\n",
              "\n",
              "    .dataframe thead th {\n",
              "        text-align: right;\n",
              "    }\n",
              "</style>\n",
              "<table border=\"1\" class=\"dataframe\">\n",
              "  <thead>\n",
              "    <tr style=\"text-align: right;\">\n",
              "      <th></th>\n",
              "      <th>age</th>\n",
              "      <th>bmi</th>\n",
              "      <th>bloodpressure</th>\n",
              "      <th>weight</th>\n",
              "    </tr>\n",
              "  </thead>\n",
              "  <tbody>\n",
              "    <tr>\n",
              "      <th>2604</th>\n",
              "      <td>54.0</td>\n",
              "      <td>46.4</td>\n",
              "      <td>90</td>\n",
              "      <td>75</td>\n",
              "    </tr>\n",
              "    <tr>\n",
              "      <th>6313</th>\n",
              "      <td>28.0</td>\n",
              "      <td>23.8</td>\n",
              "      <td>66</td>\n",
              "      <td>73</td>\n",
              "    </tr>\n",
              "  </tbody>\n",
              "</table>\n",
              "</div>"
            ],
            "text/plain": [
              "       age   bmi  bloodpressure  weight\n",
              "2604  54.0  46.4             90      75\n",
              "6313  28.0  23.8             66      73"
            ]
          },
          "execution_count": 136,
          "metadata": {},
          "output_type": "execute_result"
        }
      ],
      "source": [
        "xtest_num.head(2)"
      ]
    },
    {
      "cell_type": "code",
      "execution_count": null,
      "metadata": {
        "id": "GsuWD6hTj5WH"
      },
      "outputs": [],
      "source": []
    },
    {
      "cell_type": "code",
      "execution_count": null,
      "metadata": {
        "id": "EQoSYs_bj5WH"
      },
      "outputs": [],
      "source": [
        "xtrain_cat = xtrain.drop(['age','bmi','bloodpressure','weight'],axis=1)\n",
        "\n",
        "xtest_cat = xtest.drop(['age','bmi','bloodpressure','weight'],axis=1)\n"
      ]
    },
    {
      "cell_type": "code",
      "execution_count": null,
      "metadata": {
        "id": "Xl0X0zzZj5WH",
        "outputId": "2c401a96-00df-427b-c108-9ffd70652352"
      },
      "outputs": [
        {
          "data": {
            "text/html": [
              "<div>\n",
              "<style scoped>\n",
              "    .dataframe tbody tr th:only-of-type {\n",
              "        vertical-align: middle;\n",
              "    }\n",
              "\n",
              "    .dataframe tbody tr th {\n",
              "        vertical-align: top;\n",
              "    }\n",
              "\n",
              "    .dataframe thead th {\n",
              "        text-align: right;\n",
              "    }\n",
              "</style>\n",
              "<table border=\"1\" class=\"dataframe\">\n",
              "  <thead>\n",
              "    <tr style=\"text-align: right;\">\n",
              "      <th></th>\n",
              "      <th>no_of_dependents</th>\n",
              "      <th>sex_male</th>\n",
              "      <th>hereditary_diseases_Arthritis</th>\n",
              "      <th>hereditary_diseases_Cancer</th>\n",
              "      <th>hereditary_diseases_Diabetes</th>\n",
              "      <th>hereditary_diseases_Epilepsy</th>\n",
              "      <th>hereditary_diseases_EyeDisease</th>\n",
              "      <th>hereditary_diseases_HeartDisease</th>\n",
              "      <th>hereditary_diseases_High BP</th>\n",
              "      <th>hereditary_diseases_NoDisease</th>\n",
              "      <th>hereditary_diseases_Obesity</th>\n",
              "      <th>smoker_1</th>\n",
              "      <th>diabetes_1</th>\n",
              "      <th>regular_ex_1</th>\n",
              "    </tr>\n",
              "  </thead>\n",
              "  <tbody>\n",
              "    <tr>\n",
              "      <th>10756</th>\n",
              "      <td>1</td>\n",
              "      <td>0</td>\n",
              "      <td>0</td>\n",
              "      <td>0</td>\n",
              "      <td>0</td>\n",
              "      <td>0</td>\n",
              "      <td>0</td>\n",
              "      <td>0</td>\n",
              "      <td>0</td>\n",
              "      <td>1</td>\n",
              "      <td>0</td>\n",
              "      <td>0</td>\n",
              "      <td>1</td>\n",
              "      <td>1</td>\n",
              "    </tr>\n",
              "    <tr>\n",
              "      <th>589</th>\n",
              "      <td>0</td>\n",
              "      <td>1</td>\n",
              "      <td>0</td>\n",
              "      <td>0</td>\n",
              "      <td>0</td>\n",
              "      <td>0</td>\n",
              "      <td>0</td>\n",
              "      <td>0</td>\n",
              "      <td>0</td>\n",
              "      <td>1</td>\n",
              "      <td>0</td>\n",
              "      <td>1</td>\n",
              "      <td>1</td>\n",
              "      <td>0</td>\n",
              "    </tr>\n",
              "  </tbody>\n",
              "</table>\n",
              "</div>"
            ],
            "text/plain": [
              "       no_of_dependents  sex_male  hereditary_diseases_Arthritis  \\\n",
              "10756                 1         0                              0   \n",
              "589                   0         1                              0   \n",
              "\n",
              "       hereditary_diseases_Cancer  hereditary_diseases_Diabetes  \\\n",
              "10756                           0                             0   \n",
              "589                             0                             0   \n",
              "\n",
              "       hereditary_diseases_Epilepsy  hereditary_diseases_EyeDisease  \\\n",
              "10756                             0                               0   \n",
              "589                               0                               0   \n",
              "\n",
              "       hereditary_diseases_HeartDisease  hereditary_diseases_High BP  \\\n",
              "10756                                 0                            0   \n",
              "589                                   0                            0   \n",
              "\n",
              "       hereditary_diseases_NoDisease  hereditary_diseases_Obesity  smoker_1  \\\n",
              "10756                              1                            0         0   \n",
              "589                                1                            0         1   \n",
              "\n",
              "       diabetes_1  regular_ex_1  \n",
              "10756           1             1  \n",
              "589             1             0  "
            ]
          },
          "execution_count": 138,
          "metadata": {},
          "output_type": "execute_result"
        }
      ],
      "source": [
        "xtrain_cat.head(2)"
      ]
    },
    {
      "cell_type": "code",
      "execution_count": null,
      "metadata": {
        "id": "wqiP0qujj5WI"
      },
      "outputs": [],
      "source": [
        "sc = StandardScaler()"
      ]
    },
    {
      "cell_type": "code",
      "execution_count": null,
      "metadata": {
        "id": "EEpqUQLWj5WI"
      },
      "outputs": [],
      "source": [
        "xtrain_num = pd.DataFrame(sc.fit_transform(xtrain_num),columns=xtrain_num.columns)"
      ]
    },
    {
      "cell_type": "code",
      "execution_count": null,
      "metadata": {
        "id": "WGZ12wDij5WI"
      },
      "outputs": [],
      "source": [
        "xtest_num = pd.DataFrame(sc.transform(xtest_num),columns=xtest_num.columns)"
      ]
    },
    {
      "cell_type": "code",
      "execution_count": null,
      "metadata": {
        "id": "z_3_hry5j5WI",
        "outputId": "6fd0451f-af39-4eff-ad6e-574c89598183"
      },
      "outputs": [
        {
          "data": {
            "text/plain": [
              "(12000, 4)"
            ]
          },
          "execution_count": 147,
          "metadata": {},
          "output_type": "execute_result"
        }
      ],
      "source": [
        "xtrain_num.shape"
      ]
    },
    {
      "cell_type": "code",
      "execution_count": null,
      "metadata": {
        "id": "JqMCQ6Owj5WI",
        "outputId": "4672f79c-fbc6-4e32-8eab-4acb16763284"
      },
      "outputs": [
        {
          "data": {
            "text/plain": [
              "(3000, 4)"
            ]
          },
          "execution_count": 148,
          "metadata": {},
          "output_type": "execute_result"
        }
      ],
      "source": [
        "xtest_num.shape"
      ]
    },
    {
      "cell_type": "code",
      "execution_count": null,
      "metadata": {
        "id": "7qRsZjIvj5WJ"
      },
      "outputs": [],
      "source": [
        "xtrain_num.index=np.arange(0,12000)\n",
        "xtrain_cat.index=np.arange(0,12000)\n",
        "xtest_num.index=np.arange(0,3000)\n",
        "xtest_cat.index=np.arange(0,3000)"
      ]
    },
    {
      "cell_type": "code",
      "execution_count": null,
      "metadata": {
        "id": "bAb9zykij5WJ"
      },
      "outputs": [],
      "source": [
        "xtrain_scaled = pd.concat([xtrain_num,xtrain_cat],axis=1)"
      ]
    },
    {
      "cell_type": "code",
      "execution_count": null,
      "metadata": {
        "id": "ca073btQj5WJ"
      },
      "outputs": [],
      "source": [
        "xtest_scaled = pd.concat([xtest_num,xtest_cat],axis=1)"
      ]
    },
    {
      "cell_type": "code",
      "execution_count": null,
      "metadata": {
        "id": "I56x676qj5WK"
      },
      "outputs": [],
      "source": [
        "Sklearn Models\n",
        "\n",
        "Linear Regression\n",
        "\n",
        "Lasso\n",
        "\n",
        "Ridge\n",
        "\n",
        "Elastic_net\n",
        "\n",
        "Grid_model"
      ]
    },
    {
      "cell_type": "code",
      "execution_count": null,
      "metadata": {
        "id": "wftYkawEj5WK"
      },
      "outputs": [],
      "source": [
        "from sklearn.linear_model import LinearRegression"
      ]
    },
    {
      "cell_type": "code",
      "execution_count": null,
      "metadata": {
        "id": "eVoQHC1wj5WK",
        "outputId": "82fd1d9a-fbb9-4892-fa83-9f012094db63"
      },
      "outputs": [
        {
          "data": {
            "text/plain": [
              "LinearRegression()"
            ]
          },
          "execution_count": 155,
          "metadata": {},
          "output_type": "execute_result"
        }
      ],
      "source": [
        "LR = LinearRegression()\n",
        "LR.fit(xtrain_scaled,ytrain)"
      ]
    },
    {
      "cell_type": "code",
      "execution_count": null,
      "metadata": {
        "id": "dTfckl1jj5WK"
      },
      "outputs": [],
      "source": [
        "LR_pred = LR.predict(xtest_scaled)"
      ]
    },
    {
      "cell_type": "code",
      "execution_count": null,
      "metadata": {
        "id": "cnBWpffLj5WK"
      },
      "outputs": [],
      "source": [
        "from sklearn.metrics import r2_score,mean_squared_error,mean_absolute_error"
      ]
    },
    {
      "cell_type": "code",
      "execution_count": null,
      "metadata": {
        "id": "rZ7RavJdj5WL",
        "outputId": "18a5add6-fbe2-4414-cc56-37283cfe4b59"
      },
      "outputs": [
        {
          "data": {
            "text/plain": [
              "0.7590996681292462"
            ]
          },
          "execution_count": 159,
          "metadata": {},
          "output_type": "execute_result"
        }
      ],
      "source": [
        "r2_score(ytest,LR_pred)"
      ]
    },
    {
      "cell_type": "code",
      "execution_count": null,
      "metadata": {
        "id": "Np6Xh3Icj5WL",
        "outputId": "260ab9c2-8a2d-493f-9208-525a35b2cff1"
      },
      "outputs": [
        {
          "data": {
            "text/plain": [
              "3735.1912489680326"
            ]
          },
          "execution_count": 160,
          "metadata": {},
          "output_type": "execute_result"
        }
      ],
      "source": [
        "mean_absolute_error(ytest,LR_pred)"
      ]
    },
    {
      "cell_type": "code",
      "execution_count": null,
      "metadata": {
        "id": "mepohoh9j5WL",
        "outputId": "79c46ecb-39d6-490c-a2ba-0c9384114bea"
      },
      "outputs": [
        {
          "data": {
            "text/plain": [
              "33955712.743305765"
            ]
          },
          "execution_count": 161,
          "metadata": {},
          "output_type": "execute_result"
        }
      ],
      "source": [
        "mean_squared_error(ytest,LR_pred)"
      ]
    },
    {
      "cell_type": "code",
      "execution_count": null,
      "metadata": {
        "id": "ZHtg8Ox6j5WL"
      },
      "outputs": [],
      "source": [
        "from sklearn.linear_model import Ridge"
      ]
    },
    {
      "cell_type": "code",
      "execution_count": null,
      "metadata": {
        "id": "hiNjBiucj5WM"
      },
      "outputs": [],
      "source": [
        "Ridge = Ridge(alpha=1)"
      ]
    },
    {
      "cell_type": "code",
      "execution_count": null,
      "metadata": {
        "id": "K26bLpYkj5WM",
        "outputId": "141cf779-1ddb-4601-a118-d40ddcfbb170"
      },
      "outputs": [
        {
          "data": {
            "text/plain": [
              "Ridge(alpha=1)"
            ]
          },
          "execution_count": 164,
          "metadata": {},
          "output_type": "execute_result"
        }
      ],
      "source": [
        "Ridge.fit(xtrain_scaled,ytrain)"
      ]
    },
    {
      "cell_type": "code",
      "execution_count": null,
      "metadata": {
        "id": "O28pScG8j5WM"
      },
      "outputs": [],
      "source": [
        "ridge_pred = Ridge.predict(xtest_scaled)"
      ]
    },
    {
      "cell_type": "code",
      "execution_count": null,
      "metadata": {
        "id": "Lya2uf2Uj5WN",
        "outputId": "5c0bf3e6-bce3-4948-b47f-dbe4bc865756"
      },
      "outputs": [
        {
          "data": {
            "text/plain": [
              "0.7591137284325404"
            ]
          },
          "execution_count": 166,
          "metadata": {},
          "output_type": "execute_result"
        }
      ],
      "source": [
        "r2_score(ytest,ridge_pred)"
      ]
    },
    {
      "cell_type": "code",
      "execution_count": null,
      "metadata": {
        "id": "cfqWqeb9j5WN"
      },
      "outputs": [],
      "source": [
        "from sklearn.linear_model import Lasso"
      ]
    },
    {
      "cell_type": "code",
      "execution_count": null,
      "metadata": {
        "id": "iRrFGLTAj5WO"
      },
      "outputs": [],
      "source": [
        "Lasso = Lasso(alpha=1)"
      ]
    },
    {
      "cell_type": "code",
      "execution_count": null,
      "metadata": {
        "id": "g8m6cVd9j5WO",
        "outputId": "367228b0-99b6-4c94-990f-9301242e747c"
      },
      "outputs": [
        {
          "data": {
            "text/plain": [
              "Lasso(alpha=1)"
            ]
          },
          "execution_count": 172,
          "metadata": {},
          "output_type": "execute_result"
        }
      ],
      "source": [
        "Lasso.fit(xtrain_scaled,ytrain)"
      ]
    },
    {
      "cell_type": "code",
      "execution_count": null,
      "metadata": {
        "id": "XRjtCW8Qj5WO"
      },
      "outputs": [],
      "source": [
        "lasso_pred = Lasso.predict(xtest_scaled)"
      ]
    },
    {
      "cell_type": "code",
      "execution_count": null,
      "metadata": {
        "id": "nAOsRKqaj5WP",
        "outputId": "73d2b884-b9b7-4b0d-a809-4346b69e21d0"
      },
      "outputs": [
        {
          "data": {
            "text/plain": [
              "0.7591879718725514"
            ]
          },
          "execution_count": 174,
          "metadata": {},
          "output_type": "execute_result"
        }
      ],
      "source": [
        "r2_score(ytest,lasso_pred)"
      ]
    },
    {
      "cell_type": "code",
      "execution_count": null,
      "metadata": {
        "id": "rXHwv-Hjj5WP"
      },
      "outputs": [],
      "source": []
    }
  ],
  "metadata": {
    "kernelspec": {
      "display_name": "Python 3",
      "language": "python",
      "name": "python3"
    },
    "language_info": {
      "codemirror_mode": {
        "name": "ipython",
        "version": 3
      },
      "file_extension": ".py",
      "mimetype": "text/x-python",
      "name": "python",
      "nbconvert_exporter": "python",
      "pygments_lexer": "ipython3",
      "version": "3.8.5"
    },
    "colab": {
      "provenance": []
    }
  },
  "nbformat": 4,
  "nbformat_minor": 0
}